{
 "cells": [
  {
   "cell_type": "markdown",
   "metadata": {
    "collapsed": true
   },
   "source": [
    "![title](Analyzer_Package/datafiles/cms.png)\n",
    "    <p style=\"margin-right:5%; margin-left:5%; font-size:22px; font-weight: 200; line-height: 1.2em\">\n",
    "\n",
    "<p style=\"margin-right:8%; margin-left:8%; font-size:30px; font-weight: 200; line-height: 1.5em\">\n",
    "** How to do an Analysis in Particle Physics?**\n",
    "\n",
    "## INTRODUCTION\n",
    "### Events Reconstruction Z -> MuMu \n",
    "\n",
    "#### Work Tools \n",
    "\n",
    "Analyzer Package is a set of codes keeping all necessary tools needed to carry out a typical analysis in Particle Physics. It's been developed to be used by junior and senior students in the Physics Bachelor, but also it can be used in other academical levels and in science divulgation workshops. It takes in a user guide and a code repository. All data set are open source and can be found at: ..mytree.root..Created from PAT-Tuples Ana Yaiza...\n",
    "\n",
    "The analysis is composed by three exercises. The student will go progressively working on them to achieve the aim of this research, the study of the Z boson production in mumu channel.  \n",
    "\n",
    "The package software uses interactively the ROOT program (6.06/00) with a Python interpreter ( Python 2.7) due to a Python extension module PyROOT https://root.cern.ch/pyroot. All the framework is developed thanks to the CMSOpenData platform exclusively set at IFCA (cmsopendata.ifca.es) that allow to do all exercises through such a simple and intuitive interface as Jupyter is. It has two sub-packets generating the same results but running in two different ways:\n",
    "\n",
    "* Sequential Analyzer: The analysis is running sequentially in a single node. \n",
    "* PROOF Analyzer:**PROOF **is a ROOT extension enabling interactive analysis of large sets of ROOT files in parallel on clusters of computers or many-core machines. \n",
    "\n",
    "The **Analyzer_Package** folder contains: \n",
    "\n",
    "* The file createTTree.py creates the N-Tuples/tree (files/mytree.root) from PAT-Tuples dataset and it's executed by exeCreateTTree.py.\n",
    "* If the tree file is already created, the students just run the main script, main.py. To look for a better code organitation, locate the file inside the \"files\" folder.\n",
    "\n",
    "* The code written in main.py executes Analyzer.py, the file who really makes the analysis. Analyzer.py reads the events from the tree, selects the muons following the selections cuts previously defined in Cuts.py and creates the histograms for each muon variable.\n",
    "\n",
    "* In the subfolder Analysis_PROOF, the code is written in PROOF. You only have to run the main_PROOF.py script. \n",
    "\n",
    "* There are some [**examples**](##Examples) to guide the user through the code\n",
    "\n",
    "\n",
    "#### Task Description \n",
    "\n",
    "Starting with all physical events detected by CMS during XX period in 2010, the students will be asked for the specific muon's collection PAT.. They should classify the events following physical selection criteria, deciding which muons could have been originated in a Z->mumu decay.\n",
    "\n",
    "Each student should have some basics about how the detector works, e.g. what kind of 'traces' the different particles leave in the various detectors( tracker, caloremeters, muon chambers) and which are the main kinematics variables in a modern experimental particle physics standard analysis. \n",
    "\n",
    "The three exercises in the analysis are structured as follows: \n",
    "\n",
    " 1. ** Muon identification **: Display different histograms for the main kinematics variables in order to identify and isolate which muons proceed  from Z->mumu decays. Establish the selection criteria.\n",
    "\n",
    " 2. ** Candidates selection **: Apply the selection criteria and notice through the new histograms how the problem is enclosed as the same time that the statistic uncertainty is getting bigger.    \n",
    "\n",
    " 3. ** Analysis **: After choose the most efficient selection, find out the invariant mass of the  pair mu+ mu-  candidates and do a statistical analysis of the results ( Z mass, width, gaussian fit ...). Solve some questions.\n",
    "\n",
    "\n",
    "Each section will consist always of 4 different aspects:\n",
    "\n",
    "  1. Discussion and motivation about the target of the current section.\n",
    "  \n",
    "  2. Interactive explanation of the procedures involved to achieve the target.\n",
    "\n",
    "  3. Practical implementation.\n",
    "\n",
    "  4. Questions and conclusions.  \n",
    "\n",
    "\n",
    "## EXAMPLES\n",
    " \n",
    "#### [Example 1][examples/]Example1.ipynb: Muon identification\n",
    "* Start the Analysis and create the first histograms\n",
    "* Display those histograms and get some conclusions\n",
    "\n",
    "#### Example 2:  Candidates selection\n",
    "\n",
    "* Apply the selection criteria \n",
    "* ....\n",
    "\n",
    "#### Example 3:  Analysis\n",
    "\n",
    "* Find out the invariant mass of the two pair mu+ mu- of candidates \n",
    "* Do a statistical analysis of the results ( Z mass, width,...).\n",
    "\n",
    "**NOTE:** Once yo run the code from each cell, the results are automatically displayed on screen under the cell that you just run."
   ]
  },
  {
   "cell_type": "code",
   "execution_count": null,
   "metadata": {
    "collapsed": true
   },
   "outputs": [],
   "source": []
  }
 ],
 "metadata": {
  "kernelspec": {
   "display_name": "Python 2",
   "language": "python",
   "name": "python2"
  },
  "language_info": {
   "codemirror_mode": {
    "name": "ipython",
    "version": 2
   },
   "file_extension": ".py",
   "mimetype": "text/x-python",
   "name": "python",
   "nbconvert_exporter": "python",
   "pygments_lexer": "ipython2",
   "version": "2.7.6"
  }
 },
 "nbformat": 4,
 "nbformat_minor": 0
}
