{
 "cells": [
  {
   "cell_type": "markdown",
   "metadata": {},
   "source": [
    "![title](../Analyzer_Package/datafiles/cms.png)\n",
    "    <p style=\"margin-right:5%; margin-left:5%; font-size:22px; font-weight: 200; line-height: 1.2em\">\n",
    "\n",
    "<p style=\"margin-right:8%; margin-left:8%; font-size:28px; font-weight: 200; line-height: 1.5em\">\n",
    "**First Part: How to do an Analysis in Particle Physics?**\n",
    "\n",
    "## Example 1: Muon Identification\n",
    "This example is divided in two parts: \n",
    "\n",
    "* Learn how to do an analysis based on a tree of events\n",
    "* Stablish a good selection criteria\n",
    "\n",
    "(All code you are going to need is provided in Analyzer_Package, so you can access it as many times as you need and check in it your questions.)    \n",
    "\n",
    "Let's start with the analysis of the tree!\n",
    "\n",
    "In this context, a tree is a set of arrranged events created from...(patuples in web..)...with createTTree.py and exeCreateTTree.py scripts. This dataset is a simplified version of the original data and we call it **mytree.root**. The collection reach miles of events with one or more particles in each one. So, to read and manage such amount of data you need a spezializate software. In this first step, you must look at **Analyzer_All.py** script. This code read each event of the tree and fill a number of histograms. Each event knows how many particles were created and for each one, which are the value of their kinematics variables, so, the result of Analyzer_All.py is a set of histograms that contain valuable statistic information about each kinematic variable for all particles produced a long of all events. The aim of this exercise is to isolate the muons that proceed from Z->mumu decays and stablish a good selection criteria. For that, you must plot different histograms and get some conclusions needed in the following parts.  \n",
    "\n",
    "**NOTE:** \n",
    "\n",
    "For each exercise, to run the code is necessary import **ROOT**.\n"
   ]
  },
  {
   "cell_type": "code",
   "execution_count": 4,
   "metadata": {
    "collapsed": false
   },
   "outputs": [],
   "source": [
    "# Import ROOT\n",
    "import ROOT"
   ]
  },
  {
   "cell_type": "code",
   "execution_count": 2,
   "metadata": {
    "collapsed": false
   },
   "outputs": [
    {
     "name": "stdout",
     "output_type": "stream",
     "text": [
      "/home/jupyter/CmsOpenData/Analyzer_Package\n"
     ]
    }
   ],
   "source": [
    "cd ../Analyzer_Package/"
   ]
  },
  {
   "cell_type": "markdown",
   "metadata": {},
   "source": [
    "* ### Run the Analysis\n",
    "<p style=\"margin-right:0%; margin-left:0%; font-size:14px; font-weight: 200; line-height: 1.2em\">\n",
    "Perform the analysis, running the module **Analyzer_All.py** and  obtain a root file: **histos.root** stored in **datafiles** folder that contains the histograms for all muons. Each histogram is saved with a name started by *h_* followed by the *name of the kinematic variable*."
   ]
  },
  {
   "cell_type": "code",
   "execution_count": 27,
   "metadata": {
    "collapsed": false
   },
   "outputs": [
    {
     "name": "stdout",
     "output_type": "stream",
     "text": [
      "The histograms for all muons are saved in datafiles/histos.root\n"
     ]
    }
   ],
   "source": [
    "# Import the Analyzer module that performs the readinf of all events from the tree\n",
    "from Analyzer_All import Analyzer\n",
    "\n",
    "# Call to the analysis and create the root file for histograms\n",
    "analysis=Analyzer()\n",
    "analysis.process()"
   ]
  },
  {
   "cell_type": "markdown",
   "metadata": {},
   "source": [
    "* ### Check your h_histogram\n",
    "<p style=\"margin-right:0%; margin-left:0%; font-size:14px; font-weight: 200; line-height: 1.2em\">\n",
    "Open the histos.root file for reading and printing the list of histograms saved in it."
   ]
  },
  {
   "cell_type": "code",
   "execution_count": 3,
   "metadata": {
    "collapsed": false,
    "scrolled": true
   },
   "outputs": [
    {
     "name": "stdout",
     "output_type": "stream",
     "text": [
      "TFile**\t\tdatafiles/histos.root\t\r\n",
      " TFile*\t\tdatafiles/histos.root\t\r\n",
      "  KEY: TH1F\th_pt;1\tMuons Transverse Momentun\r\n",
      "  KEY: TH1F\th_px;1\tMuons x- Momentun\r\n",
      "  KEY: TH1F\th_py;1\tMuons y- Momentun\r\n",
      "  KEY: TH1F\th_pz;1\tMuons z- Momentun\r\n",
      "  KEY: TH1F\th_eta;1\tAngle Transvese\r\n",
      "  KEY: TH1F\th_energy;1\tMuons Energy\r\n",
      "  KEY: TH1F\th_distance;1\tDistance from Primary vertex Z \r\n",
      "  KEY: TH1F\th_charge;1\tMuons Charge\r\n",
      "  KEY: TH1F\th_normChi2;1\tMuons Chi2\r\n",
      "  KEY: TH1F\th_numberOfValidHits;1\tNumber of Valid Hits\r\n",
      "  KEY: TH1F\th_dB;1\tImpact Parameter\r\n",
      "  KEY: TH1F\th_isolation_sumPt;1\tIsolationX\r\n",
      "  KEY: TH1F\th_isolation_emEt;1\tIsolationX\r\n",
      "  KEY: TH1F\th_isolation_hadEt;1\tIsolationX\r\n",
      "  KEY: TH1F\th_mass;1\tInv_mass\r\n"
     ]
    }
   ],
   "source": [
    "# Get the root file that contains the histograms for all muons: histos.root.\n",
    "Hfile=ROOT.TFile(\"datafiles/histos.root\", \"read\")\n",
    "# List the histograms in the file\n",
    "Hfile.ls()"
   ]
  },
  {
   "cell_type": "markdown",
   "metadata": {
    "collapsed": true
   },
   "source": [
    "* ### Learn the kinematic variables\n",
    "<p style=\"margin-right:0%; margin-left:0%; font-size:14px; font-weight: 200; line-height: 1.2em\">\n",
    "Here you have a set of varibles and the name used to save their histogram:\n",
    "\n",
    "             - momentum trensverse pt :                               'h_pt'\n",
    "             - momentum X-coordinate px:                              'h_px'\n",
    "             - momentum Y-coordinate py:                              'h_py'\n",
    "             - momentum Z-coordinate pz:                              'h_pz' \n",
    "             - angle transverse eta :                                 'h_eta'\n",
    "             - energy :                                               'h_energy'\n",
    "             - charge :                                               'h_charge'\n",
    "             - distance between particle Z-coord and Primary Vertex : 'h_distance'\n",
    "             - impact paremeter dB:                                   'h_dB'\n",
    "             - isolation:                                             'h_isolation'\n",
    "             - invariant mass:                                        'h_mass'\n",
    "             - normalize Chi2 normChi2:                               'h_normChi2'\n",
    "             - numValidHits :                                         'h_numberOfValidHits'\n",
    "             \n",
    "\n",
    "                "
   ]
  },
  {
   "cell_type": "markdown",
   "metadata": {},
   "source": [
    "* ### Draw Histos\n",
    "<p style=\"margin-right:0%; margin-left:0%; font-size:14px; font-weight: 200; line-height: 1.2em\">\n",
    "Once you have that file,  the next step is to plot the histogram. Here, we detail some procedures  "
   ]
  },
  {
   "cell_type": "markdown",
   "metadata": {},
   "source": [
    "* #### First method: \n",
    "\n",
    "<p style=\"margin-right:0%; margin-left:0%; font-size:15px; font-weight: 200; line-height: 1.2em\">\n",
    "**1.**         Create a ROOT  canvas and draw the histogram on it. "
   ]
  },
  {
   "cell_type": "code",
   "execution_count": 4,
   "metadata": {
    "collapsed": false
   },
   "outputs": [
    {
     "data": {
      "image/png": "[encoded data removed]",
      "text/plain": [
       "<IPython.core.display.Image object>"
      ]
     },
     "metadata": {},
     "output_type": "display_data"
    }
   ],
   "source": [
    "### Get the root file that contains the histograms for all muons: histos.root.\n",
    "Hfile=ROOT.TFile(\"datafiles/histos.root\", \"read\")\n",
    "\n",
    "### You must create a variable to store the histogram selected.\n",
    "histo1=Hfile.Get('h_pt')\n",
    "\n",
    "### First: Create the canvas where the histogram is going to be drawn\n",
    "canvas = ROOT.TCanvas(\"myCanvas\",\"All muons: NormChi2\",800,600)\n",
    "\n",
    "### Second: Draw the histogram\n",
    "histo1.Draw()\n",
    "\n",
    "### Third : Draw the canvas\n",
    "canvas.Draw()"
   ]
  },
  {
   "cell_type": "markdown",
   "metadata": {},
   "source": [
    "\n",
    "**2.** Set your favorite configuration. \n",
    "\n",
    "Once you have created the variable where the histogram is stored, and after drawing it, you can set the histogram and the canvas for a better customization. \n",
    "\n",
    "References:\n",
    "\n",
    "[Tcolor Class](https://root.cern.ch/doc/master/classTColor.html)\n",
    "\n",
    "[Histogram Customization](https://root.cern.ch/doc/v606/classTHistPainter.html)\n",
    "\n",
    "[Marker Atributtes such as color, size or style for histograms](https://root.cern.ch/doc/master/classTAttMarker.html)"
   ]
  },
  {
   "cell_type": "code",
   "execution_count": 5,
   "metadata": {
    "collapsed": false,
    "scrolled": true
   },
   "outputs": [
    {
     "data": {
      "image/png": "[encoded data removed]",
      "text/plain": [
       "<IPython.core.display.Image object>"
      ]
     },
     "metadata": {},
     "output_type": "display_data"
    }
   ],
   "source": [
    "### Change the line color\n",
    "histo1.SetLineColor(4)\n",
    "\n",
    "### Change the bounds of the histograms for X Axis \n",
    "histo1.GetXaxis().SetRangeUser(40, 120);\n",
    "\n",
    "### Change the bins for the histograms by diving by a divisor of the initial number of bins. \n",
    "## Note: To restore the binning you must to draw the histo again.\n",
    "histo1.Rebin(2)\n",
    "\n",
    "### Create the legend. TLegend(x1, y1, x2, y2)\n",
    "legend =ROOT.TLegend(0.1,0.2,0.30,0.3);\n",
    "legend.SetHeader(\"The Legend Title\");\n",
    "legend.AddEntry(histo1,\"All muons\",\"l\");\n",
    "#legend->AddEntry(\"gr\",\"Graph with error bars\",\"lep\");\n",
    "legend.Draw();\n",
    "\n",
    "### Twist linear scale for Y axe to the logaritmic one with the function SetLogy.\n",
    "canvas.SetLogy()\n",
    "\n",
    "### Draw the histogram again and check your changes \n",
    "canvas.Draw()"
   ]
  },
  {
   "cell_type": "markdown",
   "metadata": {},
   "source": [
    "**3.**         Save the image in a .png file. \n",
    "\n",
    "The previous procedure does not save the image automatically, it just shows you the picture. This statement can be written before or after stablish your favorite setting. Hence, you can collect both histograms for the analysis. "
   ]
  },
  {
   "cell_type": "code",
   "execution_count": 6,
   "metadata": {
    "collapsed": false
   },
   "outputs": [
    {
     "name": "stderr",
     "output_type": "stream",
     "text": [
      "Info in <TCanvas::Print>: png file ../output_histograms/pt.png has been created\r\n"
     ]
    }
   ],
   "source": [
    "# If you want keep it, you must type: \n",
    "# NOTE: Write the name of the file \n",
    "\n",
    "name = \"pt\"\n",
    "canvas.SaveAs(\"../output_histograms/\"+ name +\".png\")\n",
    "\n",
    "# This save the image as a .png file."
   ]
  },
  {
   "cell_type": "markdown",
   "metadata": {},
   "source": [
    "** 4.1.** And set again your preferences. ** PAY ATTENTION :** some settings are applied on the histo variable some others on the canvas.  "
   ]
  },
  {
   "cell_type": "markdown",
   "metadata": {},
   "source": [
    "* ### Second method: \n",
    "\n",
    "**1.** Import **Histos module** and draw the histograms directly.\n",
    "\n",
    "Histos module correspond to the Histos.py script that has been designed to draw, customize and save the histograms in a easier way. At this moment, our purpose is to plot different 'h_variable' histogram and configure their visual parameters, so all you need is a function named **DrawHi(  )** and a funtion named ** Setting(  )** respectively. All the histograms are automatically saved in the main folder: **output_histograms**.  "
   ]
  },
  {
   "cell_type": "markdown",
   "metadata": {},
   "source": [
    "**DrawHi(  ) accepts as many parameters as you want, but you have just two conditions:**\n",
    "\n",
    "* You must type between quotes the correct name of the histogram you want to plot in one canvas i.e 'h_pt'\n",
    "* You must type in a tuple and between quotes the name of the different histograms you want to draw in the same canvas i.e ('h_pt', 'h_distance','h_eta')\n",
    "\n"
   ]
  },
  {
   "cell_type": "code",
   "execution_count": 16,
   "metadata": {
    "collapsed": false
   },
   "outputs": [
    {
     "name": "stderr",
     "output_type": "stream",
     "text": [
      "TCanvas::Constructor:0: RuntimeWarning: Deleting canvas with same name: \n"
     ]
    },
    {
     "ename": "ReferenceError",
     "evalue": "attempt to access a null-pointer",
     "output_type": "error",
     "traceback": [
      "\u001b[1;31m---------------------------------------------------------------------------\u001b[0m",
      "\u001b[1;31mReferenceError\u001b[0m                            Traceback (most recent call last)",
      "\u001b[1;32m<ipython-input-16-8e3d530ac5e2>\u001b[0m in \u001b[0;36m<module>\u001b[1;34m()\u001b[0m\n\u001b[0;32m      3\u001b[0m \u001b[0mhisto\u001b[0m \u001b[1;33m=\u001b[0m \u001b[0mHistos\u001b[0m\u001b[1;33m(\u001b[0m\u001b[1;33m)\u001b[0m\u001b[1;33m\u001b[0m\u001b[0m\n\u001b[0;32m      4\u001b[0m \u001b[1;33m\u001b[0m\u001b[0m\n\u001b[1;32m----> 5\u001b[1;33m \u001b[0mhisto\u001b[0m\u001b[1;33m.\u001b[0m\u001b[0mDrawHi\u001b[0m\u001b[1;33m(\u001b[0m\u001b[1;34m'h_pt'\u001b[0m\u001b[1;33m,\u001b[0m \u001b[1;34m'h_mass'\u001b[0m\u001b[1;33m)\u001b[0m\u001b[1;33m\u001b[0m\u001b[0m\n\u001b[0m",
      "\u001b[1;32mHistos.pyc\u001b[0m in \u001b[0;36mDrawHi\u001b[1;34m(self, *args)\u001b[0m\n",
      "\u001b[1;32mHistos.pyc\u001b[0m in \u001b[0;36mCanvasCre\u001b[1;34m(self, mylist, name)\u001b[0m\n",
      "\u001b[1;31mReferenceError\u001b[0m: attempt to access a null-pointer"
     ]
    },
    {
     "name": "stderr",
     "output_type": "stream",
     "text": [
      "[IPKernelApp] ERROR | No such comm target registered: ipython.widget\r\n",
      "[IPKernelApp] ERROR | No such comm target registered: ipython.widget\r\n",
      "[IPKernelApp] ERROR | No such comm target registered: ipython.widget\r\n",
      "[IPKernelApp] ERROR | No such comm target registered: ipython.widget\r\n",
      "Error in <TFile::TFile>: file datafiles/histos.root does not exist\r\n",
      "Error in <TFile::TFile>: file datafiles/goodHistos.root does not exist\r\n"
     ]
    }
   ],
   "source": [
    "from Histos import Histos\n",
    "\n",
    "histo = Histos()\n",
    "\n",
    "histo.DrawHi('h_pt', 'h_mass')"
   ]
  },
  {
   "cell_type": "markdown",
   "metadata": {},
   "source": [
    "** Setting(  ) set some changes to get better information. The name of the histogram you want to modify and the name with one you want to store the current versions are mandatory.**\n",
    "\n",
    "<p style=\"margin-right:0%; margin-left:0%; font-size:16px; font-weight: 200; line-height: 1.2em\">\n",
    "\n",
    "* Set the scale typing: scale = LogY or scale = LogX\n",
    "* Set the binning typing : nbin = #\n",
    "* Set the limits in x axis typing : xlimits = (xmin, xmax)\n",
    "* Set the legend typing : legend = True\n"
   ]
  },
  {
   "cell_type": "code",
   "execution_count": 10,
   "metadata": {
    "collapsed": false
   },
   "outputs": [
    {
     "name": "stderr",
     "output_type": "stream",
     "text": [
      "TCanvas::Constructor:0: RuntimeWarning: Deleting canvas with same name: \n"
     ]
    },
    {
     "data": {
      "image/png": "[encoded data removed]",
      "text/plain": [
       "<IPython.core.display.Image object>"
      ]
     },
     "metadata": {},
     "output_type": "display_data"
    },
    {
     "name": "stdout",
     "output_type": "stream",
     "text": [
      "<ROOT.TH1F object (\"h_distance\") at 0x50b6880>\n"
     ]
    },
    {
     "data": {
      "image/png": "[encoded data removed]",
      "text/plain": [
       "<IPython.core.display.Image object>"
      ]
     },
     "metadata": {},
     "output_type": "display_data"
    },
    {
     "name": "stderr",
     "output_type": "stream",
     "text": [
      "Info in <TCanvas::Print>: png file ../output_histograms/namess.png has been created\r\n",
      "Info in <TCanvas::Print>: png file ../output_histograms/distance_changed.png has been created\r\n"
     ]
    }
   ],
   "source": [
    "f= Histos()\n",
    "#histogram = f.DrawHi('g_mass')\n",
    "f.Setting('distance_changed', 'h_distance', scale = 'LogY', nbin = 2, xlimits = (0,100), legend = True )"
   ]
  },
  {
   "cell_type": "code",
   "execution_count": 11,
   "metadata": {
    "collapsed": false
   },
   "outputs": [
    {
     "name": "stderr",
     "output_type": "stream",
     "text": [
      "TCanvas::Constructor:0: RuntimeWarning: Deleting canvas with same name: \n"
     ]
    }
   ],
   "source": [
    "j=Histos()\n"
   ]
  },
  {
   "cell_type": "code",
   "execution_count": 12,
   "metadata": {
    "collapsed": false
   },
   "outputs": [
    {
     "data": {
      "image/png": "[encoded data removed]",
      "text/plain": [
       "<IPython.core.display.Image object>"
      ]
     },
     "metadata": {},
     "output_type": "display_data"
    },
    {
     "name": "stdout",
     "output_type": "stream",
     "text": [
      "(<ROOT.TH1F object (\"h_distance\") at 0x5098260>, <ROOT.TH1F object (\"h_pt\") at 0x50c0860>)\n",
      "<ROOT.TH1F object (\"h_distance\") at 0x5098260>\n",
      "<ROOT.TH1F object (\"h_pt\") at 0x50c0860>\n"
     ]
    },
    {
     "data": {
      "image/png": "[encoded data removed]",
      "text/plain": [
       "<IPython.core.display.Image object>"
      ]
     },
     "metadata": {},
     "output_type": "display_data"
    },
    {
     "name": "stderr",
     "output_type": "stream",
     "text": [
      "Info in <TCanvas::Print>: png file ../output_histograms/namess.png has been created\r\n",
      "Info in <TCanvas::Print>: png file ../output_histograms/probe.png has been created\r\n"
     ]
    }
   ],
   "source": [
    "j.Setting('probe',('h_distance','h_pt'), xlimits = (30,100))"
   ]
  },
  {
   "cell_type": "markdown",
   "metadata": {
    "collapsed": true
   },
   "source": [
    "### Once the histogram is saved in the folder, you can draw it\n",
    "After do it, go to the folder that contains the histograms"
   ]
  },
  {
   "cell_type": "code",
   "execution_count": 13,
   "metadata": {
    "collapsed": false
   },
   "outputs": [
    {
     "name": "stdout",
     "output_type": "stream",
     "text": [
      "/home/jupyter/CmsOpenData/output_histograms\n"
     ]
    }
   ],
   "source": [
    "cd ../output_histograms"
   ]
  },
  {
   "cell_type": "code",
   "execution_count": 15,
   "metadata": {
    "collapsed": false
   },
   "outputs": [
    {
     "data": {
      "image/png": "[encoded data removed]",
      "text/plain": [
       "<IPython.core.display.Image object>"
      ]
     },
     "execution_count": 15,
     "metadata": {},
     "output_type": "execute_result"
    }
   ],
   "source": [
    "from IPython.display import Image\n",
    "Image(filename= \"pt.png\")"
   ]
  },
  {
   "cell_type": "code",
   "execution_count": null,
   "metadata": {
    "collapsed": true
   },
   "outputs": [],
   "source": []
  },
  {
   "cell_type": "code",
   "execution_count": null,
   "metadata": {
    "collapsed": true
   },
   "outputs": [],
   "source": []
  }
 ],
 "metadata": {
  "kernelspec": {
   "display_name": "Python 2",
   "language": "python",
   "name": "python2"
  },
  "language_info": {
   "codemirror_mode": {
    "name": "ipython",
    "version": 2
   },
   "file_extension": ".py",
   "mimetype": "text/x-python",
   "name": "python",
   "nbconvert_exporter": "python",
   "pygments_lexer": "ipython2",
   "version": "2.7.6"
  }
 },
 "nbformat": 4,
 "nbformat_minor": 0
}
