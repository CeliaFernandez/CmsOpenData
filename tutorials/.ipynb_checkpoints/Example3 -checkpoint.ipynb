{
 "cells": [
  {
   "cell_type": "markdown",
   "metadata": {
    "collapsed": true
   },
   "source": [
    "![title](../Analyzer_Package/datafiles/cms.png)\n",
    "    <p style=\"margin-right:5%; margin-left:5%; font-size:22px; font-weight: 200; line-height: 1.2em\">\n",
    "\n",
    "<p style=\"margin-right:8%; margin-left:8%; font-size:28px; font-weight: 200; line-height: 1.5em\">\n",
    "**Thrid Part: How to do an Analysis in Particle Physics?**\n",
    "\n",
    "## Example 3: Fitting the Z mass peak\n",
    "This last example is also divided in two parts: \n",
    "\n",
    "* Find out the invariant mass of the two pair mu+ mu- of candidates \n",
    "* Do a statistical analysis of the results ( Z mass, width,...).\n",
    "\n",
    "(All code you are going to need is provided in Analyzer_Package, so you can access it as many times as you need and check in it your questions.)   \n",
    "\n",
    "Once the histogram for the mass was created in the second part, we have implemented two different functions for fitting the Z mass peak. These functions are: \n",
    "\n",
    "1. Gaussian:\n",
    "\n",
    "$$ G(x;\\mu,\\sigma) = \\dfrac{1}{\\sqrt{2\\pi}\\sigma}\\exp[-\\dfrac{(x-\\mu)^{2}}{2\\sigma^{2}}]    $$\n",
    "\n",
    "\n",
    "2. Relativistic Breit-Wigner:\n",
    "\n",
    "$$ B(m;M,\\Gamma)= N * \\dfrac{2}{\\pi}*\\dfrac{\\Gamma^{2}M^{2}}{(m^{2}-M^{2})^{2} + m^{4}(\\Gamma^{2}/M^{2})}   $$\n",
    "\n",
    "To fit a generator-level Z peak a Breit-Wigner fit makes sense. However, reconstructed-level Z peaks have many detector resolutions that smear the Z mass peak. If the detector resolution is relatively poor, then it is usually good enough to fit a gaussian (since the gaussian detector resolution will overwhelm the inherent Briet-Wigner shape of the peak). If the detector resolution is fairly good, then another option is to fit a Breit-Wigner (for the inherent shape) convoluted with a gaussian (to describe the detector effects).This is in the \"no-background\" case. If you have backgrounds in your sample (Drell-Yan, cosmics, etc...), and you want to do the fit over a large mass range, then another function needs to be included to take care of this - an exponential is commonly used. \n",
    "\n",
    "In this exercise, we just use a function, created in the Histos.py script, which fits, automatically, the mass. \n",
    " \n",
    "**NOTE:** \n",
    "\n",
    "For each exercise, to run the code is necessary import **ROOT**.\n"
   ]
  },
  {
   "cell_type": "code",
   "execution_count": null,
   "metadata": {
    "collapsed": false
   },
   "outputs": [],
   "source": [
    "# Import ROOT\n",
    "import ROOT"
   ]
  },
  {
   "cell_type": "code",
   "execution_count": null,
   "metadata": {
    "collapsed": false
   },
   "outputs": [],
   "source": [
    "cd /home/jupyter/CmsOpenData/Analyzer_Package"
   ]
  },
  {
   "cell_type": "code",
   "execution_count": null,
   "metadata": {
    "collapsed": false
   },
   "outputs": [],
   "source": [
    "# Load the module Histos to call the appropiate functions for fitting the mass\n",
    "from Histos import Histos\n",
    "histos = Histos()"
   ]
  },
  {
   "cell_type": "markdown",
   "metadata": {},
   "source": [
    "* ### Gaussian Fit"
   ]
  },
  {
   "cell_type": "code",
   "execution_count": null,
   "metadata": {
    "collapsed": false
   },
   "outputs": [],
   "source": [
    "histos.GaussianFit('mass')"
   ]
  },
  {
   "cell_type": "markdown",
   "metadata": {},
   "source": [
    "* ### Breit Wigner"
   ]
  },
  {
   "cell_type": "code",
   "execution_count": null,
   "metadata": {
    "collapsed": false
   },
   "outputs": [],
   "source": [
    "histos.BreitWignerFit('mass')"
   ]
  },
  {
   "cell_type": "code",
   "execution_count": null,
   "metadata": {
    "collapsed": false
   },
   "outputs": [],
   "source": [
    "Zmass = Histos()\n",
    "#Zmass.DrawHi('g_mass')\n",
    "\n",
    "ZFit = Zmass.Setting('mass_60_120', 'g_mass', xlimits = (60,120))"
   ]
  },
  {
   "cell_type": "code",
   "execution_count": null,
   "metadata": {
    "collapsed": false
   },
   "outputs": [],
   "source": [
    "Z_Fit.GaussianFit('mass')"
   ]
  },
  {
   "cell_type": "code",
   "execution_count": null,
   "metadata": {
    "collapsed": true
   },
   "outputs": [],
   "source": []
  }
 ],
 "metadata": {
  "kernelspec": {
   "display_name": "Python 2",
   "language": "python",
   "name": "python2"
  },
  "language_info": {
   "codemirror_mode": {
    "name": "ipython",
    "version": 2
   },
   "file_extension": ".py",
   "mimetype": "text/x-python",
   "name": "python",
   "nbconvert_exporter": "python",
   "pygments_lexer": "ipython2",
   "version": "2.7.6"
  }
 },
 "nbformat": 4,
 "nbformat_minor": 0
}
