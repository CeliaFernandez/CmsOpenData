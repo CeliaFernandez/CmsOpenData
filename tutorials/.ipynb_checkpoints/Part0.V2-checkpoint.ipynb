{
 "cells": [
  {
   "cell_type": "markdown",
   "metadata": {
    "slideshow": {
     "slide_type": "-"
    }
   },
   "source": [
    "![](/home/ubuntu/CmsOpenData/AnalysisDesigner/datafiles/cms.png)\n",
    " \n",
    "<p style=\"margin-right:8%; margin-left:8%; font-size:28px; font-weight: 200; line-height: 1.5em\">\n",
    "# Start an Analysis in Experimental Particle Physics (0) \n",
    "\n",
    "## Create your own NTuple from the CMS Open Data \n",
    "\n",
    "In this example you will learn: \n",
    "\n",
    "* How to create the ROOT \"tree\" structure of the information of particles in events measured in the CMS detector\n",
    "\n",
    "Let's start!\n",
    "\n",
    "In the context of the analysis of collisions observed in a detector like CMS, the data structure corresponding\n",
    "to each \"event\" (i.e. to each collision) can be quite complex, as it includes information from basic detector signals to the different particles reconstructed and their measured properties. In High Energy Physics usually it is used a complex data structure called \"tree\", within the ROOT framework, that helps the data access. \n",
    "\n",
    "We will use derived [open data files from CMS](http://opendata.cern.ch/) that include many thousands of collisions. These files contain the muon and electron collections in PAT candidate format derived from the full 2010 RunB Muon ([DOI: 10.7483/OPENDATA.CMS.RJW2.QP44](http://opendata.cern.ch/record/201)) or Electron ([DOI: 10.7483/OPENDATA.CMS.HHTK.9FS2](http://opendata.cern.ch/record/202)) primary datasets. No filters are applied, apart from the list of the validated runs. \n",
    "\n",
    "The first important step is to read the original quite complex \"trees\" and make a simpler \"flat\" data structure, where we have for each collision (event) the number of different particles produced, and for each one their properties, like a very long array:\n",
    "\n",
    "Event 1 (with n1 particles)\n",
    "\n",
    "particle 1: px, py, pz, E, identificacion...\n",
    "\n",
    "particle 2: ...\n",
    "\n",
    "...\n",
    "\n",
    "particle n1:...\n",
    "\n",
    "Event 2\n",
    "\n",
    "particle 1\n",
    "...\n",
    "particle n2\n",
    "\n",
    "...\n",
    "\n",
    "Event M \n",
    "\n",
    "These simplified structures are known as \"ntuples\", and  they can be created from the original \n",
    "very complex CMS open data files using two scripts (createTTree.py and exeCreateTTree.py, they \n",
    "could be useful to you in the future if you want to explore further CMS open data)\n",
    "\n",
    "\n",
    "\n",
    "\n",
    "--> Aqui hay que explicar como hacer el tree...  y como es! Loop en los eventos, acceso a las variables, etc.. "
   ]
  },
  {
   "cell_type": "code",
   "execution_count": null,
   "metadata": {
    "collapsed": false,
    "scrolled": false
   },
   "outputs": [],
   "source": [
    "cd /home/ubuntu/CmsOpenData/AnalysisDesigner"
   ]
  },
  {
   "cell_type": "markdown",
   "metadata": {},
   "source": [
    "If you want to inspect the variables stored in the ROOT file mytree.root, just run the following code: "
   ]
  },
  {
   "cell_type": "code",
   "execution_count": null,
   "metadata": {
    "collapsed": false,
    "slideshow": {
     "slide_type": "fragment"
    }
   },
   "outputs": [],
   "source": [
    "# Import ROOT (ROOT is a analysis package used to handle \n",
    "## the tree files, but also histograms, etc.)\n",
    "import ROOT\n",
    "\n",
    "# Get the root file that contains the histograms for all muons: histos.root.\n",
    "Hfile=ROOT.TFile(\"datafiles/mytree.root\", \"read\")\n",
    "\n",
    "# List the histograms stored in the file\n",
    "Hfile.ls()\n",
    "\n",
    "Hfile.muons.Print()\n"
   ]
  },
  {
   "cell_type": "code",
   "execution_count": null,
   "metadata": {
    "collapsed": true
   },
   "outputs": [],
   "source": []
  }
 ],
 "metadata": {
  "celltoolbar": "Slideshow",
  "kernelspec": {
   "display_name": "Python 2",
   "language": "python",
   "name": "python2"
  },
  "language_info": {
   "codemirror_mode": {
    "name": "ipython",
    "version": 2
   },
   "file_extension": ".py",
   "mimetype": "text/x-python",
   "name": "python",
   "nbconvert_exporter": "python",
   "pygments_lexer": "ipython2",
   "version": "2.7.6"
  }
 },
 "nbformat": 4,
 "nbformat_minor": 0
}
