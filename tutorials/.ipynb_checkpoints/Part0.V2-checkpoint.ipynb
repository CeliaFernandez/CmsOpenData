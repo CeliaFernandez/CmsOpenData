{
 "cells": [
  {
   "cell_type": "markdown",
   "metadata": {
    "slideshow": {
     "slide_type": "-"
    }
   },
   "source": [
    "![](/home/ubuntu/CmsOpenData/AnalysisDesigner/datafiles/cms.png)\n",
    " \n",
    "<p style=\"margin-right:8%; margin-left:8%; font-size:28px; font-weight: 200; line-height: 1.5em\">\n",
    "# Start an Analysis in Experimental Particle Physics (0) \n",
    "\n",
    "## Create your own NTuple from the CMS Open Data \n",
    "\n",
    "In this example you will learn: \n",
    "\n",
    "* How to create the ROOT \"tree\" structure with the information of all particles produced in each event measured in the CMS detector\n",
    "\n",
    "Let's start!\n",
    "\n",
    "In the context of the analysis collisions observed in a detector like CMS, the data structure corresponding\n",
    "to each \"event\" (i.e. to each collision) can be quite complex, as it includes information from basic detector signals to the different particles reconstructed and their measured properties. In High Energy Physics, within the ROOT framework, it is usually used this complex data structure called \"tree\" to help the data access. \n",
    "\n",
    "We will use derived [open data files from CMS](http://opendata.cern.ch/) that include many thousands of collisions. These files contain the muon and electron collections in PAT candidate format derived from the full 2010 RunB Muon ([DOI: 10.7483/OPENDATA.CMS.RJW2.QP44](http://opendata.cern.ch/record/201)) or Electron ([DOI: 10.7483/OPENDATA.CMS.HHTK.9FS2](http://opendata.cern.ch/record/202)) primary datasets. No filters are applied, apart from the list of the validated runs. \n",
    "\n",
    "The first important step is to read the original quite complex \"trees\" and make a simpler \"flat\" data structure, where we have for each collision (event) the number of different particles produced, and for each one their properties, like a very long array:\n",
    "\n",
    "** Event 1 ** (with n1 particles, m variables )\n",
    "\n",
    "variable 1: particle 1, particle 2,..., particle n1\n",
    "\n",
    "variable 2: particle 1, particle 2, ...,particle n1 \n",
    "\n",
    "...\n",
    "\n",
    "variable m:  particle 1, particle 2, ...,particle n1 \n",
    "\n",
    "\n",
    "** Event 2 ** (with n2 particles, m variables )\n",
    "\n",
    "variable 1: particle 1, particle 2,..., particle n2\n",
    "\n",
    "variable 2: particle 1, particle 2, ...,particle n2\n",
    "\n",
    "...\n",
    "\n",
    "variable m:  particle 1, particle 2, ...,particle n2 \n",
    "\n",
    "** Event X ** (with nX particles, m variables )\n",
    "\n",
    "...\n",
    "\n",
    "\n",
    "\n",
    "These simplified structures are known as \"ntuples\", and  they can be created from the original \n",
    "very complex CMS open data files using two scripts ** createTTree.py ** and ** exeCreateTTree.py **, they \n",
    "could be useful to you in the future if you want to explore further CMS open data.\n"
   ]
  },
  {
   "cell_type": "markdown",
   "metadata": {},
   "source": [
    "### How can you created new ntuples from the CMS Open Data ? \n",
    "\n",
    "You have to run the [** createTTree.py **](https://cmsopendata.ifca.es/jupyter/edit/AnalysisDesigner/createTTree.py) scripts, that produce the final ntuple by: \n",
    "\n",
    " * create a new .root file and a new tree to store in it. \n",
    " * declare the name of your tree variables\n",
    " * create the tree branches and associate them to the variables\n",
    " * populate the branches and fill the tree\n",
    "\n",
    "To execute the previous code you need to run [** exeCreateTTree.py **](https://cmsopendata.ifca.es/jupyter/edit/AnalysisDesigner/exeCreateTTree.py). In this script you must specify the complete path of your original data files and the number of total events you want to process to fill the tree: the one used in this example runs over 500.000 events. \n",
    "\n",
    "You will not be able to run previous script on Jupyter, so you will need to connect by [SSH](https://en.wikipedia.org/wiki/Secure_Shell) protocol to connect to the CMS Open Data Virtual Machine at IFCA. For doing that you have to go directly to the CMS Open Data prtal at IFCA: https://cmsopendata.ifca.es/ and follow the instructions. \n",
    "\n",
    "* First, you need to log in with your username and password (if you do not have one, just request it). \n",
    "\n",
    "\n",
    "* Go to 'Start Your Analysis', in the upper menu. It will appears a virtual terminal in the web browser. \n",
    "\n",
    "\n",
    "* Start the analysis in your terminal. (aqui tengo que clonar el codigo de git???)\n",
    "\n"
   ]
  },
  {
   "cell_type": "code",
   "execution_count": null,
   "metadata": {
    "collapsed": false,
    "scrolled": false,
    "slideshow": {
     "slide_type": "-"
    }
   },
   "outputs": [],
   "source": [
    "cd /home/ubuntu/CmsOpenData/AnalysisDesigner"
   ]
  },
  {
   "cell_type": "markdown",
   "metadata": {},
   "source": [
    "If you want to inspect the variables stored in the ROOT file mytree.root, just run the following code: "
   ]
  },
  {
   "cell_type": "code",
   "execution_count": null,
   "metadata": {
    "collapsed": false,
    "slideshow": {
     "slide_type": "fragment"
    }
   },
   "outputs": [],
   "source": [
    "# Import ROOT (ROOT is a analysis package used to handle \n",
    "## the tree files, but also histograms, etc.)\n",
    "import ROOT\n",
    "\n",
    "# Get the root file that contains the histograms for all muons: histos.root.\n",
    "Hfile=ROOT.TFile(\"datafiles/mytree.root\", \"read\")\n",
    "\n",
    "# List the histograms stored in the file\n",
    "Hfile.ls()\n",
    "\n",
    "Hfile.muons.Print()"
   ]
  }
 ],
 "metadata": {
  "celltoolbar": "Slideshow",
  "kernelspec": {
   "display_name": "Python 2",
   "language": "python",
   "name": "python2"
  },
  "language_info": {
   "codemirror_mode": {
    "name": "ipython",
    "version": 2
   },
   "file_extension": ".py",
   "mimetype": "text/x-python",
   "name": "python",
   "nbconvert_exporter": "python",
   "pygments_lexer": "ipython2",
   "version": "2.7.6"
  }
 },
 "nbformat": 4,
 "nbformat_minor": 0
}
