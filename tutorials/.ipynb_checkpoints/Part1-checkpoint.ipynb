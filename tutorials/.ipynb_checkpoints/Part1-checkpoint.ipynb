{
 "cells": [
  {
   "cell_type": "markdown",
   "metadata": {},
   "source": [
    "![title](../Analyzer_Package/datafiles/cms.png)\n",
    "    <p style=\"margin-right:5%; margin-left:5%; font-size:22px; font-weight: 200; line-height: 1.2em\">\n",
    "\n",
    "<p style=\"margin-right:8%; margin-left:8%; font-size:28px; font-weight: 200; line-height: 1.5em\">\n",
    "** Start an Analysis in Experimental Particle Physics (1) **\n",
    "\n",
    "## From Basic Check of Muons to the Observation of the Production of Z Bosons\n",
    "\n",
    "In this example you will learn: \n",
    "\n",
    "* How to use the \"tree\" structure of the information of particles in events measured in the CMS detector\n",
    "\n",
    "* How to define and apply a selection criteria on the events collected using the information of the particles detected\n",
    "\n",
    "* How to fill a histogram with the information selected and analyze the distribution of an observable\n",
    "\n",
    "(All code you are going to need is provided in Analyzer_Package, so you can access it as many times as you need and check in it your questions.)    \n",
    "\n",
    "Let's start!\n",
    "\n",
    "In the context of the analysis of collisions observed in a detector like CMS, the data structure corresponding\n",
    "to each \"event\" (i.e. to each collision) can be quite complex, as it includes the information of the \n",
    "many different particles observed and their measured properties (energy/momentum, identification etc.). \n",
    "This complex data structure is called a \"tree\".\n",
    "We will use open data files from CMS that include many thousands of collisions, and the first important step is to read\n",
    "the original quite complex \"trees\" and make a simpler \"flat\" data structure, where we have for each collision (event)\n",
    "the number of different particles produced, and for each one their properties, like a very long array:\n",
    "\n",
    "Event 1 (with n1 particles)\n",
    "\n",
    "particle 1: px, py, pz, E, identificacion...\n",
    "\n",
    "particle 2: ...\n",
    "\n",
    "...\n",
    "\n",
    "particle n1:...\n",
    "\n",
    "Event 2\n",
    "\n",
    "particle 1\n",
    "...\n",
    "particle n2\n",
    "\n",
    "...\n",
    "\n",
    "Event M \n",
    "\n",
    "These simplified structures are known as \"ntuples\", and  they can be created from the original \n",
    "very complex CMS open data files using two scripts (createTTree.py and exeCreateTTree.py, they \n",
    "could be useful to you in the future if you want to explore further CMS open data)\n",
    "\n",
    "So the dataset we will use is a simplified version of the original data,\n",
    "that we have named **mytree.root**. \n",
    "\n",
    "We have prepared a basic script that shows you how to make a loop to read the information of \n",
    "all the particles on these events and then perform a simple analysis: **Analyzer_All.py**.\n",
    "\n",
    "You can have a look to the code and understand what is done:\n",
    "\n",
    "-the class **Analyzer** will be applied for each collision/event registered in **mytree.root**\n",
    "\n",
    "-in this class first we read the information from each **muon** (if any) measured in a collision\n",
    "\n",
    "-then we store in a local variable this information: the momentum (pt, px, py, pz...) etc.\n",
    "\n",
    "-then we create different **histograms** for each variable, that we will fill with the information from the muons,\n",
    "and that can be shown as a **plot**.\n",
    "\n",
    "-we can also compute new observables, like the invariant mass of two muons, and also plot it using a histogram.\n",
    "\n",
    "The aim of this exercise is that you explore the muons detected in the events and also \n",
    "have a first look to see if some of these muons could come from the decay of a Z boson.\n",
    "\n",
    "**NOTE:** \n",
    "\n",
    "For each exercise, to run the code you need to import the **ROOT** package and have to use our \"default\" area for analysis.\n"
   ]
  },
  {
   "cell_type": "code",
   "execution_count": null,
   "metadata": {
    "collapsed": false
   },
   "outputs": [],
   "source": [
    "# Import ROOT (ROOT is a analysis package used to handle the tree files, but also histograms, etc.)\n",
    "import ROOT"
   ]
  },
  {
   "cell_type": "code",
   "execution_count": null,
   "metadata": {
    "collapsed": false
   },
   "outputs": [],
   "source": [
    "cd /home/jupyter/CmsOpenData/Analyzer_Package"
   ]
  },
  {
   "cell_type": "markdown",
   "metadata": {},
   "source": [
    "* ### Run the Analysis\n",
    "<p style=\"margin-right:0%; margin-left:0%; font-size:14px; font-weight: 200; line-height: 1.2em\">\n",
    "Now we will perform the analysis, running the module **Analyzer_All.py**, and producing the histograms that are saved in a file **histos.root** that is stored in the **datafiles** folder. \n",
    "Each histogram is saved with a name started by *h_* followed by the *name of the kinematic variable*."
   ]
  },
  {
   "cell_type": "code",
   "execution_count": null,
   "metadata": {
    "collapsed": false
   },
   "outputs": [],
   "source": [
    "# Import the Analyzer module that performs the readinf of all events from the tree\n",
    "from Analyzer_All import Analyzer\n",
    "\n",
    "# Call to the analysis and create the root file for histograms\n",
    "analysis=Analyzer()\n",
    "analysis.process()"
   ]
  },
  {
   "cell_type": "markdown",
   "metadata": {},
   "source": [
    "* ### Check your h_histogram\n",
    "<p style=\"margin-right:0%; margin-left:0%; font-size:14px; font-weight: 200; line-height: 1.2em\">\n",
    "Open the histos.root file for reading and printing the list of histograms saved in it."
   ]
  },
  {
   "cell_type": "code",
   "execution_count": null,
   "metadata": {
    "collapsed": false,
    "scrolled": true
   },
   "outputs": [],
   "source": [
    "# Get the root file that contains the histograms for all muons: histos.root.\n",
    "Hfile=ROOT.TFile(\"datafiles/histos.root\", \"read\")\n",
    "# List the histograms in the file\n",
    "Hfile.ls()"
   ]
  },
  {
   "cell_type": "markdown",
   "metadata": {
    "collapsed": true
   },
   "source": [
    " * ### Learn the kinematic variables\n",
    "<p style=\"margin-right:0%; margin-left:0%; font-size:14px; font-weight: 200; line-height: 1.2em\">\n",
    "Here you have a set of varibles and the name used to save their histogram:\n",
    "\n",
    "             - momentum trensverse pt :                               'h_pt'\n",
    "             - momentum X-coordinate px:                              'h_px'\n",
    "             - momentum Y-coordinate py:                              'h_py'\n",
    "             - momentum Z-coordinate pz:                              'h_pz' \n",
    "             - angle transverse eta :                                 'h_eta'\n",
    "             - energy :                                               'h_energy'\n",
    "             - charge :                                               'h_charge'\n",
    "             - distance between particle Z-coord and Primary Vertex : 'h_distance'\n",
    "             - impact paremeter dB:                                   'h_dB'\n",
    "             - isolation:                                             'h_isolation'\n",
    "             - invariant mass:                                        'h_mass'\n",
    "             - normalize Chi2 normChi2:                               'h_normChi2'\n",
    "             - numValidHits :                                         'h_numberOfValidHits'\n",
    "             \n",
    "\n",
    "                "
   ]
  },
  {
   "cell_type": "markdown",
   "metadata": {},
   "source": [
    "* ### Draw Histos\n",
    "<p style=\"margin-right:0%; margin-left:0%; font-size:14px; font-weight: 200; line-height: 1.2em\">\n",
    "Once you have that file,  the next step is to plot the histogram. Here, we detail some procedures  "
   ]
  },
  {
   "cell_type": "markdown",
   "metadata": {},
   "source": [
    "* #### First method: \n",
    "\n",
    "<p style=\"margin-right:0%; margin-left:0%; font-size:15px; font-weight: 200; line-height: 1.2em\">\n",
    "**1.**         Create a ROOT  canvas and draw the histogram on it. "
   ]
  },
  {
   "cell_type": "code",
   "execution_count": null,
   "metadata": {
    "collapsed": false
   },
   "outputs": [],
   "source": [
    "### Get the root file that contains the histograms for all muons: histos.root.\n",
    "Hfile=ROOT.TFile(\"datafiles/histos.root\", \"read\")\n",
    "\n",
    "### You must create a variable to store the histogram selected.\n",
    "histo1=Hfile.Get('h_pt')\n",
    "\n",
    "### First: Create the canvas where the histogram is going to be drawn\n",
    "canvas = ROOT.TCanvas(\"myCanvas\",\"All muons: NormChi2\",800,600)\n",
    "\n",
    "### Second: Draw the histogram\n",
    "histo1.Draw()\n",
    "\n",
    "### Third : Draw the canvas\n",
    "canvas.Draw()"
   ]
  },
  {
   "cell_type": "markdown",
   "metadata": {},
   "source": [
    "\n",
    "**2.** Set your favorite configuration. \n",
    "\n",
    "Once you have created the variable where the histogram is stored, and after drawing it, you can set the histogram and the canvas for a better customization. \n",
    "\n",
    "References:\n",
    "\n",
    "[Tcolor Class](https://root.cern.ch/doc/master/classTColor.html)\n",
    "\n",
    "[Histogram Customization](https://root.cern.ch/doc/v606/classTHistPainter.html)\n",
    "\n",
    "[Marker Atributtes such as color, size or style for histograms](https://root.cern.ch/doc/master/classTAttMarker.html)"
   ]
  },
  {
   "cell_type": "code",
   "execution_count": null,
   "metadata": {
    "collapsed": false,
    "scrolled": true
   },
   "outputs": [],
   "source": [
    "### Change the line color\n",
    "histo1.SetLineColor(4)\n",
    "\n",
    "### Change the bounds of the histograms for X Axis \n",
    "histo1.GetXaxis().SetRangeUser(40, 120);\n",
    "\n",
    "### Change the bins for the histograms by diving by a divisor of the initial number of bins. \n",
    "## Note: To restore the binning you must to draw the histo again.\n",
    "histo1.Rebin(2)\n",
    "\n",
    "### Create the legend. TLegend(x1, y1, x2, y2)\n",
    "legend =ROOT.TLegend(0.1,0.2,0.30,0.3);\n",
    "legend.SetHeader(\"The Legend Title\");\n",
    "legend.AddEntry(histo1,\"All muons\",\"l\");\n",
    "#legend->AddEntry(\"gr\",\"Graph with error bars\",\"lep\");\n",
    "legend.Draw();\n",
    "\n",
    "### Twist linear scale for Y axe to the logaritmic one with the function SetLogy.\n",
    "canvas.SetLogy()\n",
    "\n",
    "### Draw the histogram again and check your changes \n",
    "canvas.Draw()"
   ]
  },
  {
   "cell_type": "markdown",
   "metadata": {},
   "source": [
    "**3.**         Save the image in a .png file. \n",
    "\n",
    "The previous procedure does not save the image automatically, it just shows you the picture. This statement can be written before or after stablish your favorite setting. Hence, you can collect both histograms for the analysis. "
   ]
  },
  {
   "cell_type": "code",
   "execution_count": null,
   "metadata": {
    "collapsed": false
   },
   "outputs": [],
   "source": [
    "# If you want keep it, you must type: \n",
    "# NOTE: Write the name of the file \n",
    "\n",
    "name = \"pt\"\n",
    "canvas.SaveAs(\"../output_histograms/\"+ name +\".png\")\n",
    "\n",
    "# This save the image as a .png file."
   ]
  },
  {
   "cell_type": "markdown",
   "metadata": {},
   "source": [
    "** 4.1.** And set again your preferences. ** PAY ATTENTION :** some settings are applied on the histo variable some others on the canvas.  "
   ]
  },
  {
   "cell_type": "markdown",
   "metadata": {},
   "source": [
    "* ### Second method: \n",
    "\n",
    "**1.** Import **Histos module** and draw the histograms directly.\n",
    "\n",
    "Histos module correspond to the Histos.py script that has been designed to draw, customize and save the histograms in a easier way. At this moment, our purpose is to plot different 'h_variable' histogram and configure their visual parameters, so all you need is a function named **DrawHi(  )** and a funtion named ** Setting(  )** respectively. All the histograms are automatically saved in the main folder: **output_histograms**.  "
   ]
  },
  {
   "cell_type": "markdown",
   "metadata": {},
   "source": [
    "**DrawHi(  ) accepts as many parameters as you want, but you have just two conditions:**\n",
    "\n",
    "* You must type between quotes the correct name of the histogram you want to plot in one canvas i.e 'h_pt'\n",
    "* You must type in a tuple and between quotes the name of the different histograms you want to draw in the same canvas i.e ('h_pt', 'h_distance','h_eta')\n",
    "\n"
   ]
  },
  {
   "cell_type": "code",
   "execution_count": null,
   "metadata": {
    "collapsed": false
   },
   "outputs": [],
   "source": [
    "from Histos import Histos\n",
    "\n",
    "histo = Histos()\n",
    "\n",
    "histo.DrawHi('h_pt')"
   ]
  },
  {
   "cell_type": "markdown",
   "metadata": {},
   "source": [
    "** Setting(  ) set some changes to get better information. The name of the histogram you want to modify and the name with one you want to store the current versions are mandatory.**\n",
    "\n",
    "<p style=\"margin-right:0%; margin-left:0%; font-size:16px; font-weight: 200; line-height: 1.2em\">\n",
    "\n",
    "* Set the scale typing: scale = LogY or scale = LogX\n",
    "* Set the binning typing : nbin = #\n",
    "* Set the limits in x axis typing : xlimits = (xmin, xmax)\n",
    "* Set the legend typing : legend = True\n"
   ]
  },
  {
   "cell_type": "code",
   "execution_count": null,
   "metadata": {
    "collapsed": false
   },
   "outputs": [],
   "source": [
    "f= Histos()\n",
    "#histogram = f.DrawHi('g_mass')\n",
    "f.Setting('distance_changed', 'h_distance', scale = 'LogY', nbin = 2, xlimits = (0,100), legend = True )"
   ]
  },
  {
   "cell_type": "code",
   "execution_count": null,
   "metadata": {
    "collapsed": false
   },
   "outputs": [],
   "source": [
    "f.Setting('probe',('h_distance','h_pt'), xlimits = (30,100))"
   ]
  },
  {
   "cell_type": "markdown",
   "metadata": {
    "collapsed": true
   },
   "source": [
    "### Once the histogram is saved in the folder, you can draw it\n",
    "After do it, go to the folder that contains the histograms"
   ]
  },
  {
   "cell_type": "code",
   "execution_count": null,
   "metadata": {
    "collapsed": false
   },
   "outputs": [],
   "source": [
    "cd ../output_histograms"
   ]
  },
  {
   "cell_type": "code",
   "execution_count": null,
   "metadata": {
    "collapsed": false
   },
   "outputs": [],
   "source": [
    "from IPython.display import Image\n",
    "Image(filename= \"pt.png\")"
   ]
  }
 ],
 "metadata": {
  "kernelspec": {
   "display_name": "Python 2",
   "language": "python",
   "name": "python2"
  },
  "language_info": {
   "codemirror_mode": {
    "name": "ipython",
    "version": 2
   },
   "file_extension": ".py",
   "mimetype": "text/x-python",
   "name": "python",
   "nbconvert_exporter": "python",
   "pygments_lexer": "ipython2",
   "version": "2.7.6"
  }
 },
 "nbformat": 4,
 "nbformat_minor": 0
}
