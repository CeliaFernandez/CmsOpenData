{
 "cells": [
  {
   "cell_type": "markdown",
   "metadata": {
    "collapsed": false
   },
   "source": [
    "![](/home/ubuntu/CmsOpenData/AnalysisDesigner/datafiles/cms.png)\n",
    " \n",
    "<p style=\"margin-right:8%; margin-left:8%; font-size:28px; font-weight: 200; line-height: 1.5em\">\n",
    "# Start an Analysis in Experimental Particle Physics (1) \n",
    "\n",
    "## From Basic Check of Muons to the Observation of the Production of Z Bosons\n",
    "\n",
    "In this example you will learn: \n",
    "\n",
    "* How to use the ROOT \"tree\" structure of the information of particles in events measured in the CMS detector\n",
    "\n",
    "* How to define and apply a selection criteria on the events collected using the information of the particles detected\n",
    "\n",
    "* How to fill a histogram with the information selected and analyze the distribution of an observable\n",
    "\n",
    "Let's start!\n",
    "\n",
    "There is already a simplified NTuple version of the original data created to perform the following exercise and named **mytree.root**. It coints the minimum information to work with. If you need to include more information you can create your own NTuple by following the instructions under [Part0: create your own NTuple from the CMS Open Data.](https://cmsopendata.ifca.es/jupyter/notebooks/tutorials/Part0.V2.ipynb).\n",
    "\n",
    "\n",
    "We have prepared a basic script that shows you how to make a loop to read the information of \n",
    "all the particles on these events and then perform a simple analysis: [**Analyzer_All.py**](https://cmsopendata.ifca.es/jupyter/edit/AnalysisDesigner/Analyzer_All.py). \n",
    "\n",
    "You can have a look to the code and understand what is done:\n",
    "\n",
    "   * The class AnalyzerAll is inherited from the class [**Analyzer**](https://cmsopendata.ifca.es/jupyter/edit/AnalysisDesigner/Analyzer.py). \n",
    "   \n",
    "   * For each event (collision) we read the information for all the muons reconstructed (if any) and stored in a [TTree](https://root.cern.ch/doc/master/classTTree.html) called *muons*.    \n",
    "  \n",
    "   * We store in a local variable all the information available for each muon: the momentum (pt, px, ..), geometrical coordinates (eta, phi) and all the variables needed for the identification and isolation.\n",
    "\n",
    "   * We create different **histograms** in ROOT format [TH1F](https://root.cern.ch/doc/master/classTH1F.html) for all the variables associated to each muon and that can be shown as a **plot**.\n",
    "\n",
    "   * We can also compute new observables, like the invariant mass of two muons, and also plot it.\n",
    "   \n",
    "The aim of this exercise is that you explore the muons detected in the events and also \n",
    "have a first look to see if some of these muons could come from the decay of a Z boson.\n",
    "\n",
    "**NOTE:** \n",
    "\n",
    "For each exercise, you will need to import the **ROOT** package to run the code and you have to use our \"default\" area for analysis. \n",
    "\n",
    "For running the code under Jupyter you will need to Run each section marked with a number, or you can go to the upper menu and under Cell select **Run All** "
   ]
  },
  {
   "cell_type": "code",
   "execution_count": null,
   "metadata": {
    "collapsed": false
   },
   "outputs": [],
   "source": [
    "# Import ROOT (ROOT is a analysis package used to handle \n",
    "## the tree files, but also histograms, etc.)\n",
    "import ROOT"
   ]
  },
  {
   "cell_type": "code",
   "execution_count": null,
   "metadata": {
    "collapsed": false
   },
   "outputs": [],
   "source": [
    "cd /home/ubuntu/CmsOpenData/AnalysisDesigner"
   ]
  },
  {
   "cell_type": "markdown",
   "metadata": {},
   "source": [
    "* ### Run the Analysis for All muons\n",
    "<p style=\"margin-right:0%; margin-left:0%; font-size:14px; font-weight: 200; line-height: 1.2em\">\n",
    "\n",
    "Now we will perform the analysis for all muons, running the module [**Analyzer_All.py**](https://cmsopendata.ifca.es/jupyter/edit/AnalysisDesigner/Analyzer_All.py), and producing the histograms that are saved in a file **histos.root** that will be stored in the [**datafiles**](https://cmsopendata.ifca.es/jupyter/tree/Analyzer_Package/datafiles) folder.\n",
    "\n",
    "Each histogram [TH1F](https://root.cern.ch/doc/master/classTH1F.html) is saved with a name started by *h_* followed by the *name of the kinematic variable* (---> aqui hay que poner la explicacion de las variables o algo.... veremos).\n",
    "\n",
    "Following the steps describe before:         "
   ]
  },
  {
   "cell_type": "code",
   "execution_count": null,
   "metadata": {
    "collapsed": false
   },
   "outputs": [],
   "source": [
    "# Import the main module which run the analysis for ALL particles\n",
    "from Analyzer_All import AnalyzerAll\n",
    "\n",
    "# Instance of AnalyzerAll\n",
    "analysis = AnalyzerAll()\n"
   ]
  },
  {
   "cell_type": "code",
   "execution_count": null,
   "metadata": {
    "collapsed": false
   },
   "outputs": [],
   "source": [
    "#Loop over events\n",
    "#--------------------------------------------------------------------\n",
    "\n",
    "#Specify the output file name\n",
    "analysis.beginJob(\"histosAlicia.root\")\n",
    "\n",
    "print \"Start the Analysis\"\n",
    "\n",
    "print \"Running ................\"\n",
    "\n",
    "# For each event or entry, the following loop read all the tree branches,\n",
    "# creates every muon and add it to all_muons list\n",
    "for event in range(0, analysis.numEntries):\n",
    "    analysis.process(event)\n",
    "analysis.endJob()\n",
    "\n",
    "print \"Well done! analysis ended\"\n"
   ]
  },
  {
   "cell_type": "markdown",
   "metadata": {},
   "source": [
    "* ### Check your h_histograms\n",
    "<p style=\"margin-right:0%; margin-left:0%; font-size:14px; font-weight: 200; line-height: 1.2em\">\n",
    "\n",
    "Open the **histos.root** file for reading and printing the list of histograms saved in it."
   ]
  },
  {
   "cell_type": "code",
   "execution_count": null,
   "metadata": {
    "collapsed": false,
    "scrolled": true
   },
   "outputs": [],
   "source": [
    "# Get the root file that contains the histograms for all muons: histos.root.\n",
    "Hfile=ROOT.TFile(\"datafiles/histosAlicia.root\", \"read\")\n",
    "\n",
    "# List the histograms stored in the file\n",
    "Hfile.ls()\n"
   ]
  },
  {
   "cell_type": "markdown",
   "metadata": {},
   "source": [
    " * ### Learn the kinematic variables\n",
    "<p style=\"margin-right:0%; margin-left:0%; font-size:14px; font-weight: 200; line-height: 1.2em\">\n",
    "\n",
    "Here you have a set of varibles, used for muon identification and isolation, and the histogram name used to save them:\n",
    "\n",
    "             - transverse momentum (in XY plane):                     'h_pt'\n",
    "             - momentum X-coordinate px:                              'h_px'\n",
    "             - momentum Y-coordinate py:                              'h_py'\n",
    "             - momentum Z-coordinate pz:                              'h_pz' \n",
    "             - pseudorapidity eta (1):                                'h_eta'\n",
    "             - energy:                                                'h_energy'\n",
    "             - charge:                                                'h_charge'\n",
    "             - distance between particle Z-coord and Primary Vertex:  'h_dz'\n",
    "             - impact paremeter dB (in xy plane):                     'h_dB'\n",
    "             - normalize Chi2/n.d.o.f.:                               'h_normChi2'\n",
    "             - number of hits in the Tracker:                         'h_numberOfValidHits'\n",
    "             - tracker isolation:                                     'h_isolation_sumPt'\n",
    "             - electromagnetic caloremeter isolation:                 'h_isolation_emEt'\n",
    "             - hadronic caloremeter isolation:                        'h_isolation_hadEt'    \n",
    "             - relative isolation (2)                                 'h_isolation'\n",
    "             - invariant mass:                                        'h_mass'\n",
    "\n",
    "\n",
    " (1) See [pseudorapitidy](https://en.wikipedia.org/wiki/Pseudorapidity) \n",
    " \n",
    " (2) Relative isolation defined as: relIso = (sumPt+emEt+hadEt)/pt "
   ]
  },
  {
   "cell_type": "markdown",
   "metadata": {},
   "source": [
    "* ### Draw Histos\n",
    "<p style=\"margin-right:0%; margin-left:0%; font-size:14px; font-weight: 200; line-height: 1.2em\">\n",
    "\n",
    "Once you have created the file containing all the histograms, the next step is to plot each of the histogram, and study each varibale. Here, we detail some procedures \n",
    "\n",
    "\n",
    "<p style=\"margin-right:0%; margin-left:0%; font-size:15px; font-weight: 200; line-height: 1.2em\">\n",
    "\n",
    "**1.**         Create a ROOT [TCanvas](https://root.cern.ch/doc/master/classTCanvas.html) and draw the histogram on it. "
   ]
  },
  {
   "cell_type": "code",
   "execution_count": 31,
   "metadata": {
    "collapsed": false
   },
   "outputs": [
    {
     "name": "stderr",
     "output_type": "stream",
     "text": [
      "TCanvas::Constructor:0: RuntimeWarning: Deleting canvas with same name: myCanvas\n"
     ]
    },
    {
     "data": {
      "image/png": "[encoded data removed]",
      "text/plain": [
       "<IPython.core.display.Image object>"
      ]
     },
     "metadata": {},
     "output_type": "display_data"
    }
   ],
   "source": [
    "### Get the root file that contains the histograms for all muons: histos.root.\n",
    "Hfile=ROOT.TFile(\"datafiles/histos.root\", \"read\")\n",
    "\n",
    "### You must create a variable to store the histogram selected.\n",
    "histo1=Hfile.Get('h_pt')\n",
    "\n",
    "### First: Create the canvas where the histogram is going to be drawn\n",
    "canvas = ROOT.TCanvas(\"myCanvas\",\"All muons: pT\",800,600)\n",
    "\n",
    "### Second: Draw the histogram\n",
    "histo1.Draw()\n",
    "\n",
    "### Third : Draw the canvas\n",
    "canvas.Draw()"
   ]
  },
  {
   "cell_type": "markdown",
   "metadata": {},
   "source": [
    "**2.** Set your favorite configuration. \n",
    "\n",
    "Once you have created the variable where the histogram is stored, and after drawing it, you can customize the histogram and canvas options. \n",
    "\n",
    "References:\n",
    "\n",
    "[Tcolor Class](https://root.cern.ch/doc/master/classTColor.html)\n",
    "\n",
    "[Histogram Customization](https://root.cern.ch/doc/v606/classTHistPainter.html)\n",
    "\n",
    "[Marker Atributtes such as color, size or style for histograms](https://root.cern.ch/doc/master/classTAttMarker.html)"
   ]
  },
  {
   "cell_type": "code",
   "execution_count": 38,
   "metadata": {
    "collapsed": false
   },
   "outputs": [
    {
     "data": {
      "image/png": "[encoded data removed]",
      "text/plain": [
       "<IPython.core.display.Image object>"
      ]
     },
     "metadata": {},
     "output_type": "display_data"
    }
   ],
   "source": [
    "### Change the line color\n",
    "histo1.SetLineColor(4)\n",
    "\n",
    "### Change the bounds of the histograms for X Axis \n",
    "histo1.GetXaxis().SetRangeUser(0, 200);\n",
    "\n",
    "\n",
    "### Wrote the X-axis label\n",
    "histo1.GetXaxis().SetTitle(\"pT (GeV/c)\");\n",
    "\n",
    "### Change the bins for the histograms by diving by a divisor of the initial\n",
    "# number of bins. \n",
    "## Note: To restore the binning you must to draw the histo again.\n",
    "#histo1.Rebin(2)\n",
    "\n",
    "### Create the legend. TLegend(x1, y1, x2, y2)\n",
    "legend =ROOT.TLegend(0.7,0.8,0.50,0.7);\n",
    "#legend.SetHeader(\"Title\");\n",
    "legend.AddEntry(histo1,\"All muons\",\"l\");\n",
    "#legend->AddEntry(\"gr\",\"Graph with error bars\",\"lep\");\n",
    "legend.Draw();\n",
    "\n",
    "### Twist linear scale for Y axe to the logaritmic one with the function SetLogy.\n",
    "canvas.SetLogy()\n",
    "\n",
    "### Draw the histogram again and check your changes \n",
    "canvas.Draw()"
   ]
  },
  {
   "cell_type": "markdown",
   "metadata": {},
   "source": [
    "**3.**         Save the image in a .png file. \n",
    "\n",
    "The previous procedure does not save the image automatically, it just shows you the picture. This statement can be written before or after stablish your favorite setting. Hence, you can collect both histograms for the analysis. \n",
    "\n",
    "All the .png files created are stored in the folder [output_histograms](https://cmsopendata.ifca.es/jupyter/tree/output_histograms)"
   ]
  },
  {
   "cell_type": "code",
   "execution_count": 39,
   "metadata": {
    "collapsed": false
   },
   "outputs": [
    {
     "name": "stderr",
     "output_type": "stream",
     "text": [
      "Info in <TCanvas::Print>: png file ../output_histograms/pt.png has been created\r\n"
     ]
    }
   ],
   "source": [
    "# If you want keep it, you must type: \n",
    "# NOTE: Write the name of the file \n",
    "\n",
    "name = \"pt\"\n",
    "canvas.SaveAs(\"../output_histograms/\"+ name +\".png\")\n",
    "\n",
    "# This save the last image as a .png file."
   ]
  },
  {
   "cell_type": "markdown",
   "metadata": {},
   "source": [
    "** 4.** And set again your preferences. ** PAY ATTENTION :** some settings are applied on the histo variable some others on the canvas.  "
   ]
  },
  {
   "cell_type": "code",
   "execution_count": null,
   "metadata": {
    "collapsed": true
   },
   "outputs": [],
   "source": []
  }
 ],
 "metadata": {
  "kernelspec": {
   "display_name": "Python 2",
   "language": "python",
   "name": "python2"
  },
  "language_info": {
   "codemirror_mode": {
    "name": "ipython",
    "version": 2
   },
   "file_extension": ".py",
   "mimetype": "text/x-python",
   "name": "python",
   "nbconvert_exporter": "python",
   "pygments_lexer": "ipython2",
   "version": "2.7.6"
  }
 },
 "nbformat": 4,
 "nbformat_minor": 0
}
