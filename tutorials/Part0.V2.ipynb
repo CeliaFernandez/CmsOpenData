{
 "cells": [
  {
   "cell_type": "markdown",
   "metadata": {
    "slideshow": {
     "slide_type": "-"
    }
   },
   "source": [
    "![](/home/ubuntu/CmsOpenData/AnalysisDesigner/datafiles/cms.png)\n",
    " \n",
    "<p style=\"margin-right:8%; margin-left:8%; font-size:28px; font-weight: 200; line-height: 1.5em\">\n",
    "# Start an Analysis in Experimental Particle Physics (0) \n",
    "\n",
    "## Create your own NTuple from the CMS Open Data \n",
    "\n",
    "In this example you will learn: \n",
    "\n",
    "* How to create the ROOT \"tree\" structure with the information of all particles produced in each event measured in the CMS detector\n",
    "\n",
    "Let's start!\n",
    "\n",
    "In the context of the analysis collisions observed in a detector like CMS, the data structure corresponding\n",
    "to each \"event\" (i.e. to each collision) can be quite complex, as it includes information from basic detector signals to the different particles reconstructed and their measured properties. In High Energy Physics, within the ROOT framework, it is usually used this complex data structure called \"tree\" to help the data access. \n",
    "\n",
    "We will use derived [open data files from CMS](http://opendata.cern.ch/) that include many thousands of collisions. These files contain the muon and electron collections in PAT candidate format derived from the full 2010 RunB Muon ([DOI: 10.7483/OPENDATA.CMS.RJW2.QP44](http://opendata.cern.ch/record/201)) or Electron ([DOI: 10.7483/OPENDATA.CMS.HHTK.9FS2](http://opendata.cern.ch/record/202)) primary datasets. No filters are applied, apart from the list of the validated runs. \n",
    "\n",
    "The first important step is to read the original quite complex \"trees\" and make a simpler \"flat\" data structure, where we have for each collision (event) the number of different particles produced, and for each one their properties, like a very long array:\n",
    "\n",
    "** Event 1 ** (with n1 particles, m variables )\n",
    "\n",
    "variable 1: particle 1, particle 2,..., particle n1\n",
    "\n",
    "variable 2: particle 1, particle 2, ...,particle n1 \n",
    "\n",
    "...\n",
    "\n",
    "variable m:  particle 1, particle 2, ...,particle n1 \n",
    "\n",
    "\n",
    "** Event 2 ** (with n2 particles, m variables )\n",
    "\n",
    "variable 1: particle 1, particle 2,..., particle n2\n",
    "\n",
    "variable 2: particle 1, particle 2, ...,particle n2\n",
    "\n",
    "...\n",
    "\n",
    "variable m:  particle 1, particle 2, ...,particle n2 \n",
    "\n",
    "** Event X ** (with nX particles, m variables )\n",
    "\n",
    "...\n",
    "\n",
    "\n",
    "\n",
    "These simplified structures are known as \"ntuples\", and  they can be created from the original \n",
    "very complex CMS open data files using two scripts ** createTTree.py ** and ** exeCreateTTree.py **, they \n",
    "could be useful to you in the future if you want to explore further CMS open data)\n",
    "\n",
    "\n",
    "\n",
    "\n",
    "--> Aqui hay que explicar como hacer el tree...  y como es! Loop en los eventos, acceso a las variables, etc.. "
   ]
  },
  {
   "cell_type": "markdown",
   "metadata": {},
   "source": [
    "The aim of ** createTTree.py ** script is the creation of this simplified tree, a flat data structure refered as ntuples. To manage this code you may take account few important concepts:\n",
    "\n",
    "\n",
    " * create a new .root file and a new tree to store in it. \n",
    " * declare the name of your tree variables\n",
    " * create the tree branches and associate them to the variables\n",
    " * populate the branches and fill the tree\n",
    "\n",
    "To execute the previous code you need to run ** exeCreateTTree.py **. In this script you must specify the complete path of your original data files and the number of total events you want to process to fill the tree.\n",
    "\n",
    "\n",
    "\n"
   ]
  },
  {
   "cell_type": "markdown",
   "metadata": {},
   "source": [
    "<p style=\"margin-right:8%; margin-left:8%; font-size:28px; font-weight: 200; line-height: 1.5em\">\n",
    "### How to access the PaTTuples data ?\n",
    "\n",
    "The original data files paths are: \n",
    "\n",
    " root://eospublic.cern.ch//eos/opendata/cms/Run2010B/Mu/PATtuples/Mu_PAT_data_500files_1.root\n",
    " root://eospublic.cern.ch//eos/opendata/cms/Run2010B/Mu/PATtuples/Mu_PAT_data_500files_2.root\n",
    " root://eospublic.cern.ch//eos/opendata/cms/Run2010B/Mu/PATtuples/Mu_PAT_data_500files_3.root\n",
    " root://eospublic.cern.ch//eos/opendata/cms/Run2010B/Mu/PATtuples/Mu_PAT_data_500files_4.root\n",
    " \n",
    "---------->>>>>> Añadimos más?????\n",
    "\n",
    "** Connection through ssh **\n",
    "------->>>> Faltan figuras \n",
    "\n",
    "It is possible to use the already-prepared Virtual Machine available at [CMSOPENDATA](https://cmsopendata.ifca.es) without going explicitely into the web-page itself. There is another way based on a **ssh connection**.\n",
    "\n",
    "The ssh connection, or  Secure Shell connection, is a cryptographic (encrypted) network protocol to allow remote login and other network services to operate securely over an insecure network. Basically, we are going to force our bash terminal in a LINUX-based OS to work as the Virtual Machine you may observe at the web-page.\n",
    "\n",
    "![](../pictures/web2.png)\n",
    "<p style=\"margin-right:8%; margin-left:12%; font-size:15px; font-weight: 200; line-height: 1.5em\">\n",
    "**Figure 1**: Screen Capture of the main view at [CMSOPENDATA](https://cmsopendata.ifca.es) once you have already signed in.\n",
    "\n",
    "#### Going into the ssh Web Page Menu\n",
    "To connect via ssh, you will need to create a key that ables you to connect your personal computer, and therefore your terminal in your own OS, with the already prepared Virtual Machine.\n",
    "\n",
    "* First, you need to log in with your username and password, and then you must click on the bottom *ssh access* as it is shown in Figure 5.1. You will go to a new page that looks like the one observed in Figure 5.2.\n",
    "\n",
    "* This menu shows you what your **ssh user** is in relation to your username you created before when you got registered. In this case, the ssh user that is **cms0056**. Note that every reader of this guide will have a different ssh user.\n",
    "\n",
    "* You will also observe that there is a big square blank space under the name *Public Keys*. You will need to enter your public key in this space.\n",
    "\n",
    "\n",
    "![](../pictures/web3.png)\n",
    "<p style=\"margin-right:8%; margin-left:12%; font-size:15px; font-weight: 200; line-height: 1.5em\">\n",
    "**Figure 2**: Screen Capture of the ssh view at [CMSOPENDATA](https://cmsopendata.ifca.es) once you have already signed in.\n",
    "\n",
    "#### Creating the public key\n",
    "In order to create a public key in your computer and to establish a relation between that public key and your ssh user you will need to procedure and to type some commands in the terminal of your computer. First at all, you need to open a terminal in your own computer and follow the next instructions.\n",
    "\n",
    "##### Check for ssh keys\n",
    "We need to ckeck whether there are pre-existing ssh public keys in your computer. For that, you need to type on the terminal the command **ls -al $\\sim$/.ssh**.\n",
    "\n",
    "If you receive an error that $ssh$ doesn't exist, don't worry! This means you do not have any ssh key and we will create it in the following step (see Figure 3).\n",
    "\n",
    "##### Generate a new SSH Key\n",
    "With the terminal still open you must type (or copy and paste) the next command: **ssh-keygen -t rsa -b 4096 -C \"your$\\_$user@cmsopendata.ifca.es\"**. Your$\\_$user is the ssh user you observe in Figure 2. \n",
    "\n",
    "At the moment you type the command **ssh-keygen**, some questions related to the file where the ssh key will be save pop up. We suggest keeping the default settings to avoid problems in the future, so when you are prompted to \"Enter a file in which to save the key\", just press *Enter* to continue. \n",
    "\n",
    "Next, you will be asked to write a passphare to save your SSH key. You can decide yourself if you want to include a password or not. At the end you will see the key fingerprint you have created.\n",
    "\n",
    "##### Add your key to the SSH-agent\n",
    "With the key already created, you are able to configure the SSH-agent program to use the SSH Key. You will need to type the commands **eval \"$\\$$(ssh-agent -s)\"** and **ssh-add $\\sim$/.ssh/id$\\_$rsa**\n",
    "\n",
    "##### Add your SSH key to the Analysis web page\n",
    "\n",
    "First, you will need to move to the directory where the public key is contained using **cd /.ssh** and open with vim the file *id$\\_$rsa.pub*. For that, you must type **vim id$\\_$rsa.pub**. Simply copy the text shown in vim using your computer mouse.\n",
    "\n",
    "After copying the key, go again to the analysis web page at the SSH Access view as it is shown in Figure 5.2, and paste the key in the blank space under the name public Key.\n",
    "\n",
    "##### Access from your terminal using the public key\n",
    "At the end, you will be able to open a new terminal and type the command line: **ssh -i id$\\_$rsa.pub cms0056@cmsopendata.ifca.es**. In case you decided to include a password when creating your SSH public key, it will be asked after pressing enter.\n",
    "\n",
    "*Voilà!*, you can connect know to the VM without going into your internet browser, just using the terminal. In that case, you just need to open a new terminal and tab on it: **ssh -X cms0056@cmsopendata.ifca.es**. The command **-X** enables the possibility of popping out plots and graphs in new windows directly from the VM. This will be required in order to look at the different plots of the particles magnitudes a the moment of analyzing the data. \n"
   ]
  },
  {
   "cell_type": "code",
   "execution_count": 11,
   "metadata": {
    "collapsed": false,
    "scrolled": false,
    "slideshow": {
     "slide_type": "-"
    }
   },
   "outputs": [
    {
     "name": "stdout",
     "output_type": "stream",
     "text": [
      "/home/ubuntu/CmsOpenData/AnalysisDesigner\n"
     ]
    }
   ],
   "source": [
    "cd /home/ubuntu/CmsOpenData/AnalysisDesigner"
   ]
  },
  {
   "cell_type": "markdown",
   "metadata": {},
   "source": [
    "If you want to inspect the variables stored in the ROOT file mytree.root, just run the following code: "
   ]
  },
  {
   "cell_type": "code",
   "execution_count": 12,
   "metadata": {
    "collapsed": false,
    "slideshow": {
     "slide_type": "fragment"
    }
   },
   "outputs": [
    {
     "name": "stdout",
     "output_type": "stream",
     "text": [
      "TFile**\t\tdatafiles/mytree.root\t\r\n",
      " TFile*\t\tdatafiles/mytree.root\t\r\n",
      "  KEY: TTree\tmuons;1\tmuons tree\r\n",
      "******************************************************************************\r\n",
      "*Tree    :muons     : muons tree                                             *\r\n",
      "*Entries :    99999 : Total =        34033255 bytes  File  Size =   13611401 *\r\n",
      "*        :          : Tree compression factor =   2.50                       *\r\n",
      "******************************************************************************\r\n",
      "*Br    0 :Muon_pt   : vector<float>                                          *\r\n",
      "*Entries :    99999 : Total  Size=    2001405 bytes  File Size  =     962396 *\r\n",
      "*Baskets :       75 : Basket Size=      32000 bytes  Compression=   2.08     *\r\n",
      "*............................................................................*\r\n",
      "*Br    1 :Muon_eta  : vector<float>                                          *\r\n",
      "*Entries :    99999 : Total  Size=    2001484 bytes  File Size  =     987758 *\r\n",
      "*Baskets :       75 : Basket Size=      32000 bytes  Compression=   2.02     *\r\n",
      "*............................................................................*\r\n",
      "*Br    2 :Muon_px   : vector<float>                                          *\r\n",
      "*Entries :    99999 : Total  Size=    2001405 bytes  File Size  =     995014 *\r\n",
      "*Baskets :       75 : Basket Size=      32000 bytes  Compression=   2.01     *\r\n",
      "*............................................................................*\r\n",
      "*Br    3 :Muon_py   : vector<float>                                          *\r\n",
      "*Entries :    99999 : Total  Size=    2001405 bytes  File Size  =     995045 *\r\n",
      "*Baskets :       75 : Basket Size=      32000 bytes  Compression=   2.01     *\r\n",
      "*............................................................................*\r\n",
      "*Br    4 :Muon_pz   : vector<float>                                          *\r\n",
      "*Entries :    99999 : Total  Size=    2001405 bytes  File Size  =     994184 *\r\n",
      "*Baskets :       75 : Basket Size=      32000 bytes  Compression=   2.01     *\r\n",
      "*............................................................................*\r\n",
      "*Br    5 :Muon_energy : vector<float>                                        *\r\n",
      "*Entries :    99999 : Total  Size=    2001721 bytes  File Size  =     959606 *\r\n",
      "*Baskets :       75 : Basket Size=      32000 bytes  Compression=   2.08     *\r\n",
      "*............................................................................*\r\n",
      "*Br    6 :Muon_isGlobalMuon : vector<int>                                    *\r\n",
      "*Entries :    99999 : Total  Size=    2002195 bytes  File Size  =     395262 *\r\n",
      "*Baskets :       75 : Basket Size=      32000 bytes  Compression=   5.06     *\r\n",
      "*............................................................................*\r\n",
      "*Br    7 :Muon_isTrackerMuon : vector<int>                                   *\r\n",
      "*Entries :    99999 : Total  Size=    2002388 bytes  File Size  =     370689 *\r\n",
      "*Baskets :       76 : Basket Size=      32000 bytes  Compression=   5.40     *\r\n",
      "*............................................................................*\r\n",
      "*Br    8 :Muon_dB   : vector<float>                                          *\r\n",
      "*Entries :    99999 : Total  Size=    2001405 bytes  File Size  =     979502 *\r\n",
      "*Baskets :       75 : Basket Size=      32000 bytes  Compression=   2.04     *\r\n",
      "*............................................................................*\r\n",
      "*Br    9 :Muon_edB  : vector<float>                                          *\r\n",
      "*Entries :    99999 : Total  Size=    2001484 bytes  File Size  =     924940 *\r\n",
      "*Baskets :       75 : Basket Size=      32000 bytes  Compression=   2.16     *\r\n",
      "*............................................................................*\r\n",
      "*Br   10 :Muon_isolation_sumPt : vector<float>                               *\r\n",
      "*Entries :    99999 : Total  Size=    2002548 bytes  File Size  =     812426 *\r\n",
      "*Baskets :       76 : Basket Size=      32000 bytes  Compression=   2.46     *\r\n",
      "*............................................................................*\r\n",
      "*Br   11 :Muon_isolation_emEt : vector<float>                               "
     ]
    }
   ],
   "source": [
    "# Import ROOT (ROOT is a analysis package used to handle \n",
    "## the tree files, but also histograms, etc.)\n",
    "import ROOT\n",
    "\n",
    "# Get the root file that contains the histograms for all muons: histos.root.\n",
    "Hfile=ROOT.TFile(\"datafiles/mytree.root\", \"read\")\n",
    "\n",
    "# List the histograms stored in the file\n",
    "Hfile.ls()\n",
    "\n",
    "Hfile.muons.Print()\n"
   ]
  },
  {
   "cell_type": "code",
   "execution_count": null,
   "metadata": {
    "collapsed": true
   },
   "outputs": [],
   "source": []
  }
 ],
 "metadata": {
  "celltoolbar": "Slideshow",
  "kernelspec": {
   "display_name": "Python 2",
   "language": "python",
   "name": "python2"
  },
  "language_info": {
   "codemirror_mode": {
    "name": "ipython",
    "version": 2
   },
   "file_extension": ".py",
   "mimetype": "text/x-python",
   "name": "python",
   "nbconvert_exporter": "python",
   "pygments_lexer": "ipython2",
   "version": "2.7.6"
  }
 },
 "nbformat": 4,
 "nbformat_minor": 0
}
