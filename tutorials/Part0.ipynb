{
 "cells": [
  {
   "cell_type": "markdown",
   "metadata": {
    "slideshow": {
     "slide_type": "-"
    }
   },
   "source": [
    "![](../AnalysisDesigner/datafiles/cms.png)\n",
    " \n",
    "# Start an Analysis in Experimental Particle Physics (0) \n",
    "\n",
    "## Create your own NTuple from the CMS Open Data \n",
    "\n",
    "In this example you will learn: \n",
    "\n",
    "* How to create the ROOT \"tree\" structure with the information of all particles produced in each event measured in the CMS detector\n",
    "\n",
    "Let's start!\n",
    "\n",
    "In the context of the analysis collisions observed in a detector like CMS, the data structure corresponding\n",
    "to each \"event\" (i.e. to each collision) can be quite complex, as it includes information from basic detector signals to the different particles reconstructed and their measured properties. In High Energy Physics, within the ROOT framework, it is usually used this complex data structure called \"tree\" to help the data access. \n",
    "\n",
    "We will use derived [open data files from CMS](http://opendata.cern.ch/) that include many thousands of collisions. These files contain the muon and electron collections in PAT candidate format derived from the full 2010 RunB Muon ([DOI: 10.7483/OPENDATA.CMS.RJW2.QP44](http://opendata.cern.ch/record/201)) or Electron ([DOI: 10.7483/OPENDATA.CMS.HHTK.9FS2](http://opendata.cern.ch/record/202)) primary datasets. No filters are applied, apart from the list of the validated runs. \n",
    "\n",
    "The first important step is to read the original quite complex \"trees\" and make a simpler \"flat\" data structure, where we have for each collision (event) the number of different particles produced, and for each one their properties, like a very long array:\n",
    "\n",
    "** Event 1 ** (with n1 particles, m variables )\n",
    "\n",
    "variable 1: particle 1, particle 2,..., particle n1\n",
    "\n",
    "variable 2: particle 1, particle 2, ...,particle n1 \n",
    "\n",
    "...\n",
    "\n",
    "variable m:  particle 1, particle 2, ...,particle n1 \n",
    "\n",
    "\n",
    "** Event 2 ** (with n2 particles, m variables )\n",
    "\n",
    "variable 1: particle 1, particle 2,..., particle n2\n",
    "\n",
    "variable 2: particle 1, particle 2, ...,particle n2\n",
    "\n",
    "...\n",
    "\n",
    "variable m:  particle 1, particle 2, ...,particle n2 \n",
    "\n",
    "** Event X ** (with nX particles, m variables )\n",
    "\n",
    "...\n",
    "\n",
    "\n",
    "\n",
    "These simplified structures are known as \"ntuples\", and  they can be created from the original \n",
    "very complex CMS open data files using two scripts **createTTree.py** and **exeCreateTTree.py**, they \n",
    "could be useful to you in the future if you want to explore further CMS open data.\n"
   ]
  },
  {
   "cell_type": "markdown",
   "metadata": {},
   "source": [
    "### How can you created new ntuples from the CMS Open Data ? \n",
    "\n",
    "You have to run the [**createTTree.py**](../AnalysisDesigner/createTTree.py) scripts, that produce the final ntuple by: \n",
    "\n",
    " * create a new .root file and a new tree to store in it. \n",
    " * declare the name of your tree variables\n",
    " * create the tree branches and associate them to the variables\n",
    " * populate the branches and fill the tree\n",
    "\n",
    "To execute the previous code you need to run [**exeCreateTTree.py**](./AnalysisDesigner/exeCreateTTree.py). In this script you must specify the complete path of your original data files and the number of total events you want to process to fill the tree: the one used in this example runs over 500.000 events. "
   ]
  },
  {
   "cell_type": "code",
   "execution_count": 1,
   "metadata": {
    "scrolled": false,
    "slideshow": {
     "slide_type": "-"
    }
   },
   "outputs": [
    {
     "name": "stdout",
     "output_type": "stream",
     "text": [
      "/home/jovyan/work/CmsOpenData/AnalysisDesigner\n"
     ]
    }
   ],
   "source": [
    "cd ~/work/CmsOpenData/AnalysisDesigner"
   ]
  },
  {
   "cell_type": "markdown",
   "metadata": {},
   "source": [
    "If you want to inspect the variables stored in the ROOT file mytree.root, just run the following code: "
   ]
  },
  {
   "cell_type": "code",
   "execution_count": 3,
   "metadata": {
    "slideshow": {
     "slide_type": "fragment"
    }
   },
   "outputs": [
    {
     "name": "stdout",
     "output_type": "stream",
     "text": [
      "TFile**\t\tdatafiles/mytree.root\t\n",
      " TFile*\t\tdatafiles/mytree.root\t\n",
      "  KEY: TTree\tmuons;3\tmuons tree [current cycle]\n",
      "  KEY: TTree\tmuons;2\tmuons tree [backup cycle]\n",
      "******************************************************************************\n",
      "*Tree    :muons     : muons tree                                             *\n",
      "*Entries :   499999 : Total =       202869735 bytes  File  Size =   74565333 *\n",
      "*        :          : Tree compression factor =   2.72                       *\n",
      "******************************************************************************\n",
      "*Br    0 :Muon_pt   : vector<float>                                          *\n",
      "*Entries :   499999 : Total  Size=   10142383 bytes  File Size  =    4827637 *\n",
      "*Baskets :      152 : Basket Size=    3198976 bytes  Compression=   2.10     *\n",
      "*............................................................................*\n",
      "*Br    1 :Muon_eta  : vector<float>                                          *\n",
      "*Entries :   499999 : Total  Size=   10142539 bytes  File Size  =    4957032 *\n",
      "*Baskets :      152 : Basket Size=    3198976 bytes  Compression=   2.05     *\n",
      "*............................................................................*\n",
      "*Br    2 :Muon_px   : vector<float>                                          *\n",
      "*Entries :   499999 : Total  Size=   10142383 bytes  File Size  =    4992719 *\n",
      "*Baskets :      152 : Basket Size=    3198976 bytes  Compression=   2.03     *\n",
      "*............................................................................*\n",
      "*Br    3 :Muon_py   : vector<float>                                          *\n",
      "*Entries :   499999 : Total  Size=   10142383 bytes  File Size  =    4994921 *\n",
      "*Baskets :      152 : Basket Size=    3198976 bytes  Compression=   2.03     *\n",
      "*............................................................................*\n",
      "*Br    4 :Muon_pz   : vector<float>                                          *\n",
      "*Entries :   499999 : Total  Size=   10142383 bytes  File Size  =    4990487 *\n",
      "*Baskets :      152 : Basket Size=    3198976 bytes  Compression=   2.03     *\n",
      "*............................................................................*\n",
      "*Br    5 :Muon_energy : vector<float>                                        *\n",
      "*Entries :   499999 : Total  Size=   10143007 bytes  File Size  =    4814661 *\n",
      "*Baskets :      152 : Basket Size=    3199488 bytes  Compression=   2.11     *\n",
      "*............................................................................*\n",
      "*Br    6 :Muon_isGlobalMuon : vector<int>                                    *\n",
      "*Entries :   499999 : Total  Size=   10143943 bytes  File Size  =    1869603 *\n",
      "*Baskets :      152 : Basket Size=    3200000 bytes  Compression=   5.42     *\n",
      "*............................................................................*\n",
      "*Br    7 :Muon_isTrackerMuon : vector<int>                                   *\n",
      "*Entries :   499999 : Total  Size=   10144099 bytes  File Size  =    1736095 *\n",
      "*Baskets :      152 : Basket Size=    3200512 bytes  Compression=   5.84     *\n",
      "*............................................................................*\n",
      "*Br    8 :Muon_isStandAloneMuon : vector<int>                                *\n",
      "*Entries :   499999 : Total  Size=   10144567 bytes  File Size  =    1800420 *\n",
      "*Baskets :      152 : Basket Size=    3200512 bytes  Compression=   5.63     *\n",
      "*............................................................................*\n",
      "*Br    9 :Muon_dB   : vector<float>                                          *\n",
      "*Entries :   499999 : Total  Size=   10142383 bytes  File Size  =    4923074 *\n",
      "*Baskets :      152 : Basket Size=    3198976 bytes  Compression=   2.06     *\n",
      "*............................................................................*\n",
      "*Br   10 :Muon_edB  : vector<float>                                          *\n",
      "*Entries :   499999 : Total  Size=   10142539 bytes  File Size  =    4652391 *\n",
      "*Baskets :      152 : Basket Size=    3198976 bytes  Compression=   2.18     *\n",
      "*............................................................................*\n",
      "*Br   11 :Muon_isolation_sumPt : vector<float>                               *\n",
      "*Entries :   499999 : Total  Size=   10144411 bytes  File Size  =    4050134 *\n",
      "*Baskets :      152 : Basket Size=    3200512 bytes  Compression=   2.50     *\n",
      "*............................................................................*\n",
      "*Br   12 :Muon_isolation_emEt : vector<float>                                *\n",
      "*Entries :   499999 : Total  Size=   10144255 bytes  File Size  =    4345809 *\n",
      "*Baskets :      152 : Basket Size=    3200512 bytes  Compression=   2.33     *\n",
      "*............................................................................*\n",
      "*Br   13 :Muon_isolation_hadEt : vector<float>                               *\n",
      "*Entries :   499999 : Total  Size=   10144411 bytes  File Size  =    3269028 *\n",
      "*Baskets :      152 : Basket Size=    3200512 bytes  Compression=   3.10     *\n",
      "*............................................................................*\n",
      "*Br   14 :Muon_numberOfValidHits : vector<int>                               *\n",
      "*Entries :   499999 : Total  Size=   10144841 bytes  File Size  =    2531857 *\n",
      "*Baskets :      153 : Basket Size=    3201024 bytes  Compression=   4.01     *\n",
      "*............................................................................*\n",
      "*Br   15 :Muon_normChi2 : vector<float>                                      *\n",
      "*Entries :   499999 : Total  Size=   10143319 bytes  File Size  =    4071423 *\n",
      "*Baskets :      152 : Basket Size=    3199488 bytes  Compression=   2.49     *\n",
      "*............................................................................*\n",
      "*Br   16 :Muon_charge : vector<int>                                          *\n",
      "*Entries :   499999 : Total  Size=   10143007 bytes  File Size  =    2004278 *\n",
      "*Baskets :      152 : Basket Size=    3199488 bytes  Compression=   5.06     *\n",
      "*............................................................................*\n",
      "*Br   17 :Muon_distance : vector<float>                                      *\n",
      "*Entries :   499999 : Total  Size=   10143319 bytes  File Size  =    4675736 *\n",
      "*Baskets :      152 : Basket Size=    3199488 bytes  Compression=   2.17     *\n",
      "*............................................................................*\n",
      "*Br   18 :Muon_numOfMatches : vector<int>                                    *\n",
      "*Entries :   499999 : Total  Size=   10143943 bytes  File Size  =    2343140 *\n",
      "*Baskets :      152 : Basket Size=    3200000 bytes  Compression=   4.33     *\n",
      "*............................................................................*\n",
      "*Br   19 :Muon_NValidHitsSATk : vector<int>                                  *\n",
      "*Entries :   499999 : Total  Size=   10144255 bytes  File Size  =    2686008 *\n",
      "*Baskets :      152 : Basket Size=    3200512 bytes  Compression=   3.78     *\n",
      "*............................................................................*\n"
     ]
    }
   ],
   "source": [
    "# Import ROOT (ROOT is a analysis package used to handle \n",
    "# the tree files, but also histograms, etc.)\n",
    "import ROOT\n",
    "\n",
    "# Get the root file that contains the histograms for all muons: histos.root.\n",
    "Hfile=ROOT.TFile(\"datafiles/mytree.root\", \"read\")\n",
    "\n",
    "# List the histograms stored in the file\n",
    "Hfile.ls()\n",
    "\n",
    "Hfile.muons.Print()"
   ]
  },
  {
   "cell_type": "code",
   "execution_count": null,
   "metadata": {
    "collapsed": true
   },
   "outputs": [],
   "source": []
  }
 ],
 "metadata": {
  "celltoolbar": "Slideshow",
  "kernelspec": {
   "display_name": "Python 3 (ipykernel)",
   "language": "python",
   "name": "python3"
  },
  "language_info": {
   "codemirror_mode": {
    "name": "ipython",
    "version": 3
   },
   "file_extension": ".py",
   "mimetype": "text/x-python",
   "name": "python",
   "nbconvert_exporter": "python",
   "pygments_lexer": "ipython3",
   "version": "3.9.7"
  }
 },
 "nbformat": 4,
 "nbformat_minor": 1
}
