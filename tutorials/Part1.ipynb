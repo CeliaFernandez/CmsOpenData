{
 "cells": [
  {
   "cell_type": "markdown",
   "metadata": {},
   "source": [
    "![](../AnalysisDesigner/datafiles/cms.png)\n",
    " \n",
    "# Start an Analysis in Experimental Particle Physics (1) \n",
    "\n",
    "## Part 1: Muon identification and isolation varibles in CMS. \n",
    "\n",
    "In this example you will learn: \n",
    "\n",
    "* How to use the ROOT \"tree\" structure of the information of particles in events measured in the CMS detector\n",
    "\n",
    "* How to define and apply a selection criteria on the events collected using the information of the particles detected\n",
    "\n",
    "* How to fill a histogram with the information selected and analyze the distribution of an observable\n",
    "\n",
    "Let's start!\n",
    "\n",
    "There is already a simplified NTuple version of the original data created to perform the following exercise and named **mytree.root**. It coints the minimum information to work with. If you need to include more information you can create your own NTuple by following the instructions under [Part0: create your own NTuple from the CMS Open Data.](./Part0.ipynb).\n",
    "\n",
    "\n",
    "We have prepared a basic script that shows you how to make a loop to read the information of \n",
    "all the particles on these events and then perform a simple analysis: [**Analyzer_All.py**](../AnalysisDesigner/Analyzer_All.py). \n",
    "\n",
    "You can have a look to the code and understand what is done:\n",
    "\n",
    "   * The class AnalyzerAll is inherited from the class [**Analyzer**](../AnalysisDesigner/Analyzer.py). \n",
    "   \n",
    "   * For each event (collision) we read the information for all the muons reconstructed (if any) and stored in a [TTree](https://root.cern.ch/doc/master/classTTree.html) called *muons*.    \n",
    "  \n",
    "   * We store in a local variable all the information available for each muon: the momentum (pt, px, ..), geometrical coordinates (eta, phi) and all the variables needed for the identification and isolation.\n",
    "\n",
    "   * We create different **histograms** in ROOT format [TH1F](https://root.cern.ch/doc/master/classTH1F.html) for all the variables associated to each muon and that can be shown as a **plot**.\n",
    "\n",
    "   * We can also compute new observables, like the invariant mass of two muons, and also plot it.\n",
    "   \n",
    "The aim of this exercise is that you explore the muons detected in the events and also \n",
    "have a first look to see if some of these muons could come from the decay of a Z boson.\n",
    "\n",
    "**NOTE:** \n",
    "\n",
    "For each exercise, you will need to import the **ROOT** package to run the code and you have to use your user area for analysis. \n",
    "\n",
    "For running the code under Jupyter you will need to Run each section marked with a number, or you can go to the upper menu and under Cell select **Run All** "
   ]
  },
  {
   "cell_type": "code",
   "execution_count": 2,
   "metadata": {
    "scrolled": false
   },
   "outputs": [
    {
     "name": "stdout",
     "output_type": "stream",
     "text": [
      "/home/jovyan/work/CmsOpenData/AnalysisDesigner\n"
     ]
    }
   ],
   "source": [
    "cd ~/work/CmsOpenData/AnalysisDesigner"
   ]
  },
  {
   "cell_type": "markdown",
   "metadata": {},
   "source": [
    "* ### Run the Analysis for All muons\n",
    "\n",
    "\n",
    "Now we will perform the analysis for all muons, running the module [**Analyzer_All.py**](../AnalysisDesigner/Analyzer_All.py), and producing the histograms that are saved in a file **histos.root** that will be stored in the [**datafiles**](../AnalysisDesigner/datafiles) folder.\n",
    "\n",
    "Each histogram [TH1F](https://root.cern.ch/doc/master/classTH1F.html) is saved with a name started by *h_* followed by the *name of the kinematic variable*.\n",
    "\n",
    "Following the steps describe before:         "
   ]
  },
  {
   "cell_type": "code",
   "execution_count": 3,
   "metadata": {
    "scrolled": false
   },
   "outputs": [
    {
     "name": "stdout",
     "output_type": "stream",
     "text": [
      "Welcome to JupyROOT 6.24/06\n"
     ]
    }
   ],
   "source": [
    "# ROOT is a analysis package used to handle \n",
    "# the tree files, but also histograms, etc.\n",
    "import ROOT\n",
    "import sys\n",
    "\n",
    "# Import the main module which run the analysis for ALL particles\n",
    "from Analyzer import Analyzer\n",
    "\n",
    "# Instance of AnalyzerAll\n",
    "analysis = Analyzer()"
   ]
  },
  {
   "cell_type": "code",
   "execution_count": 4,
   "metadata": {},
   "outputs": [
    {
     "name": "stdout",
     "output_type": "stream",
     "text": [
      "*** Begin job\n",
      "Start the Analysis\n",
      "> h_type filled (1/19)\n",
      "> h_pt filled (2/19)\n",
      "> h_px filled (3/19)\n",
      "> h_py filled (4/19)\n",
      "> h_pz filled (5/19)\n",
      "> h_eta filled (6/19)\n",
      "> h_energy filled (7/19)\n",
      "> h_dz filled (8/19)\n",
      "> h_charge filled (9/19)\n",
      "> h_normChi2 filled (10/19)\n",
      "> h_numberOfValidHits filled (11/19)\n",
      "> h_numOfMatches filled (12/19)\n",
      "> h_NValidHitsSATk filled (13/19)\n",
      "> h_dB filled (14/19)\n",
      "> h_isolation_sumPt (15/19)\n",
      "> h_isolation_emEt filled (16/19)\n",
      "> h_isolation_hadEt filled (17/19)\n",
      "> h_isolation filled (18/19)\n",
      "> h_mass filled (19/19)\n",
      "*** writing file Name: datafiles/histos.root Title: \n",
      "*** done\n",
      "\u001b[1;34mWell done!\u001b[1;m analysis ended. Now you can plot the histograms.\n"
     ]
    }
   ],
   "source": [
    "#Loop over events\n",
    "#--------------------------------------------------------------------\n",
    "\n",
    "#Specify the output file name\n",
    "analysis.beginJob()\n",
    "print(\"Start the Analysis\")\n",
    "\n",
    "analysis.FillHistogramsFromTree()\n",
    "\n",
    "analysis.endJob(\"histos.root\")\n",
    "\n",
    "print(\"\\033[1;34mWell done!\\033[1;m analysis ended. Now you can plot the histograms.\")"
   ]
  },
  {
   "cell_type": "markdown",
   "metadata": {},
   "source": [
    "* ### Check your h_histograms\n",
    "<p style=\"margin-right:0%; margin-left:0%; font-size:14px; font-weight: 200; line-height: 1.2em\">\n",
    "\n",
    "Open the **histos.root** file for reading and printing the list of histograms saved in it."
   ]
  },
  {
   "cell_type": "code",
   "execution_count": 5,
   "metadata": {
    "scrolled": true
   },
   "outputs": [
    {
     "name": "stdout",
     "output_type": "stream",
     "text": [
      "TFile**\t\tdatafiles/histos.root\t\n",
      " TFile*\t\tdatafiles/histos.root\t\n",
      "  KEY: TH1F\th_type;1\tNumber of Muons\n",
      "  KEY: TH1F\th_pt;1\tMuons Transverse Momentun\n",
      "  KEY: TH1F\th_px;1\tMuons x- Momentun\n",
      "  KEY: TH1F\th_py;1\tMuons y- Momentun\n",
      "  KEY: TH1F\th_pz;1\tMuons z- Momentun\n",
      "  KEY: TH1F\th_eta;1\tPseudorapidity\n",
      "  KEY: TH1F\th_energy;1\tMuons Energy\n",
      "  KEY: TH1F\th_dz;1\tDistance from Primary vertex Z\n",
      "  KEY: TH1F\th_charge;1\tMuons Charge\n",
      "  KEY: TH1F\th_normChi2;1\tMuons Chi2/ndof\n",
      "  KEY: TH1F\th_numberOfValidHits;1\tNumber of Valid Hits\n",
      "  KEY: TH1F\th_numOfMatches;1\tNumber of muon chambers matched\n",
      "  KEY: TH1F\th_NValidHitsSATk;1\tNumber of hits in the muon chambers\n",
      "  KEY: TH1F\th_dB;1\tImpact Parameter\n",
      "  KEY: TH1F\th_isolation_sumPt;1\tMuon tracker Isolation\n",
      "  KEY: TH1F\th_isolation_emEt;1\tMuon ECAL Isolation\n",
      "  KEY: TH1F\th_isolation_hadEt;1\tMuon HCAL Isolation\n",
      "  KEY: TH1F\th_isolation;1\tMuon relative Isolation\n",
      "  KEY: TH1F\th_mass;1\tInvariant mass\n"
     ]
    }
   ],
   "source": [
    "# Get the root file that contains the histograms for all muons: histos.root.\n",
    "Hfile=ROOT.TFile(\"datafiles/histos.root\", \"read\")\n",
    "\n",
    "# List the histograms stored in the file\n",
    "Hfile.ls()"
   ]
  },
  {
   "cell_type": "markdown",
   "metadata": {},
   "source": [
    " * ### Learn the kinematic variables\n",
    "<p style=\"margin-right:0%; margin-left:0%; font-size:14px; font-weight: 200; line-height: 1.2em\">\n",
    "\n",
    "Here you have a set of varibles, used for muon identification and isolation, and the histogram name used to save them:\n",
    "\n",
    "             - number of muons reconstructed (1):                     'h_MuonTypes'\n",
    "             - transverse momentum (in XY plane):                     'h_pt'\n",
    "             - momentum X-coordinate px:                              'h_px'\n",
    "             - momentum Y-coordinate py:                              'h_py'\n",
    "             - momentum Z-coordinate pz:                              'h_pz' \n",
    "             - pseudorapidity eta (2):                                'h_eta'\n",
    "             - energy:                                                'h_energy'\n",
    "             - charge:                                                'h_charge'\n",
    "             - distance between particle Z-coord and Primary Vertex:  'h_dz'\n",
    "             - impact paremeter dB (in xy plane):                     'h_dB'\n",
    "             - normalize Chi2/n.d.o.f.:                               'h_normChi2'\n",
    "             - number of valid hits in the Tracker:                   'h_numberOfValidHits'\n",
    "             - number of valid hits in the Muon chambers:             'h_NValidHitsSATk'\n",
    "             - number of muon chamber matches the tracker track:      'h_numOfMatches'\n",
    "             - tracker isolation:                                     'h_isolation_sumPt'\n",
    "             - electromagnetic caloremeter isolation:                 'h_isolation_emEt'\n",
    "             - hadronic caloremeter isolation:                        'h_isolation_hadEt'    \n",
    "             - relative isolation (3)                                 'h_isolation'\n",
    "             - invariant mass:                                        'h_mass'\n",
    "\n",
    "\n",
    "\n",
    "\n",
    " (1) Each bin contains the number of Tracker Muons, Standalone Muons, Global Muon or Global and Tracker Muons. \n",
    " \n",
    " (2) See [pseudorapitidy](https://en.wikipedia.org/wiki/Pseudorapidity) \n",
    " \n",
    " (3) Relative isolation defined as: relIso = (sumPt+emEt+hadEt)/pt "
   ]
  },
  {
   "cell_type": "markdown",
   "metadata": {},
   "source": [
    "* ### Draw Histos\n",
    "\n",
    "Once you have created the file containing all the histograms, the next step is to plot each of the histogram, and study each variable. Here, we detail some procedures \n",
    "\n",
    "**1.**         Create a ROOT [TCanvas](https://root.cern.ch/doc/master/classTCanvas.html) and draw the histogram on it. "
   ]
  },
  {
   "cell_type": "markdown",
   "metadata": {},
   "source": [
    "**2.** Set your favorite configuration. \n",
    "\n",
    "Once you have created the variable where the histogram is stored, and after drawing it, you can customize the histogram and canvas options. \n",
    "\n",
    "References:\n",
    "[Tcolor Class](https://root.cern.ch/doc/master/classTColor.html)\n",
    "[Histogram Customization](https://root.cern.ch/doc/v606/classTHistPainter.html)\n",
    "[Marker Atributtes such as color, size or style for histograms](https://root.cern.ch/doc/master/classTAttMarker.html)"
   ]
  },
  {
   "cell_type": "code",
   "execution_count": 6,
   "metadata": {
    "scrolled": false
   },
   "outputs": [
    {
     "data": {
      "image/png": "[encoded data removed]",
      "text/plain": [
       "<IPython.core.display.Image object>"
      ]
     },
     "metadata": {},
     "output_type": "display_data"
    }
   ],
   "source": [
    "### Get the root file that contains the histograms for all muons: histos.root.\n",
    "Hfile=ROOT.TFile(\"datafiles/histos.root\", \"read\")\n",
    "\n",
    "### You must create a variable to store the histogram selected.\n",
    "histo1=Hfile.Get('h_pt')\n",
    "\n",
    "### First: Create the canvas where the histogram is going to be drawn\n",
    "canvas = ROOT.TCanvas(\"myCanvas\",\"All muons\",700,600)\n",
    "\n",
    "### Second: Draw the histogram\n",
    "ROOT.gPad.SetLeftMargin(0.2)\n",
    "histo1.Draw()\n",
    "\n",
    "### Third : Draw the canvas\n",
    "canvas.Draw()"
   ]
  },
  {
   "cell_type": "code",
   "execution_count": 7,
   "metadata": {
    "scrolled": false
   },
   "outputs": [
    {
     "data": {
      "image/png": "[encoded data removed]",
      "text/plain": [
       "<IPython.core.display.Image object>"
      ]
     },
     "metadata": {},
     "output_type": "display_data"
    }
   ],
   "source": [
    "### Change the line color\n",
    "histo1.SetLineColor(4)\n",
    "\n",
    "### Change the bounds of the histograms for X Axis \n",
    "#histo1.GetXaxis().SetRangeUser(1, 2);\n",
    "\n",
    "\n",
    "### Change the bins for the histograms by diving by a divisor of the initial\n",
    "# number of bins. \n",
    "## Note: To restore the binning you must to draw the histo again.\n",
    "#histo1.Rebin(2)\n",
    "\n",
    "### Create the legend. TLegend(x1, y1, x2, y2)\n",
    "legend =ROOT.TLegend(0.7,0.8,0.50,0.7);\n",
    "#legend.SetHeader(\"Title\");\n",
    "legend.AddEntry(histo1,\"All muons\",\"l\");\n",
    "#legend->AddEntry(\"gr\",\"Graph with error bars\",\"lep\");\n",
    "legend.Draw();\n",
    "\n",
    "### Twist linear scale for Y axe to the logaritmic one with the function SetLogy.\n",
    "canvas.SetLogy()\n",
    "\n",
    "### Draw the histogram again and check your changes \n",
    "canvas.Draw()"
   ]
  },
  {
   "cell_type": "markdown",
   "metadata": {},
   "source": [
    "**3.**         Save the image in a .png file. \n",
    "\n",
    "The previous procedure does not save the image automatically, it just shows you the picture. This statement can be written before or after stablish your favorite setting. Hence, you can collect both histograms for the analysis. \n",
    "\n",
    "All the .png files created are stored in the folder [output_histograms](../output_histograms)"
   ]
  },
  {
   "cell_type": "code",
   "execution_count": 8,
   "metadata": {
    "scrolled": false
   },
   "outputs": [
    {
     "name": "stderr",
     "output_type": "stream",
     "text": [
      "Info in <TCanvas::Print>: png file ../output_histograms/pt.png has been created\n"
     ]
    }
   ],
   "source": [
    "# If you want keep it, you must type: \n",
    "# NOTE: Write the name of the file \n",
    "\n",
    "name = \"pt\"\n",
    "canvas.SaveAs(\"../output_histograms/\"+ name +\".png\")\n",
    "\n",
    "# This save the last image as a .png file."
   ]
  },
  {
   "cell_type": "markdown",
   "metadata": {},
   "source": [
    "4. And set again your preferences. **PAY ATTENTION**: some settings are applied on the histo variable some others on the canvas.  "
   ]
  }
 ],
 "metadata": {
  "kernelspec": {
   "display_name": "Python 3 (ipykernel)",
   "language": "python",
   "name": "python3"
  },
  "language_info": {
   "codemirror_mode": {
    "name": "ipython",
    "version": 3
   },
   "file_extension": ".py",
   "mimetype": "text/x-python",
   "name": "python",
   "nbconvert_exporter": "python",
   "pygments_lexer": "ipython3",
   "version": "3.9.7"
  }
 },
 "nbformat": 4,
 "nbformat_minor": 1
}
