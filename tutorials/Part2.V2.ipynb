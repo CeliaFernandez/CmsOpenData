{
 "cells": [
  {
   "cell_type": "markdown",
   "metadata": {},
   "source": [
    "![](/home/ubuntu/CmsOpenData/AnalysisDesigner/datafiles/cms.png)\n",
    " \n",
    "\n",
    "<p style=\"margin-right:8%; margin-left:8%; font-size:25px; font-weight: 200; line-height: 1.5em\">\n",
    "# Start an Analysis in Experimental Particle Physics (2) \n",
    "\n",
    "## Part 2.1: How to identify and isolated muons for your analysis and observation of Z-boson candidates. \n",
    "\n",
    "In this second step, you must run [**Analyzer_Selection.py**](https://cmsopendata.ifca.es/jupyter/edit/AnalysisDesigner/Analyzer_Selection.py) script. This code perform the same analysis as in the part 1 of the analyis, but it fills each histogram only for those muons previously identified and isolated. \n",
    "\n",
    "For doing that you should include the selection criteria for each of the variables used in the step 1 of the analysis, and include such selection in the script [**Cuts.py**](https://cmsopendata.ifca.es/jupyter/edit/AnalysisDesigner/Cuts.py). \n",
    "\n",
    " Take a look into Analyzer_Selection.py and Cuts.py and notice that a few amount of muons pass the cuts depending on the value of their variables. \n",
    "\n",
    "The result of this analysis is a set of histograms that contain valuable statistic information about each kinematic variable for all selected particles produced a long of all events. The aim of this exercise is getting the right muon collection produced in Z->mumu decays. \n",
    "\n",
    "\n",
    "**NOTE:** \n",
    "\n",
    "For each exercise, to run the code is necessary to import **ROOT**."
   ]
  },
  {
   "cell_type": "code",
   "execution_count": 1,
   "metadata": {
    "collapsed": false
   },
   "outputs": [
    {
     "data": {
      "application/javascript": [
       "require(['codemirror/mode/clike/clike'], function(Clike) { console.log('ROOTaaS - C++ CodeMirror module loaded'); });"
      ]
     },
     "metadata": {},
     "output_type": "display_data"
    },
    {
     "data": {
      "application/javascript": [
       "IPython.CodeCell.config_defaults.highlight_modes['magic_text/x-c++src'] = {'reg':[/^%%cpp/]};"
      ]
     },
     "metadata": {},
     "output_type": "display_data"
    },
    {
     "name": "stdout",
     "output_type": "stream",
     "text": [
      "Welcome to ROOTaaS 6.06/00\n"
     ]
    }
   ],
   "source": [
    "# Import ROOT\n",
    "import ROOT"
   ]
  },
  {
   "cell_type": "code",
   "execution_count": 2,
   "metadata": {
    "collapsed": false
   },
   "outputs": [
    {
     "name": "stdout",
     "output_type": "stream",
     "text": [
      "/home/ubuntu/CmsOpenData/AnalysisDesigner\n"
     ]
    }
   ],
   "source": [
    "cd /home/ubuntu/CmsOpenData/AnalysisDesigner"
   ]
  },
  {
   "cell_type": "markdown",
   "metadata": {},
   "source": [
    "### Define the quality criteria for identify and isolate a muon.  \n",
    "\n",
    "Before performing the analysis, you must define the cut parameter for all the muon variables, in [**Cuts.py**](https://cmsopendata.ifca.es/jupyter/edit/AnalysisDesigner/Cuts.py) script. \n",
    "\n",
    "* Require to each muon to be Global (*Muon_isGlobalMuon*)\n",
    "\n",
    "\n",
    "* Minimum transverse momentum (*Muon_pt*)\n",
    "\n",
    "\n",
    "* Maximum possible eta for a detected muon (*Muon_eta*)\n",
    "\n",
    "\n",
    "* Chi2/ndof less than...  (*Muon_normChi2*)\n",
    "\n",
    "\n",
    "* Number of valid hits in the muon chambers used in the fit. (*Muon_NValidHitsSATk*)\n",
    "\n",
    "\n",
    "* Number of valid hits in the tracker used in the fit. (*numberOfValidHits*)\n",
    "\n",
    "\n",
    "* Number of muon chambers used in the fit. (*Muon_numOfMatches*) \n",
    "\n",
    "\n",
    "* Distance of the muon vertex to the primary vertex in z-axis. (*Muon_dz*)\n",
    "\n",
    "\n",
    "* Distance of the muon vertex to the primary vertex in xy-plane. (*Muon_dB*)\n",
    "\n",
    "\n",
    "* Require the muon to be isolated (use relative isolation). (*Muon_isolation*)"
   ]
  },
  {
   "cell_type": "code",
   "execution_count": 3,
   "metadata": {
    "collapsed": false
   },
   "outputs": [],
   "source": [
    "# Define the Cuts for your Selection for each muon variable or change, directly, in the Selector\n",
    "\n",
    "# Muon identification \n",
    "isGlobal = 1 \n",
    "pt_min = 5\n",
    "eta_max = 2.4\n",
    "normChi2 = 10\n",
    "numValidHitsSTATk = 10\n",
    "numValidHits = 10 \n",
    "numOfMatches = 1\n",
    "dz_max = 0.2\n",
    "dB_max = 0.02 # cm. dB=impact parameter\n",
    "\n",
    "#Muon isolation\n",
    "relIsolation = 0.15\n",
    "\n",
    "# Select your Z??? \n",
    "mass_min = 0\n"
   ]
  },
  {
   "cell_type": "markdown",
   "metadata": {},
   "source": [
    "Previous cuts are applied in the code as follows: "
   ]
  },
  {
   "cell_type": "code",
   "execution_count": 4,
   "metadata": {
    "collapsed": false
   },
   "outputs": [],
   "source": [
    "# Define the class for Selector\n",
    "class Selector(object):\n",
    "        ''' Class that make the selection from a defined Cuts'''\n",
    "        #def __init__(self):\n",
    "        #    print '''***Selector created'''\n",
    "        \n",
    "        def selector(self, analysis, particle):\n",
    "\n",
    "                '''Main class for making the selection'''\n",
    "                if not analysis.Muon_isGlobalMuon[particle] and not analysis.Muon_isTrackerMuon[particle]:\n",
    "                        return False\n",
    "                analysis.h_efficiency.Fill(2)\n",
    "\n",
    "                if analysis.Muon_pt [particle] < pt_min:\n",
    "                        return False\n",
    "                analysis.h_efficiency.Fill(3)\n",
    "\n",
    "                if analysis.Muon_eta[particle] > eta_max:\n",
    "                        return False\n",
    "                analysis.h_efficiency.Fill(4)\n",
    "\n",
    "                if analysis.Muon_normChi2[particle] > normChi2:\n",
    "                        return False\n",
    "                analysis.h_efficiency.Fill(5)\n",
    "                \n",
    "                if analysis.Muon_NValidHitsSATk[particle] < numValidHitsSTATk:\n",
    "                        return False\n",
    "                analysis.h_efficiency.Fill(6)\n",
    "                \n",
    "                if analysis.Muon_numberOfValidHits[particle] < numValidHits:\n",
    "                        return False\n",
    "                analysis.h_efficiency.Fill(7)\n",
    "                                          \n",
    "                if analysis.Muon_numOfMatches[particle] < numOfMatches:\n",
    "                        return False\n",
    "                analysis.h_efficiency.Fill(8)\n",
    "\n",
    "                if analysis.Muon_distance[particle] > dz_max:\n",
    "                        return False\n",
    "                analysis.h_efficiency.Fill(9)\n",
    "                \n",
    "                if analysis.Muon_dB[particle] > dB_max:\n",
    "                        return False\n",
    "                analysis.h_efficiency.Fill(10)\n",
    "\n",
    "                if ((analysis.Muon_isolation_sumPt[particle]+analysis.Muon_isolation_emEt[particle]\n",
    "                     +analysis.Muon_isolation_hadEt[particle])/analysis.Muon_pt[particle]) > cuts.relIsolation:\n",
    "                        return False\n",
    "                analysis.h_efficiency.Fill(11)\n",
    "                "
   ]
  },
  {
   "cell_type": "markdown",
   "metadata": {},
   "source": [
    "* ### Run the analysis with the selection criteria stablished in the Cuts module. \n",
    "<p style=\"margin-right:0%; margin-left:0%; font-size:14px; font-weight: 200; line-height: 1.2em\">\n",
    "\n",
    "You need to run the module [**Analyzer_Selection.py**](https://cmsopendata.ifca.es/jupyter/edit/AnalysisDesigner/Analyzer_Selection.py) and obtain a new root file called **goodHistos.root**. It is stored in the [**datafiles**](https://cmsopendata.ifca.es/jupyter/tree/AnalysisDesigner/datafiles folder), and it contains the histograms for all the idefied and isolated muons, following your criteria. \n",
    "\n",
    "Each histogram is saved with a name started by **h_** followed by the **name of the kinematic variable**."
   ]
  },
  {
   "cell_type": "code",
   "execution_count": 5,
   "metadata": {
    "collapsed": false
   },
   "outputs": [],
   "source": [
    "import os\n",
    "import logging\n",
    "\n",
    "# Import the main module which run the analysis for ALL MUONS\n",
    "from Analyzer_Selection import AnalyzerSel\n",
    "\n",
    "\n",
    "# Instance of AnalyzerAll\n",
    "analysis = AnalyzerSel()"
   ]
  },
  {
   "cell_type": "code",
   "execution_count": null,
   "metadata": {
    "collapsed": false
   },
   "outputs": [
    {
     "name": "stdout",
     "output_type": "stream",
     "text": [
      "*** Begin job\n",
      "Start the Analysis\n",
      "Running ................\n"
     ]
    }
   ],
   "source": [
    "#Loop over events\n",
    "#--------------------------------------------------------------------\n",
    "analysis.beginJob(\"goodhistos.root\")\n",
    "print \"Start the Analysis\"\n",
    "\n",
    "print \"Running ................\"\n",
    "\n",
    "# For each event or entry,the following loop populates the tree branches, \n",
    "# creates every muon and add it to all_muons list\n",
    "\n",
    "for event in range(0, analysis.numEntries):\n",
    "    analysis.process(event)\n",
    "        \n",
    "analysis.endJob()\n",
    "\n",
    "\n",
    "print \"Well done! analysis ended. Now you can plot the histograms.\"\n"
   ]
  },
  {
   "cell_type": "markdown",
   "metadata": {},
   "source": [
    "* ### Check your h_histograms\n",
    "<p style=\"margin-right:0%; margin-left:0%; font-size:14px; font-weight: 200; line-height: 1.2em\">\n",
    "\n",
    "Open the goodHistos.root file for reading and printing the list of histograms saved in it. \n"
   ]
  },
  {
   "cell_type": "code",
   "execution_count": 10,
   "metadata": {
    "collapsed": false
   },
   "outputs": [
    {
     "name": "stdout",
     "output_type": "stream",
     "text": [
      "TFile**\t\tdatafiles/goodhistos.root\t\r\n",
      " TFile*\t\tdatafiles/goodhistos.root\t\r\n",
      "  KEY: TH1F\th_efficiency;1\tefficiency\r\n",
      "  KEY: TH1F\th_type;1\tNumber of Muons\r\n",
      "  KEY: TH1F\th_pt;1\tMuons Transverse Momentun\r\n",
      "  KEY: TH1F\th_px;1\tMuons x- Momentun\r\n",
      "  KEY: TH1F\th_py;1\tMuons y- Momentun\r\n",
      "  KEY: TH1F\th_pz;1\tMuons z- Momentun\r\n",
      "  KEY: TH1F\th_eta;1\tAngle Transvese\r\n",
      "  KEY: TH1F\th_energy;1\tMuons Energy\r\n",
      "  KEY: TH1F\th_dz;1\tDistance from Primary vertex Z \r\n",
      "  KEY: TH1F\th_charge;1\tMuons Charge\r\n",
      "  KEY: TH1F\th_normChi2;1\tMuons Chi2/ndof\r\n",
      "  KEY: TH1F\th_numberOfValidHits;1\tNumber of Valid Hits\r\n",
      "  KEY: TH1F\th_numOfMatches;1\tNumber of muon chambers matched\r\n",
      "  KEY: TH1F\th_NValidHitsSATk;1\tNumber of hits in the muon chambers\r\n",
      "  KEY: TH1F\th_dB;1\tImpact Parameter\r\n",
      "  KEY: TH1F\th_isolation_sumPt;1\tTracker Isolation\r\n",
      "  KEY: TH1F\th_isolation_emEt;1\tECAL Isolation\r\n",
      "  KEY: TH1F\th_isolation_hadEt;1\tHCAL Isolation\r\n",
      "  KEY: TH1F\th_isolation;1\tRelative Isolation\r\n",
      "  KEY: TH1F\th_mass;1\tMassInv\r\n"
     ]
    }
   ],
   "source": [
    "# Get the root file that contains the histograms for selected muons: goodHistos.root.\n",
    "Gfile = ROOT.TFile(\"datafiles/goodhistos.root\", \"read\")\n",
    "\n",
    "# List the histograms in the file\n",
    "Gfile.ls()"
   ]
  },
  {
   "cell_type": "markdown",
   "metadata": {},
   "source": [
    "* ### Check your selection efficiency \n",
    "\n",
    "We have added a new important histogram called **efficiency**. For each selection cut in [**Cuts.py**](https://cmsopendata.ifca.es/jupyter/edit/AnalysisDesigner/Cuts.py) we defined the following value: \n",
    "\n",
    "<p style=\"margin-right:0%; margin-left:0%; font-size:14px; font-weight: 200; line-height: 1.2em\">\n",
    "**efficiency = Number of events after cut N / Number of events after cut N-1**\n",
    "\n",
    "Let's plot the efficiency of each identification and isolation cut. Could you compute the final efficiency of your selection? "
   ]
  },
  {
   "cell_type": "code",
   "execution_count": 11,
   "metadata": {
    "collapsed": false
   },
   "outputs": [
    {
     "name": "stdout",
     "output_type": "stream",
     "text": [
      " \n",
      "---------------------------------- \n",
      "FINAL EVENTS IN EACH SELECTION CUT \n",
      "---------------------------------- \n",
      " \n",
      "All:                                781606.0\n",
      "Is Global and Traker Mu:            649367.0\n",
      "Pt Min:                             441794.0\n",
      "Eta Max:                            441294.0\n",
      "Chi2/ndof:                          437304.0\n",
      "# of Valid Hits in the STA track:   430212.0\n",
      "# of Valid Hits in the TRK track:   422055.0\n",
      "# of Matched Muon chmbers:          421044.0\n",
      "dz Max:                             398108.0\n",
      "dB Max:                             349423.0\n",
      "Relative Isolation:                 77745.0\n"
     ]
    },
    {
     "data": {
      "image/png": "[encoded data removed]",
      "text/plain": [
       "<IPython.core.display.Image object>"
      ]
     },
     "metadata": {},
     "output_type": "display_data"
    }
   ],
   "source": [
    "### You must create a variable to store the histograms selected.\n",
    "histo2 = Gfile.Get('h_efficiency')\n",
    "\n",
    "histo2.GetXaxis().SetBinLabel(1,\"all\")\n",
    "histo2.GetXaxis().SetBinLabel(2, \"GLB&TK\")\n",
    "histo2.GetXaxis().SetBinLabel(3, \"pt min\")\n",
    "histo2.GetXaxis().SetBinLabel(4, \"eta max\")\n",
    "histo2.GetXaxis().SetBinLabel(5, \"Chi2\")\n",
    "histo2.GetXaxis().SetBinLabel(6, \"#Hits STA\") \n",
    "histo2.GetXaxis().SetBinLabel(7, \"#Hits Tk\")\n",
    "histo2.GetXaxis().SetBinLabel(8, \"#Matches\") \n",
    "histo2.GetXaxis().SetBinLabel(9, \"dz max\")\n",
    "histo2.GetXaxis().SetBinLabel(10, \"dB max\")\n",
    "histo2.GetXaxis().SetBinLabel(11, \"relIso\")\n",
    "\n",
    "print \" \"\n",
    "print \"---------------------------------- \"\n",
    "print \"FINAL EVENTS IN EACH SELECTION CUT \"\n",
    "print \"---------------------------------- \"\n",
    "print \" \"\n",
    "print \"All:                               \", histo2.GetBinContent(1)\n",
    "print \"Is Global and Traker Mu:           \", histo2.GetBinContent(2)\n",
    "print \"Pt Min:                            \", histo2.GetBinContent(3)\n",
    "print \"Eta Max:                           \", histo2.GetBinContent(4)\n",
    "print \"Chi2/ndof:                         \", histo2.GetBinContent(5)\n",
    "print \"# of Valid Hits in the STA track:  \", histo2.GetBinContent(6)\n",
    "print \"# of Valid Hits in the TRK track:  \", histo2.GetBinContent(7)\n",
    "print \"# of Matched Muon chmbers:         \", histo2.GetBinContent(8)\n",
    "print \"dz Max:                            \", histo2.GetBinContent(9)\n",
    "print \"dB Max:                            \", histo2.GetBinContent(10)\n",
    "print \"Relative Isolation:                \", histo2.GetBinContent(11)\n",
    "\n",
    "\n",
    "\n",
    "### Then create again a new the canvas where the histograms are going to be drawn\n",
    "canvas = ROOT.TCanvas(\"myCanvas\",\"Efficiency\",800,600)\n",
    "\n",
    "from ROOT import gStyle\n",
    "\n",
    "# To not print the top-right box of the first histogram\n",
    "gStyle.SetOptStat(0)\n",
    "\n",
    "# Draw the histograms in the same canvas\n",
    "#histo1.Draw()\n",
    "histo2.Draw(\"\")\n",
    "\n",
    "### At last, draw the canvas\n",
    "canvas.Draw()"
   ]
  },
  {
   "cell_type": "markdown",
   "metadata": {},
   "source": [
    "* ### Draw Histograms and compare them with the ones from the Tutorial 1 \n",
    "\n",
    "\n",
    "The next step is to plot the rest of the histograms created with the selection you applied. \n",
    "\n",
    "Follow the same root methods used in [Tutorial 1](https://cmsopendata.ifca.es/jupyter/notebooks/tutorials/Part1.V2.ipynb) to plot individual histograms. \n",
    "\n",
    "You can compare the histograms for all the muons stored in [**datafiles/histos.root**](https://cmsopendata.ifca.es/jupyter/tree/AnalysisDesigner/datafiles) and the histograms for only the muons you have identify and isolated in the present exercise and stored in [**datafiles/goodhistos.root**](https://cmsopendata.ifca.es/jupyter/tree/AnalysisDesigner/datafiles) on the same canvas: \n",
    "\n",
    "* To do that you must initialize the two histograms you want to draw, and only create one canvas. For example, we are going to draw the pt histograms of the muons you selected and we compare them with all the muons (i.e. no initial seletcion)\n"
   ]
  },
  {
   "cell_type": "code",
   "execution_count": 12,
   "metadata": {
    "collapsed": false
   },
   "outputs": [
    {
     "name": "stderr",
     "output_type": "stream",
     "text": [
      "TCanvas::Constructor:0: RuntimeWarning: Deleting canvas with same name: myCanvas\n"
     ]
    },
    {
     "data": {
      "image/png": "[encoded data removed]",
      "text/plain": [
       "<IPython.core.display.Image object>"
      ]
     },
     "metadata": {},
     "output_type": "display_data"
    }
   ],
   "source": [
    "### Get the root file that contains the histograms for all muons: histos.root, created in Tutorial 1 \n",
    "Hfile = ROOT.TFile(\"datafiles/histos.root\", \"read\")\n",
    "\n",
    "\n",
    "### You must create a variable to store the histograms selected.\n",
    "histo1 = Hfile.Get('h_pt')\n",
    "histo2 = Gfile.Get('h_pt')\n",
    "\n",
    "\n",
    "### Then create again a new the canvas where the histograms are going to be drawn\n",
    "canvas = ROOT.TCanvas(\"myCanvas\",\"All muons: Pt\",800,600)\n",
    "\n",
    "from ROOT import gStyle\n",
    "### One more time, draw the histogram\n",
    "#histo_all.SetTitle(\"pt good/all Comparation\")\n",
    "\n",
    "# To not print the top-right box of the first histogram\n",
    "gStyle.SetOptStat(0)\n",
    "\n",
    "# Draw the histograms in the same canvas\n",
    "histo1.Draw()\n",
    "histo2.Draw(\"same\")\n",
    "\n",
    "### At last, draw the canvas\n",
    "canvas.Draw()\n"
   ]
  },
  {
   "cell_type": "markdown",
   "metadata": {},
   "source": [
    "2. And set again your preferences. ** PAY ATTENTION :** some settings are applied on the histo variable some others on the canvas.  \n",
    "\n",
    "References:\n",
    "\n",
    "[Tcolor Class](https://root.cern.ch/doc/master/classTColor.html)\n",
    "\n",
    "[Histogram Customization](https://root.cern.ch/doc/v606/classTHistPainter.html)\n",
    "\n",
    "[Marker Atributtes such as color, size or style for histograms](https://root.cern.ch/doc/master/classTAttMarker.html)"
   ]
  },
  {
   "cell_type": "code",
   "execution_count": 13,
   "metadata": {
    "collapsed": false
   },
   "outputs": [
    {
     "data": {
      "image/png": "[encoded data removed]",
      "text/plain": [
       "<IPython.core.display.Image object>"
      ]
     },
     "metadata": {},
     "output_type": "display_data"
    }
   ],
   "source": [
    "### Change the line color \n",
    "histo1.SetLineColor(4)\n",
    "histo2.SetLineColor(2)\n",
    "\n",
    "### Change the bounds of the histograms for X Axis \n",
    "histo1.GetXaxis().SetRangeUser(0, 150);\n",
    "histo2.GetXaxis().SetRangeUser(0, 150);\n",
    "\n",
    "### Wrote the X-axis label\n",
    "histo1.GetXaxis().SetTitle(\"pT (GeV/c)\");\n",
    "\n",
    "### Change the bins for the histograms by diving by a divisor of the initial number of bins. \n",
    "## Note: To restore the binning you must to draw the histo again.\n",
    "#histo_all.Rebin(2)\n",
    "\n",
    "### Create the legend. TLegend(x1, y1, x2, y2)\n",
    "legend =ROOT.TLegend(0.7,0.8,0.50,0.7);\n",
    "legend.SetHeader(\"Muon Transverse Momentum\");\n",
    "legend.AddEntry(histo1, \"All muons\",\"l\");\n",
    "legend.AddEntry(histo2, \"Selected muons\",\"l\");\n",
    "\n",
    "#legend->AddEntry(\"gr\",\"Graph with error bars\",\"lep\");\n",
    "legend.Draw();\n",
    "\n",
    "### Twist linear scale for Y axe to the logaritmic one with the function SetLogy.\n",
    "canvas.SetLogy()\n",
    "\n",
    "### Draw the histogram again and check your changes \n",
    "canvas.Draw()"
   ]
  },
  {
   "cell_type": "markdown",
   "metadata": {},
   "source": [
    "## Part 2.2: Select pair of muons with opposite charge and compute their invariant mass\n",
    "\n",
    "In the [**Analyzer_Selection.py**](https://cmsopendata.ifca.es/jupyter/edit/AnalysisDesigner/Analyzer_Selection.py) script we have already selected pairs of muons in each event and we have compute their invariant mass, from the [four-momentum](https://en.wikipedia.org/wiki/Four-momentum) of each muon. \n",
    "\n",
    "\n",
    "On the following you have to compare the invariant mass histogram for all the muons, as in the Tutorial 1, and for the muons you have selected in the present analysis. How you select you Z boson ? \n"
   ]
  },
  {
   "cell_type": "code",
   "execution_count": 14,
   "metadata": {
    "collapsed": false
   },
   "outputs": [
    {
     "name": "stderr",
     "output_type": "stream",
     "text": [
      "TCanvas::Constructor:0: RuntimeWarning: Deleting canvas with same name: myCanvas\n"
     ]
    },
    {
     "data": {
      "image/png": "[encoded data removed]",
      "text/plain": [
       "<IPython.core.display.Image object>"
      ]
     },
     "metadata": {},
     "output_type": "display_data"
    }
   ],
   "source": [
    "### You must create a variable to store the histograms selected.\n",
    "histo3=Hfile.Get('h_mass')\n",
    "histo4=Gfile.Get('h_mass')\n",
    "\n",
    "\n",
    "### Then create again a new the canvas where the histograms are going to be drawn\n",
    "canvas = ROOT.TCanvas(\"myCanvas\",\"Invariant mass\",800,600)\n",
    "\n",
    "from ROOT import gStyle\n",
    "### One more time, draw the histogram\n",
    "histo3.SetTitle(\"Invariant Mass\")\n",
    "\n",
    "# To not print the top-right box of the first histogram\n",
    "gStyle.SetOptStat(0)\n",
    "# Draw the histograms in the same canvas\n",
    "histo3.Draw()\n",
    "histo4.Draw(\"same\")\n",
    "\n",
    "\n",
    "### At last, draw the canvas\n",
    "canvas.Draw()"
   ]
  },
  {
   "cell_type": "code",
   "execution_count": 15,
   "metadata": {
    "collapsed": false,
    "scrolled": false
   },
   "outputs": [
    {
     "data": {
      "image/png": "[encoded data removed]",
      "text/plain": [
       "<IPython.core.display.Image object>"
      ]
     },
     "metadata": {},
     "output_type": "display_data"
    }
   ],
   "source": [
    "### Change the line color \n",
    "histo3.SetLineColor(4)\n",
    "histo4.SetLineColor(2)\n",
    "\n",
    "### Change the bounds of the histograms for X Axis \n",
    "histo3.GetXaxis().SetRangeUser(0, 200);\n",
    "histo4.GetXaxis().SetRangeUser(0, 200);\n",
    "\n",
    "\n",
    "### Change the bins for the histograms by diving by a divisor of the initial number of bins. \n",
    "## Note: To restore the binning you must to draw the histo again.\n",
    "#histo1.Rebin(2)\n",
    "\n",
    "### Create the legend. TLegend(x1, y1, x2, y2)\n",
    "legend =ROOT.TLegend(0.7,0.8,0.50,0.7);\n",
    "legend.SetHeader(\"Invariant Mass\");\n",
    "legend.AddEntry(histo3, \"All muons\",\"l\");\n",
    "legend.AddEntry(histo4, \"Selected muons\",\"l\");\n",
    "\n",
    "### Wrote the X-axis label\n",
    "histo3.GetXaxis().SetTitle(\"Mll (GeV/c)\");\n",
    "\n",
    "#legend->AddEntry(\"gr\",\"Graph with error bars\",\"lep\");\n",
    "legend.Draw();\n",
    "\n",
    "### Twist linear scale for Y axe to the logaritmic one with the function SetLogy.\n",
    "canvas.SetLogy()\n",
    "\n",
    "### Draw the histogram again and check your changes \n",
    "canvas.Draw()"
   ]
  },
  {
   "cell_type": "markdown",
   "metadata": {},
   "source": [
    "* ## Save the images in a .png file. \n",
    "\n",
    "The previous procedure does not save the image automatically, it just shows you the picture. This statement can be written before or after stablish your favorite setting. Hence, you can collect both histograms for the analysis. \n",
    "\n",
    "All the .png files created are stored in the folder [output_histograms](https://cmsopendata.ifca.es/jupyter/tree/output_histograms)"
   ]
  },
  {
   "cell_type": "code",
   "execution_count": 16,
   "metadata": {
    "collapsed": false
   },
   "outputs": [
    {
     "name": "stderr",
     "output_type": "stream",
     "text": [
      "Info in <TCanvas::Print>: png file ../output_histograms/invariant mass.png has been created\r\n"
     ]
    }
   ],
   "source": [
    "# If you want keep it, you must type: \n",
    "# NOTE: Write the name of the file \n",
    "\n",
    "name = \"invariant mass\"\n",
    "canvas.SaveAs(\"../output_histograms/\"+ name +\".png\")\n",
    "\n",
    "# This save the last image as a .png file."
   ]
  },
  {
   "cell_type": "code",
   "execution_count": null,
   "metadata": {
    "collapsed": true
   },
   "outputs": [],
   "source": []
  }
 ],
 "metadata": {
  "celltoolbar": "Raw Cell Format",
  "kernelspec": {
   "display_name": "Python 2",
   "language": "python",
   "name": "python2"
  },
  "language_info": {
   "codemirror_mode": {
    "name": "ipython",
    "version": 2
   },
   "file_extension": ".py",
   "mimetype": "text/x-python",
   "name": "python",
   "nbconvert_exporter": "python",
   "pygments_lexer": "ipython2",
   "version": "2.7.6"
  }
 },
 "nbformat": 4,
 "nbformat_minor": 0
}
