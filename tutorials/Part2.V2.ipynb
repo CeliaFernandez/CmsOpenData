{
 "cells": [
  {
   "cell_type": "markdown",
   "metadata": {},
   "source": [
    "![](/home/ubuntu/CmsOpenData/AnalysisDesigner/datafiles/cms.png)\n",
    " \n",
    "\n",
    "<p style=\"margin-right:8%; margin-left:8%; font-size:25px; font-weight: 200; line-height: 1.5em\">\n",
    "**Second Part: How to carry out a selection criteria in the Analysis?**\n",
    "\n",
    "## Part2: Candidates selection\n",
    "This part is divided in two parts: \n",
    "\n",
    "* Apply a selection criteria \n",
    "* Evaluate the distribution performance\n",
    "\n",
    "In this second step, you must look at **Analyzer_Selection.py** script. This code, again, reads each event of the tree, but instead of filling directly the histograms, it makes a selection for each particle in the event. The selection criteria has been stablished in **Cuts.py** script. Take a look into Analyzer_Selection.py and Cuts.py and notice that a few amount of muons pass the cuts depending on the value of their variables. \n",
    "\n",
    "The result of this analysis is a set of histograms that contain valuable statistic information about each kinematic variable for all selected particles produced a long of all events. The aim of this exercise is getting the right muon collection produced in Z->mumu decays. \n",
    "\n",
    "\n",
    "**NOTE:** \n",
    "\n",
    "For each exercise, to run the code is necessary to import **ROOT**."
   ]
  },
  {
   "cell_type": "code",
   "execution_count": 21,
   "metadata": {
    "collapsed": false
   },
   "outputs": [],
   "source": [
    "# Import ROOT\n",
    "import ROOT"
   ]
  },
  {
   "cell_type": "code",
   "execution_count": 22,
   "metadata": {
    "collapsed": false
   },
   "outputs": [
    {
     "name": "stdout",
     "output_type": "stream",
     "text": [
      "/home/ubuntu/CmsOpenData/AnalysisDesigner\n"
     ]
    }
   ],
   "source": [
    "cd /home/ubuntu/CmsOpenData/AnalysisDesigner"
   ]
  },
  {
   "cell_type": "markdown",
   "metadata": {},
   "source": [
    "* ### Run the Analysis with the selection criteria, already, stablished in the Cuts module. \n",
    "<p style=\"margin-right:0%; margin-left:0%; font-size:14px; font-weight: 200; line-height: 1.2em\">\n",
    "Before performing the analysis, you must define the cut parameter for all the muon variables, in **Cuts.py** script. Then, you just run the module **Analyzer_Selection.py** and  obtain a root file: **goodHistos.root** stored in **datafiles** folder that contains the histograms for all muons. Each histogram is saved with a name started by *g_* followed by the *name of the kinematic variable*.\n",
    "<p style=\"margin-right:0%; margin-left:0%; font-size:14px; font-weight: 200; line-height: 1.2em\">\n",
    "*Cuts (pt_min, eta_max,distance, dB_max, isolation, mass_min, chi2, numValidHits) * "
   ]
  },
  {
   "cell_type": "code",
   "execution_count": 23,
   "metadata": {
    "collapsed": false
   },
   "outputs": [],
   "source": [
    "# Define the Cuts for your Selection for each muon variable or change, directly, in the Selector\n",
    "pt_min = 5\n",
    "eta_max = 2.4\n",
    "distance = 0.2\n",
    "dB_max = 0.02 # cm. dB=impact parameter\n",
    "isolation = 0.15\n",
    "#dimensionless. (sumPt+emEnergy+hadEnergy)/muon.pt = maxima energia antes de considerarlo como un jet de particulas.\n",
    "mass_min = 60\n",
    "normChi2 = 10\n",
    "numValidHits = 10"
   ]
  },
  {
   "cell_type": "code",
   "execution_count": 24,
   "metadata": {
    "collapsed": true
   },
   "outputs": [],
   "source": [
    "# Define the class for Selector\n",
    "class Selector(object):\n",
    "        ''' Class that make the selection from a defined Cuts'''\n",
    "        #def __init__(self):\n",
    "        #    print '''***Selector created'''\n",
    "        \n",
    "        def selector(self, analysis, particle):\n",
    "\n",
    "                '''Main class for making the selection'''\n",
    "                if not analysis.Muon_isGlobalMuon[particle]:\n",
    "                        return False\n",
    "                analysis.h_efficiency.Fill(2)\n",
    "\n",
    "                if not analysis.Muon_isTrackerMuon[particle]:\n",
    "                        return False\n",
    "                analysis.h_efficiency.Fill(3)\n",
    "\n",
    "                if analysis.Muon_pt [particle] < pt_min:\n",
    "                        return False\n",
    "                analysis.h_efficiency.Fill(4)\n",
    "\n",
    "                if analysis.Muon_eta[particle] > eta_max:\n",
    "                        return False\n",
    "                analysis.h_efficiency.Fill(5)\n",
    "\n",
    "                if analysis.Muon_dB[particle] > dB_max:\n",
    "                        return False\n",
    "\n",
    "                analysis.h_efficiency.Fill(6)\n",
    "\n",
    "                if ((analysis.Muon_isolation_sumPt[particle]+analysis.Muon_isolation_emEt[particle]+analysis.Muon_isolation_hadEt[particle])/analysis.Muon_pt[particle]) > cuts.isolation:\n",
    "                        return False\n",
    "                analysis.h_efficiency.Fill(7)\n",
    "\n",
    "                if analysis.Muon_distance[particle] > distance:\n",
    "                        return False\n",
    "\n",
    "                analysis.h_efficiency.Fill(8)\n",
    "\n",
    "                if analysis.Muon_normChi2[particle] > normChi2:\n",
    "                        return False"
   ]
  },
  {
   "cell_type": "markdown",
   "metadata": {},
   "source": [
    "* ### Run the Analysis with the selection criteria, already, stablished in the Cuts module. \n",
    "<p style=\"margin-right:0%; margin-left:0%; font-size:14px; font-weight: 200; line-height: 1.2em\">\n",
    "Before performing the analysis, you must define the cut parameter for all the muon variables, in **Cuts.py** script. Then, you just run the module **Analyzer_Selection.py** and  obtain a root file: **goodHistos.root** stored in **datafiles** folder that contains the histograms for all muons. Each histogram is saved with a name started by *g_* followed by the *name of the kinematic variable*."
   ]
  },
  {
   "cell_type": "code",
   "execution_count": 25,
   "metadata": {
    "collapsed": false
   },
   "outputs": [],
   "source": [
    "import os\n",
    "import logging\n",
    "\n",
    "# Import the main module which run the analysis for ALL MUONS\n",
    "from Analyzer_Selection import AnalyzerSel\n",
    "\n",
    "\n",
    "# Instance of AnalyzerAll\n",
    "analysis = AnalyzerSel()"
   ]
  },
  {
   "cell_type": "code",
   "execution_count": 26,
   "metadata": {
    "collapsed": false
   },
   "outputs": [
    {
     "name": "stdout",
     "output_type": "stream",
     "text": [
      "*** Begin job\n",
      "Start the Analysis\n",
      "*** writing file <ROOT.TFile object (\"datafiles/goodhistos.root\") at 0x5c63f60>\n",
      "*** done\n"
     ]
    }
   ],
   "source": [
    "#Loop over events\n",
    "#--------------------------------------------------------------------\n",
    "analysis.beginJob(\"goodhistos.root\")\n",
    "print \"Start the Analysis\"\n",
    "\n",
    "# For each event or entry,the following loop populates the tree branches, creates every muon and add it to all_muons list\n",
    "\n",
    "for event in range(0, analysis.numEntries):\n",
    "    analysis.process(event)\n",
    "        \n",
    "analysis.endJob()"
   ]
  },
  {
   "cell_type": "markdown",
   "metadata": {},
   "source": [
    "* ### Check your g_histogram\n",
    "<p style=\"margin-right:0%; margin-left:0%; font-size:14px; font-weight: 200; line-height: 1.2em\">\n",
    "Open the goodHistos.root file for reading and printing the list of histograms saved in it. \n",
    "In the selection was added a new variable called efficiency. The *efficiency* is defined by:\n",
    "<p style=\"margin-right:0%; margin-left:0%; font-size:14px; font-weight: 200; line-height: 1.2em\">\n",
    "**efficiency = Number of events after cut N / Number of events after cut N-1**"
   ]
  },
  {
   "cell_type": "code",
   "execution_count": 27,
   "metadata": {
    "collapsed": false
   },
   "outputs": [
    {
     "name": "stdout",
     "output_type": "stream",
     "text": [
      "TFile**\t\tdatafiles/goodhistos.root\t\r\n",
      " TFile*\t\tdatafiles/goodhistos.root\t\r\n",
      "  KEY: TH1F\th_efficiency;1\tefficiency\r\n",
      "  KEY: TH1F\th_pt;1\tMuons Transverse Momentun\r\n",
      "  KEY: TH1F\th_px;1\tMuons x- Momentun\r\n",
      "  KEY: TH1F\th_py;1\tMuons y- Momentun\r\n",
      "  KEY: TH1F\th_pz;1\tMuons z- Momentun\r\n",
      "  KEY: TH1F\th_eta;1\tAngle Transvese\r\n",
      "  KEY: TH1F\th_energy;1\tMuons Energy\r\n",
      "  KEY: TH1F\th_dz;1\tDistance from Primary vertex Z \r\n",
      "  KEY: TH1F\th_charge;1\tMuons Charge\r\n",
      "  KEY: TH1F\th_normChi2;1\tMuons Chi2/ndof\r\n",
      "  KEY: TH1F\th_numberOfValidHits;1\tNumber of Valid Hits\r\n",
      "  KEY: TH1F\th_dB;1\tImpact Parameter\r\n",
      "  KEY: TH1F\th_isolation_sumPt;1\tTracker Isolation\r\n",
      "  KEY: TH1F\th_isolation_emEt;1\tECAL Isolation\r\n",
      "  KEY: TH1F\th_isolation_hadEt;1\tHCAL Isolation\r\n",
      "  KEY: TH1F\th_isolation;1\tRelative Isolation\r\n",
      "  KEY: TH1F\th_mass;1\tMassInv\r\n"
     ]
    }
   ],
   "source": [
    "# Get the root file that contains the histograms for selected muons: goodHistos.root.\n",
    "Gfile = ROOT.TFile(\"datafiles/goodhistos.root\", \"read\")\n",
    "# List the histograms in the file\n",
    "Gfile.ls()"
   ]
  },
  {
   "cell_type": "markdown",
   "metadata": {},
   "source": [
    "* ### Draw Histos\n",
    "<p style=\"margin-right:0%; margin-left:0%; font-size:14px; font-weight: 200; line-height: 1.2em\">\n",
    "Once you have that file,  the next step is to plot the histogram. Follow the methods in example1 to plot only one histogram and see below how to display two histograms in the same canvas. "
   ]
  },
  {
   "cell_type": "markdown",
   "metadata": {},
   "source": [
    "** 4.** Draw more than one histogram in the same canvas\n",
    "\n",
    "It can be nice to compare more than one histogram in the same canvas. To do that you must create the two histograms as you want to draw, but just one canvas. For example, we are going to draw histograms for pt variable using the selected and all values."
   ]
  },
  {
   "cell_type": "code",
   "execution_count": 28,
   "metadata": {
    "collapsed": false
   },
   "outputs": [
    {
     "name": "stderr",
     "output_type": "stream",
     "text": [
      "TCanvas::Constructor:0: RuntimeWarning: Deleting canvas with same name: myCanvas\n"
     ]
    },
    {
     "data": {
      "image/png": "[encoded data removed]",
      "text/plain": [
       "<IPython.core.display.Image object>"
      ]
     },
     "metadata": {},
     "output_type": "display_data"
    }
   ],
   "source": [
    "### Get the root file that contains the histograms for all muons: histos.root.\n",
    "Hfile = ROOT.TFile(\"datafiles/histos.root\", \"read\")\n",
    "\n",
    "### You must create a variable to store the histograms selected.\n",
    "histo1 = Hfile.Get('h_pt')\n",
    "histo2 = Gfile.Get('h_pt')\n",
    "\n",
    "### Then create again a new the canvas where the histograms are going to be drawn\n",
    "canvas = ROOT.TCanvas(\"myCanvas\",\"All muons: Pt\",800,600)\n",
    "\n",
    "from ROOT import gStyle\n",
    "### One more time, draw the histogram\n",
    "histo1.SetTitle(\"pt good/all Comparation\")\n",
    "\n",
    "# To not print the top-right box of the first histogram\n",
    "gStyle.SetOptStat(0)\n",
    "\n",
    "# Draw the histograms in the same canvas\n",
    "histo1.Draw()\n",
    "histo2.Draw(\"same\")\n",
    "\n",
    "\n",
    "### At last, draw the canvas\n",
    "canvas.Draw()"
   ]
  },
  {
   "cell_type": "markdown",
   "metadata": {},
   "source": [
    "** 4.1.** And set again your preferences. ** PAY ATTENTION :** some settings are applied on the histo variable some others on the canvas.  "
   ]
  },
  {
   "cell_type": "code",
   "execution_count": 29,
   "metadata": {
    "collapsed": false
   },
   "outputs": [
    {
     "data": {
      "image/png": "[encoded data removed]",
      "text/plain": [
       "<IPython.core.display.Image object>"
      ]
     },
     "metadata": {},
     "output_type": "display_data"
    }
   ],
   "source": [
    "### Change the line color \n",
    "histo1.SetLineColor(4)\n",
    "histo2.SetLineColor(6)\n",
    "\n",
    "### Change the bounds of the histograms for X Axis \n",
    "histo1.GetXaxis().SetRangeUser(40, 120);\n",
    "histo2.GetXaxis().SetRangeUser(0, 200);\n",
    "\n",
    "### Change the bins for the histograms by diving by a divisor of the initial number of bins. \n",
    "## Note: To restore the binning you must to draw the histo again.\n",
    "histo1.Rebin(2)\n",
    "\n",
    "### Create the legend. TLegend(x1, y1, x2, y2)\n",
    "legend =ROOT.TLegend(0.1,0.2,0.30,0.3);\n",
    "legend.SetHeader(\"Muon Transverse Momentum\");\n",
    "legend.AddEntry(histo1, \"All pt\",\"l\");\n",
    "legend.AddEntry(histo2, \"Selected pt\",\"l\");\n",
    "\n",
    "#legend->AddEntry(\"gr\",\"Graph with error bars\",\"lep\");\n",
    "legend.Draw();\n",
    "\n",
    "### Twist linear scale for Y axe to the logaritmic one with the function SetLogy.\n",
    "canvas.SetLogy()\n",
    "\n",
    "### Draw the histogram again and check your changes \n",
    "canvas.Draw()"
   ]
  },
  {
   "cell_type": "code",
   "execution_count": 30,
   "metadata": {
    "collapsed": false
   },
   "outputs": [
    {
     "name": "stderr",
     "output_type": "stream",
     "text": [
      "TCanvas::Constructor:0: RuntimeWarning: Deleting canvas with same name: myCanvas\n"
     ]
    },
    {
     "data": {
      "image/png": "[encoded data removed]",
      "text/plain": [
       "<IPython.core.display.Image object>"
      ]
     },
     "metadata": {},
     "output_type": "display_data"
    }
   ],
   "source": [
    "### You must create a variable to store the histograms selected.\n",
    "histo3=Hfile.Get('h_mass')\n",
    "histo4=Gfile.Get('h_mass')\n",
    "\n",
    "### Then create again a new the canvas where the histograms are going to be drawn\n",
    "canvas = ROOT.TCanvas(\"myCanvas\",\"All muons: mass\",800,600)\n",
    "\n",
    "from ROOT import gStyle\n",
    "### One more time, draw the histogram\n",
    "histo3.SetTitle(\"Mass good/all Comparation\")\n",
    "\n",
    "# To not print the top-right box of the first histogram\n",
    "gStyle.SetOptStat(0)\n",
    "# Draw the histograms in the same canvas\n",
    "histo3.Draw()\n",
    "histo4.Draw(\"same\")\n",
    "\n",
    "\n",
    "### At last, draw the canvas\n",
    "canvas.Draw()"
   ]
  },
  {
   "cell_type": "code",
   "execution_count": 31,
   "metadata": {
    "collapsed": false
   },
   "outputs": [
    {
     "data": {
      "image/png": "[encoded data removed]",
      "text/plain": [
       "<IPython.core.display.Image object>"
      ]
     },
     "metadata": {},
     "output_type": "display_data"
    }
   ],
   "source": [
    "### Change the line color \n",
    "histo3.SetLineColor(4)\n",
    "histo4.SetLineColor(6)\n",
    "\n",
    "### Change the bounds of the histograms for X Axis \n",
    "histo3.GetXaxis().SetRangeUser(60, 120);\n",
    "histo4.GetXaxis().SetRangeUser(60, 120);\n",
    "\n",
    "### Change the bins for the histograms by diving by a divisor of the initial number of bins. \n",
    "## Note: To restore the binning you must to draw the histo again.\n",
    "#histo1.Rebin(2)\n",
    "\n",
    "### Create the legend. TLegend(x1, y1, x2, y2)\n",
    "legend =ROOT.TLegend(0.1,0.2,0.30,0.3);\n",
    "legend.SetHeader(\"Muon Invariant Mass\");\n",
    "legend.AddEntry(histo1, \"All mass\",\"l\");\n",
    "legend.AddEntry(histo2, \"Selected mass\",\"l\");\n",
    "\n",
    "#legend->AddEntry(\"gr\",\"Graph with error bars\",\"lep\");\n",
    "legend.Draw();\n",
    "\n",
    "### Twist linear scale for Y axe to the logaritmic one with the function SetLogy.\n",
    "canvas.SetLogy()\n",
    "\n",
    "### Draw the histogram again and check your changes \n",
    "canvas.Draw()"
   ]
  },
  {
   "cell_type": "code",
   "execution_count": null,
   "metadata": {
    "collapsed": true
   },
   "outputs": [],
   "source": []
  },
  {
   "cell_type": "code",
   "execution_count": null,
   "metadata": {
    "collapsed": true
   },
   "outputs": [],
   "source": []
  },
  {
   "cell_type": "code",
   "execution_count": null,
   "metadata": {
    "collapsed": true
   },
   "outputs": [],
   "source": []
  },
  {
   "cell_type": "code",
   "execution_count": null,
   "metadata": {
    "collapsed": true
   },
   "outputs": [],
   "source": []
  }
 ],
 "metadata": {
  "kernelspec": {
   "display_name": "Python 2",
   "language": "python",
   "name": "python2"
  },
  "language_info": {
   "codemirror_mode": {
    "name": "ipython",
    "version": 2
   },
   "file_extension": ".py",
   "mimetype": "text/x-python",
   "name": "python",
   "nbconvert_exporter": "python",
   "pygments_lexer": "ipython2",
   "version": "2.7.6"
  }
 },
 "nbformat": 4,
 "nbformat_minor": 0
}
