{
 "cells": [
  {
   "cell_type": "markdown",
   "metadata": {},
   "source": [
    "\n",
    "\n",
    "<p style=\"margin-right:8%; margin-left:8%; font-size:25px; font-weight: 200; line-height: 1.5em\">\n",
    "**Second Part: How to carry out a selection criteria in the Analysis?**\n",
    "\n",
    "## Example 2: Candidates selection\n",
    "This example is divided in two parts: \n",
    "\n",
    "* Apply a selection criteria \n",
    "* Evaluate the distribution performance\n",
    "\n",
    "In this second step, you must look at **Analyzer_Selection.py** script. This code, again, reads each event of the tree, but instead of filling directly the histograms, it makes a selection for each particle in the event. The selection criteria has been stablished in **Cuts.py** script. Take a look into Analyzer_Selection.py and Cuts.py and notice that a few amount of muons pass the cuts depending on the value of their variables. \n",
    "\n",
    "The result of this analysis is a set of histograms that contain valuable statistic information about each kinematic variable for all selected particles produced a long of all events. The aim of this exercise is getting the right muon collection produced in Z->mumu decays. \n",
    "\n",
    "\n",
    "**NOTE:** \n",
    "\n",
    "For each exercise, to run the code is necessary to import **ROOT**."
   ]
  },
  {
   "cell_type": "code",
   "execution_count": 1,
   "metadata": {
    "collapsed": false
   },
   "outputs": [
    {
     "data": {
      "application/javascript": [
       "require(['codemirror/mode/clike/clike'], function(Clike) { console.log('ROOTaaS - C++ CodeMirror module loaded'); });"
      ]
     },
     "metadata": {},
     "output_type": "display_data"
    },
    {
     "data": {
      "application/javascript": [
       "IPython.CodeCell.config_defaults.highlight_modes['magic_text/x-c++src'] = {'reg':[/^%%cpp/]};"
      ]
     },
     "metadata": {},
     "output_type": "display_data"
    },
    {
     "name": "stdout",
     "output_type": "stream",
     "text": [
      "Welcome to ROOTaaS 6.06/00\n"
     ]
    }
   ],
   "source": [
    "# Import ROOT\n",
    "import ROOT"
   ]
  },
  {
   "cell_type": "code",
   "execution_count": 2,
   "metadata": {
    "collapsed": false
   },
   "outputs": [
    {
     "name": "stdout",
     "output_type": "stream",
     "text": [
      "/home/jupyter/CmsOpenData/Analyzer_Package\n"
     ]
    }
   ],
   "source": [
    "cd /home/jupyter/CmsOpenData/Analyzer_Package"
   ]
  },
  {
   "cell_type": "markdown",
   "metadata": {
    "collapsed": true
   },
   "source": [
    "* ### Run the Analysis with the selection criteria, already, stablished in the Cuts module. \n",
    "<p style=\"margin-right:0%; margin-left:0%; font-size:14px; font-weight: 200; line-height: 1.2em\">\n",
    "Before performing the analysis, you must define the cut parameter for all the muon variables, in **Cuts.py** script. Then, you just run the module **Analyzer_Selection.py** and  obtain a root file: **goodHistos.root** stored in **datafiles** folder that contains the histograms for all muons. Each histogram is saved with a name started by *g_* followed by the *name of the kinematic variable*.\n",
    "<p style=\"margin-right:0%; margin-left:0%; font-size:14px; font-weight: 200; line-height: 1.2em\">\n",
    "*Cuts (pt_min, eta_max,distance, dB_max, isolation, mass_min, chi2, numValidHits) * "
   ]
  },
  {
   "cell_type": "markdown",
   "metadata": {},
   "source": [
    "* #### Calculate the mass \n",
    "<p style=\"margin-right:0%; margin-left:0%; font-size:14px; font-weight: 200; line-height: 1.2em\">\n",
    "for a pair of muons with different charge in the same event.\n",
    "<p style=\"margin-right:0%; margin-left:0%; font-size:14px; font-weight: 200; line-height: 1.2em\">\n",
    "mass = $ $ "
   ]
  },
  {
   "cell_type": "markdown",
   "metadata": {
    "collapsed": true
   },
   "source": [
    "def calculate_mass (self, muon1, muon2):\n",
    "    return mass"
   ]
  },
  {
   "cell_type": "code",
   "execution_count": 3,
   "metadata": {
    "collapsed": false
   },
   "outputs": [
    {
     "name": "stdout",
     "output_type": "stream",
     "text": [
      "Selected histograms saved in datafiles/goodHistos.root file\n"
     ]
    }
   ],
   "source": [
    "# Import the Analyzer module that only performs the reading of selected events from the tree\n",
    "from Analyzer_Selection import Analyzer\n",
    "\n",
    "# Call to the analysis and create the root file for histograms\n",
    "analysis=Analyzer()\n",
    "analysis.process()"
   ]
  },
  {
   "cell_type": "markdown",
   "metadata": {},
   "source": [
    "* ### Check your g_histogram\n",
    "<p style=\"margin-right:0%; margin-left:0%; font-size:14px; font-weight: 200; line-height: 1.2em\">\n",
    "Open the goodHistos.root file for reading and printing the list of histograms saved in it. \n",
    "In the selection was added a new variable called efficiency. The *efficiency* is defined by:\n",
    "<p style=\"margin-right:0%; margin-left:0%; font-size:14px; font-weight: 200; line-height: 1.2em\">\n",
    "**efficiency = Number of events after cut N / Number of events after cut N-1**"
   ]
  },
  {
   "cell_type": "code",
   "execution_count": 4,
   "metadata": {
    "collapsed": false
   },
   "outputs": [
    {
     "name": "stdout",
     "output_type": "stream",
     "text": [
      "TFile**\t\tdatafiles/goodHistos.root\t\r\n",
      " TFile*\t\tdatafiles/goodHistos.root\t\r\n",
      "  KEY: TH1F\tg_pt;1\tMuons Transverse Momentun\r\n",
      "  KEY: TH1F\tg_px;1\tMuons x- Momentun\r\n",
      "  KEY: TH1F\tg_py;1\tMuons y- Momentun\r\n",
      "  KEY: TH1F\tg_pz;1\tMuons z- Momentun\r\n",
      "  KEY: TH1F\tg_eta;1\tAngle Transvese\r\n",
      "  KEY: TH1F\tg_energy;1\tMuons Energy\r\n",
      "  KEY: TH1F\tg_distance;1\tDistance from Primary vertex Z \r\n",
      "  KEY: TH1F\tg_charge;1\tMuons Charge\r\n",
      "  KEY: TH1F\tg_normChi2;1\tMuons Chi2\r\n",
      "  KEY: TH1F\tg_numberOfValidHits;1\tNumber of Valid Hits\r\n",
      "  KEY: TH1F\tg_dB;1\tImpact Parameter\r\n",
      "  KEY: TH1F\tg_isolation_sumPt;1\tIsolationX\r\n",
      "  KEY: TH1F\tg_isolation_emEt;1\tIsolationX\r\n",
      "  KEY: TH1F\tg_isolation_hadEt;1\tIsolationX\r\n",
      "  KEY: TH1F\tg_mass;1\tInv_mass\r\n",
      "  KEY: TH1F\tg_efficiency;1\tefficiency\r\n"
     ]
    }
   ],
   "source": [
    "# Get the root file that contains the histograms for selected muons: goodHistos.root.\n",
    "Gfile=ROOT.TFile(\"datafiles/goodHistos.root\", \"read\")\n",
    "# List the histograms in the file\n",
    "Gfile.ls()"
   ]
  },
  {
   "cell_type": "markdown",
   "metadata": {},
   "source": [
    "* ### Draw Histos\n",
    "<p style=\"margin-right:0%; margin-left:0%; font-size:14px; font-weight: 200; line-height: 1.2em\">\n",
    "Once you have that file,  the next step is to plot the histogram. Follow the methods in example1 to plot only one histogram and see below how to display two histograms in the same canvas. "
   ]
  },
  {
   "cell_type": "markdown",
   "metadata": {
    "collapsed": true
   },
   "source": [
    "** 4.** Draw more than one histogram in the same canvas\n",
    "\n",
    "It can be nice to compare more than one histogram in the same canvas. To do that you must create the two histograms as you want to draw, but just one canvas. For example, we are going to draw histograms for pt variable using the selected and all values."
   ]
  },
  {
   "cell_type": "code",
   "execution_count": 5,
   "metadata": {
    "collapsed": false
   },
   "outputs": [
    {
     "ename": "ReferenceError",
     "evalue": "attempt to access a null-pointer",
     "output_type": "error",
     "traceback": [
      "\u001b[1;31m---------------------------------------------------------------------------\u001b[0m",
      "\u001b[1;31mReferenceError\u001b[0m                            Traceback (most recent call last)",
      "\u001b[1;32m<ipython-input-5-81ae9bdd8286>\u001b[0m in \u001b[0;36m<module>\u001b[1;34m()\u001b[0m\n\u001b[0;32m     18\u001b[0m \u001b[1;31m# Draw the histograms in the same canvas\u001b[0m\u001b[1;33m\u001b[0m\u001b[1;33m\u001b[0m\u001b[0m\n\u001b[0;32m     19\u001b[0m \u001b[0mhisto1\u001b[0m\u001b[1;33m.\u001b[0m\u001b[0mDraw\u001b[0m\u001b[1;33m(\u001b[0m\u001b[1;33m)\u001b[0m\u001b[1;33m\u001b[0m\u001b[0m\n\u001b[1;32m---> 20\u001b[1;33m \u001b[0mhisto2\u001b[0m\u001b[1;33m.\u001b[0m\u001b[0mDraw\u001b[0m\u001b[1;33m(\u001b[0m\u001b[1;34m\"same\"\u001b[0m\u001b[1;33m)\u001b[0m\u001b[1;33m\u001b[0m\u001b[0m\n\u001b[0m\u001b[0;32m     21\u001b[0m \u001b[1;33m\u001b[0m\u001b[0m\n\u001b[0;32m     22\u001b[0m \u001b[1;33m\u001b[0m\u001b[0m\n",
      "\u001b[1;31mReferenceError\u001b[0m: attempt to access a null-pointer"
     ]
    }
   ],
   "source": [
    "### Get the root file that contains the histograms for all muons: histos.root.\n",
    "Hfile=ROOT.TFile(\"datafiles/histos.root\", \"read\")\n",
    "Gfile=ROOT.TFile(\"datafiles/goodHistos.root\", \"read\")\n",
    "\n",
    "### You must create a variable to store the histograms selected.\n",
    "histo1=Hfile.Get('h_pt')\n",
    "histo2=Hfile.Get('g_pt')\n",
    "\n",
    "### Then create again a new the canvas where the histograms are going to be drawn\n",
    "canvas = ROOT.TCanvas(\"myCanvas\",\"All muons: Pt\",800,600)\n",
    "\n",
    "from ROOT import gStyle\n",
    "### One more time, draw the histogram\n",
    "histo1.SetTitle(\"pt good/all Comparation\")\n",
    "\n",
    "# To not print the top-right box of the first histogram\n",
    "gStyle.SetOptStat(0)\n",
    "# Draw the histograms in the same canvas\n",
    "histo1.Draw()\n",
    "histo2.Draw(\"same\")\n",
    "\n",
    "\n",
    "### At last, draw the canvas\n",
    "canvas.Draw()"
   ]
  },
  {
   "cell_type": "markdown",
   "metadata": {},
   "source": [
    "** 4.1.** And set again your preferences. ** PAY ATTENTION :** some settings are applied on the histo variable some others on the canvas.  "
   ]
  },
  {
   "cell_type": "code",
   "execution_count": null,
   "metadata": {
    "collapsed": true
   },
   "outputs": [],
   "source": [
    "### Change the line color \n",
    "histo1.SetLineColor(4)\n",
    "histo2.SetLineColor(6)\n",
    "\n",
    "### Change the bounds of the histograms for X Axis \n",
    "histo1.GetXaxis().SetRangeUser(40, 120);\n",
    "histo2.GetXaxis().SetRangeUser(0, 200);\n",
    "\n",
    "### Change the bins for the histograms by diving by a divisor of the initial number of bins. \n",
    "## Note: To restore the binning you must to draw the histo again.\n",
    "histo1.Rebin(2)\n",
    "\n",
    "### Create the legend. TLegend(x1, y1, x2, y2)\n",
    "legend =ROOT.TLegend(0.1,0.2,0.30,0.3);\n",
    "legend.SetHeader(\"All muons\");\n",
    "legend.AddEntry(histo1, \"All pt\",\"l\");\n",
    "legend.AddEntry(histo2, \"Selected pt\",\"l\");\n",
    "\n",
    "#legend->AddEntry(\"gr\",\"Graph with error bars\",\"lep\");\n",
    "legend.Draw();\n",
    "\n",
    "### Twist linear scale for Y axe to the logaritmic one with the function SetLogy.\n",
    "canvas.SetLogy()\n",
    "\n",
    "### Draw the histogram again and check your changes \n",
    "canvas.Draw()"
   ]
  },
  {
   "cell_type": "code",
   "execution_count": null,
   "metadata": {
    "collapsed": true
   },
   "outputs": [],
   "source": [
    "from Histos import Histos\n",
    "\n",
    "histo = Histos()\n",
    "\n",
    "histo.DrawHi(('h_pt', 'g_pt'))"
   ]
  },
  {
   "cell_type": "code",
   "execution_count": null,
   "metadata": {
    "collapsed": true
   },
   "outputs": [],
   "source": [
    "histo.Setting('pt_tunning', ('h_pt','g_pt'), scale = 'LogY', nbin = 2, xlimits = (0,100), legend = True )"
   ]
  }
 ],
 "metadata": {
  "kernelspec": {
   "display_name": "Python 2",
   "language": "python",
   "name": "python2"
  },
  "language_info": {
   "codemirror_mode": {
    "name": "ipython",
    "version": 2
   },
   "file_extension": ".py",
   "mimetype": "text/x-python",
   "name": "python",
   "nbconvert_exporter": "python",
   "pygments_lexer": "ipython2",
   "version": "2.7.6"
  }
 },
 "nbformat": 4,
 "nbformat_minor": 0
}
