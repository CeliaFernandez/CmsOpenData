{
 "cells": [
  {
   "cell_type": "markdown",
   "metadata": {},
   "source": [
    "![](./AnalysisDesigner/datafiles/cms.png)\n",
    " \n",
    "\n",
    "# Start an Analysis in Experimental Particle Physics (2) \n",
    "\n",
    "## Part 2.1: How to identify and isolated muons for your analysis and observation of Z-boson candidates. \n",
    "\n",
    "This part will guide you on the data selection by applying quality cuts in the reconstructed observables. You can follow the steps on this page or run it using a python terminal, in that case take a look in the follow instructions to set-up your environment and run.\n",
    "\n",
    "The result of this analysis is a set of histograms that contain valuable statistic information about each kinematic variable for all selected particles produced a long of all events. The aim of this exercise is getting the right muon collection produced in Z->mumu decays. \n",
    "\n",
    "#### Run it with a terminal \n",
    "In this second step, you must run [**Analyzer_Selection.py**](../AnalysisDesigner/Analyzer_Selection.py) script. This code perform the same analysis as in the part 1 of the analyis, but it fills each histogram only for those muons previously identified and isolated. \n",
    "\n",
    "For doing that you should include the selection criteria for each of the variables used in the step 1 of the analysis, and include such selection in the script [**Cuts.py**](../AnalysisDesigner/Cuts.py). \n",
    "\n",
    "Take a look into Analyzer_Selection.py and Cuts.py and notice that a few amount of muons pass the cuts depending on the value of their variables. \n",
    "\n",
    "\n",
    "**NOTE:**  To run the code is necessary to import **ROOT**."
   ]
  },
  {
   "cell_type": "code",
   "execution_count": null,
   "metadata": {},
   "outputs": [],
   "source": [
    "# Import ROOT\n",
    "import ROOT"
   ]
  },
  {
   "cell_type": "code",
   "execution_count": null,
   "metadata": {},
   "outputs": [],
   "source": [
    "cd ~/work/CmsOpenData/AnalysisDesigner"
   ]
  },
  {
   "cell_type": "markdown",
   "metadata": {},
   "source": [
    "### Define the quality criteria for identify and isolate a muon.  \n",
    "\n",
    "Before performing the analysis, you must define the cut parameter for all the muon variables below (which is part of the [**Cuts.py**](../AnalysisDesigner/Cuts.py) script). \n",
    "\n",
    "* Require to each muon to be Global (*Muon_isGlobalMuon*)\n",
    "\n",
    "\n",
    "* Minimum transverse momentum (*Muon_pt*)\n",
    "\n",
    "\n",
    "* Maximum possible eta for a detected muon (*Muon_eta*)\n",
    "\n",
    "\n",
    "* Chi2/ndof less than...  (*Muon_normChi2*)\n",
    "\n",
    "\n",
    "* Number of valid hits in the muon chambers used in the fit. (*Muon_NValidHitsSATk*)\n",
    "\n",
    "\n",
    "* Number of valid hits in the tracker used in the fit. (*numberOfValidHits*)\n",
    "\n",
    "\n",
    "* Number of muon chambers used in the fit. (*Muon_numOfMatches*) \n",
    "\n",
    "\n",
    "* Distance of the muon vertex to the primary vertex in z-axis. (*Muon_dz*)\n",
    "\n",
    "\n",
    "* Distance of the muon vertex to the primary vertex in xy-plane. (*Muon_dB*)\n",
    "\n",
    "\n",
    "* Require the muon to be isolated (use relative isolation). (*Muon_isolation*)"
   ]
  },
  {
   "cell_type": "code",
   "execution_count": null,
   "metadata": {},
   "outputs": [],
   "source": [
    "# Define the Cuts for your selection for each muon variable \n",
    "# Muon identification (MODIFY HERE): \n",
    "\n",
    "isGlobal = 1 # 1: if muons are required to be tracker or global muons, 0: if not \n",
    "pt_min = 0 # Try different positive values\n",
    "eta_max = 2.4\n",
    "normChi2 = 10\n",
    "numValidHitsSTATk = 1 # suggested: [5, 10, 15]\n",
    "numValidHits = 1 # suggested: [5, 10, 15]\n",
    "numOfMatches = 1 # suggested: [1, 2, 3]\n",
    "dz_max = 0.2 # suggested: [0.02, 0.2, 0.4]\n",
    "dB_max = 0.2 # suggested: [0.02, 0.1, 0.2]\n",
    "relIsolation = 100 # Try different values\n",
    "\n",
    "\n",
    "# Cut are implemented in the code as follows:\n",
    "\n",
    "from Cuts import Cuts\n",
    "\n",
    "muonCuts = Cuts(isGlobal,\n",
    "               pt_min,\n",
    "               eta_max,\n",
    "               normChi2,\n",
    "               numValidHitsSTATk,\n",
    "               numValidHits,\n",
    "               numOfMatches,\n",
    "               dz_max,\n",
    "               dB_max,\n",
    "               relIsolation)"
   ]
  },
  {
   "cell_type": "markdown",
   "metadata": {},
   "source": [
    "### Run the analysis with the selection criteria stablished in the Cuts module. \n",
    "\n",
    "Run next block of code, which is equivalent to run with a terminal the module [**Analyzer_Selection.py**](../AnalysisDesigner/Analyzer_Selection.py) to obtain a new root file called **goodHistos.root**. It is stored in the [**datafiles**](../AnalysisDesigner/datafiles) folder, and it contains the histograms for all the idefied and isolated muons, following your criteria. \n",
    "\n",
    "Each histogram is saved with a name started by **h_** followed by the **name of the kinematic variable**."
   ]
  },
  {
   "cell_type": "code",
   "execution_count": null,
   "metadata": {},
   "outputs": [],
   "source": [
    "import os\n",
    "import sys\n",
    "import logging\n",
    "\n",
    "# Import the main module which run the analysis for ALL MUONS\n",
    "from Analyzer import Analyzer\n",
    "\n",
    "# Instance of AnalyzerAll\n",
    "analysis = Analyzer()"
   ]
  },
  {
   "cell_type": "code",
   "execution_count": null,
   "metadata": {},
   "outputs": [],
   "source": [
    "#Loop over events\n",
    "#--------------------------------------------------------------------\n",
    "\n",
    "#Specify the output file name\n",
    "analysis.beginJob()\n",
    "print(\"Start the Analysis\")\n",
    "\n",
    "analysis.FillHistogramsFromTree(muonCuts)\n",
    "\n",
    "analysis.endJob(\"goodhistos.root\")\n",
    "\n",
    "print(\"\\033[1;34mWell done!\\033[1;m analysis ended. Now you can plot the histograms.\")"
   ]
  },
  {
   "cell_type": "markdown",
   "metadata": {},
   "source": [
    "### Check your h_histograms\n",
    "\n",
    "Open the goodHistos.root file for reading and printing the list of histograms saved in it. \n"
   ]
  },
  {
   "cell_type": "code",
   "execution_count": null,
   "metadata": {},
   "outputs": [],
   "source": [
    "!ls -l ~/work/CmsOpenData/AnalysisDesigner/datafiles"
   ]
  },
  {
   "cell_type": "code",
   "execution_count": null,
   "metadata": {},
   "outputs": [],
   "source": [
    "# Get the root file that contains the histograms for selected muons: goodHistos.root.\n",
    "Gfile = ROOT.TFile(\"~/work/CmsOpenData/AnalysisDesigner/datafiles/goodhistos.root\", \"read\")\n",
    "\n",
    "# List the histograms in the file\n",
    "Gfile.ls()"
   ]
  },
  {
   "cell_type": "markdown",
   "metadata": {},
   "source": [
    "### Check your selection efficiency \n",
    "\n",
    "We have added a new important histogram called **efficiency**. For each selection cut in [**Cuts.py**](../AnalysisDesigner/Cuts.py) we defined the following value: \n",
    "\n",
    "**efficiency = Number of events after cut N / Number of events after cut N-1**\n",
    "\n",
    "Let's plot the efficiency of each identification and isolation cut. Could you compute the final efficiency of your selection? "
   ]
  },
  {
   "cell_type": "code",
   "execution_count": null,
   "metadata": {},
   "outputs": [],
   "source": [
    "### You must create a variable to store the histograms selected.\n",
    "efficiency = ROOT.TH1F('h_efficiency','Muon efficiency',11,1,12)\n",
    "\n",
    "sequence = muonCuts.sequentialSelection()\n",
    "\n",
    "analysis.FillEfficiency(efficiency, sequence)\n",
    "\n",
    "efficiency.GetXaxis().SetTitle(\"Selection\")\n",
    "efficiency.GetYaxis().SetTitle(\"Number of selected muons\")\n",
    "efficiency.GetXaxis().SetBinLabel(1,\"all\")\n",
    "efficiency.GetXaxis().SetBinLabel(2, \"GLB&TK\")\n",
    "efficiency.GetXaxis().SetBinLabel(3, \"pt min\")\n",
    "efficiency.GetXaxis().SetBinLabel(4, \"eta max\")\n",
    "efficiency.GetXaxis().SetBinLabel(5, \"Chi2\")\n",
    "efficiency.GetXaxis().SetBinLabel(6, \"#Hits STA\") \n",
    "efficiency.GetXaxis().SetBinLabel(7, \"#Hits Tk\")\n",
    "efficiency.GetXaxis().SetBinLabel(8, \"#Matches\") \n",
    "efficiency.GetXaxis().SetBinLabel(9, \"dz max\")\n",
    "efficiency.GetXaxis().SetBinLabel(10, \"dB max\")\n",
    "efficiency.GetXaxis().SetBinLabel(11, \"relIso\")\n",
    "efficiency.SetMinimum(0)\n",
    "\n",
    "print(\" \")\n",
    "print(\"---------------------------------- \")\n",
    "print(\"FINAL EVENTS IN EACH SELECTION CUT \")\n",
    "print(\"---------------------------------- \")\n",
    "print(\" \")\n",
    "print(\"All:                               \", efficiency.GetBinContent(1))\n",
    "print(\"Is Global and Traker Mu:           \", efficiency.GetBinContent(2))\n",
    "print(\"Pt Min:                            \", efficiency.GetBinContent(3))\n",
    "print(\"Eta Max:                           \", efficiency.GetBinContent(4))\n",
    "print(\"Chi2/ndof:                         \", efficiency.GetBinContent(5))\n",
    "print(\"# of Valid Hits in the STA track:  \", efficiency.GetBinContent(6))\n",
    "print(\"# of Valid Hits in the TRK track:  \", efficiency.GetBinContent(7))\n",
    "print(\"# of Matched Muon chmbers:         \", efficiency.GetBinContent(8))\n",
    "print(\"dz Max:                            \", efficiency.GetBinContent(9))\n",
    "print(\"dB Max:                            \", efficiency.GetBinContent(10))\n",
    "print(\"Relative Isolation:                \", efficiency.GetBinContent(11))\n",
    "\n",
    "\n",
    "\n",
    "### Then create again a new the canvas where the histograms are going to be drawn\n",
    "canvas = ROOT.TCanvas(\"myCanvas\",\"Efficiency\",800,600)\n",
    "\n",
    "from ROOT import gStyle\n",
    "\n",
    "# To not print the top-right box of the first histogram\n",
    "gStyle.SetOptStat(0)\n",
    "\n",
    "# Draw the histograms in the same canvas\n",
    "#histo1.Draw()\n",
    "efficiency.Draw(\"\")\n",
    "\n",
    "### At last, draw the canvas\n",
    "canvas.Draw()"
   ]
  },
  {
   "cell_type": "markdown",
   "metadata": {},
   "source": [
    "### Draw Histograms and compare them with the ones from the Tutorial 1 \n",
    "\n",
    "\n",
    "The next step is to plot the rest of the histograms created with the selection you applied. \n",
    "\n",
    "Follow the same root methods used in [Tutorial 1](../tutorials/Part1.ipynb) to plot individual histograms. \n",
    "\n",
    "You can compare the histograms for all the muons stored in [**datafiles/histos.root**](../AnalysisDesigner/datafiles) and the histograms for only the muons you have identify and isolated in the present exercise and stored in [**datafiles/goodhistos.root**](../AnalysisDesigner/datafiles) on the same canvas: \n",
    "\n",
    "* To do that you must initialize the two histograms you want to draw, and only create one canvas. For example, we are going to draw the pt histograms of the muons you selected and we compare them with all the muons (i.e. no initial seletcion)\n"
   ]
  },
  {
   "cell_type": "code",
   "execution_count": null,
   "metadata": {},
   "outputs": [],
   "source": [
    "### Get the root file that contains the histograms for all muons: histos.root, created in Tutorial 1 \n",
    "Hfile = ROOT.TFile(\"datafiles/histos.root\", \"read\")\n",
    "\n",
    "### You must create a variable to store the histograms selected.\n",
    "histo1 = Hfile.Get('h_pt')\n",
    "histo2 = Gfile.Get('h_pt')\n",
    "\n",
    "### Then create again a new the canvas where the histograms are going to be drawn\n",
    "canvas = ROOT.TCanvas(\"myCanvas\",\"Distribution\",700,600)\n",
    "\n",
    "### Draw the histograms (all vs selected)\n",
    "\n",
    "# To not print the top-right box of the first histogram and adjust the margins\n",
    "from ROOT import gStyle, gPad\n",
    "gStyle.SetOptStat(0)\n",
    "gPad.SetLeftMargin(0.2)\n",
    "\n",
    "### Change the line color \n",
    "histo1.SetLineColor(4)\n",
    "histo2.SetLineColor(2)\n",
    "\n",
    "# Draw the histograms in the same canvas\n",
    "histo1.Draw()\n",
    "histo2.Draw(\"same\")\n",
    "\n",
    "### Create the legend. TLegend(x1, y1, x2, y2)\n",
    "legend =ROOT.TLegend(0.55,0.77,0.95,0.87);\n",
    "legend.SetHeader(histo1.GetTitle());\n",
    "legend.SetTextSize(0.025)\n",
    "legend.SetFillStyle(0)\n",
    "legend.SetBorderSize(0)\n",
    "legend.AddEntry(histo1, \"All muons\",\"l\");\n",
    "legend.AddEntry(histo2, \"Selected muons\",\"l\");\n",
    "legend.Draw();\n",
    "\n",
    "### At last, draw the canvas\n",
    "canvas.Draw()\n"
   ]
  },
  {
   "cell_type": "markdown",
   "metadata": {},
   "source": [
    "2. And set again your preferences. ** PAY ATTENTION :** some settings are applied on the histo variable some others on the canvas.  \n",
    "\n",
    "References: \n",
    "[Tcolor Class](https://root.cern.ch/doc/master/classTColor.html)\n",
    "[Histogram Customization](https://root.cern.ch/doc/v606/classTHistPainter.html)\n",
    "[Marker Atributtes such as color, size or style for histograms](https://root.cern.ch/doc/master/classTAttMarker.html)"
   ]
  },
  {
   "cell_type": "code",
   "execution_count": null,
   "metadata": {},
   "outputs": [],
   "source": [
    "### Change the bounds of the histograms for X Axis e.g.\n",
    "#histo1.GetXaxis().SetRangeUser(0, 150);\n",
    "#histo2.GetXaxis().SetRangeUser(0, 150);\n",
    "\n",
    "\n",
    "### Change the bins for the histograms by diving by a divisor of the initial number of bins. \n",
    "## Note: To restore the binning you must to draw the histo again.\n",
    "#histo_all.Rebin(2)\n",
    "\n",
    "### Twist linear scale for Y axe to the logaritmic one with the function SetLogy.\n",
    "canvas.SetLogy()\n",
    "\n",
    "### Draw the histogram again and check your changes \n",
    "canvas.Draw()"
   ]
  },
  {
   "cell_type": "markdown",
   "metadata": {},
   "source": [
    "## Part 2.2: Select pair of muons with opposite charge and compute their invariant mass\n",
    "\n",
    "In the previous part, through the [**Analyzer_Selection.py**](../AnalysisDesigner/Analyzer_Selection.py) script, we have already selected pairs of muons in each event and we have compute their invariant mass, from the [four-momentum](https://en.wikipedia.org/wiki/Four-momentum) of each muon. \n",
    "\n",
    "\n",
    "On the following you have to compare the invariant mass histogram for all the muons, as in the Tutorial 1, and for the muons you have selected in the present analysis. How do you select the Z boson? \n"
   ]
  },
  {
   "cell_type": "code",
   "execution_count": null,
   "metadata": {},
   "outputs": [],
   "source": [
    "### You must create a variable to store the histograms selected.\n",
    "histo3=Hfile.Get('h_mass')\n",
    "histo4=Gfile.Get('h_mass')\n",
    "\n",
    "\n",
    "### Then create again a new the canvas where the histograms are going to be drawn\n",
    "canvas = ROOT.TCanvas(\"myCanvas\",\"Invariant mass\",700,600)\n",
    "\n",
    "\n",
    "# To not print the top-right box of the first histogram\n",
    "from ROOT import gStyle, gPad\n",
    "gStyle.SetOptStat(0)\n",
    "gPad.SetLeftMargin(0.2)\n",
    "\n",
    "### Change the line color \n",
    "histo3.SetLineColor(4)\n",
    "histo4.SetLineColor(2)\n",
    "\n",
    "# Draw the histograms in the same canvas\n",
    "histo3.Draw()\n",
    "histo4.Draw(\"same\")\n",
    "\n",
    "### Create the legend. TLegend(x1, y1, x2, y2)\n",
    "legend =ROOT.TLegend(0.6,0.75,0.95,0.85);\n",
    "legend.SetHeader(histo3.GetTitle());\n",
    "legend.SetTextSize(0.025)\n",
    "legend.SetFillStyle(0)\n",
    "legend.SetBorderSize(0)\n",
    "legend.AddEntry(histo1, \"All muons\",\"l\");\n",
    "legend.AddEntry(histo2, \"Selected muons\",\"l\");\n",
    "legend.Draw();\n",
    "\n",
    "### At last, draw the canvas\n",
    "canvas.Draw()"
   ]
  },
  {
   "cell_type": "code",
   "execution_count": null,
   "metadata": {
    "scrolled": false
   },
   "outputs": [],
   "source": [
    "### Change the bounds of the histograms for X Axis \n",
    "#histo3.GetXaxis().SetRangeUser(0, 200);\n",
    "#histo4.GetXaxis().SetRangeUser(0, 200);\n",
    "\n",
    "### Change the bins for the histograms by diving by a divisor of the initial number of bins. \n",
    "## Note: To restore the binning you must to draw the histo again.\n",
    "#histo1.Rebin(2)\n",
    "\n",
    "### Twist linear scale for Y axe to the logaritmic one with the function SetLogy.\n",
    "canvas.SetLogy()\n",
    "\n",
    "### Draw the histogram again and check your changes \n",
    "canvas.Draw()"
   ]
  },
  {
   "cell_type": "markdown",
   "metadata": {},
   "source": [
    "### Save the images in a .png file. \n",
    "\n",
    "The previous procedure does not save the image automatically, it just shows you the picture. This statement can be written before or after stablish your favorite setting. Hence, you can collect both histograms for the analysis. \n",
    "\n",
    "All the .png files created are stored in the folder [output_histograms](../output_histograms)"
   ]
  },
  {
   "cell_type": "code",
   "execution_count": null,
   "metadata": {},
   "outputs": [],
   "source": [
    "# If you want keep it, you must type: \n",
    "# NOTE: Write the name of the file \n",
    "\n",
    "name = \"invariant mass\"\n",
    "canvas.SaveAs(\"../output_histograms/\"+ name +\".png\")\n",
    "\n",
    "# This save the last image as a .png file."
   ]
  },
  {
   "cell_type": "code",
   "execution_count": null,
   "metadata": {},
   "outputs": [],
   "source": []
  }
 ],
 "metadata": {
  "celltoolbar": "Raw Cell Format",
  "kernelspec": {
   "display_name": "Python 3 (ipykernel)",
   "language": "python",
   "name": "python3"
  },
  "language_info": {
   "codemirror_mode": {
    "name": "ipython",
    "version": 3
   },
   "file_extension": ".py",
   "mimetype": "text/x-python",
   "name": "python",
   "nbconvert_exporter": "python",
   "pygments_lexer": "ipython3",
   "version": "3.9.7"
  }
 },
 "nbformat": 4,
 "nbformat_minor": 1
}
