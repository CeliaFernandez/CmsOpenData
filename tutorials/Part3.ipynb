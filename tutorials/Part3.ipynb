{
 "cells": [
  {
   "cell_type": "markdown",
   "metadata": {},
   "source": [
    "![](/home/ubuntu/CmsOpenData/AnalysisDesigner/datafiles/cms.png)\n",
    " \n",
    "<p style=\"margin-right:8%; margin-left:8%; font-size:28px; font-weight: 200; line-height: 1.5em\">\n",
    "# Start an Analysis in Experimental Particle Physics (3) \n",
    "\n",
    "## Part 3: Measure of the Z-boson mass and decay width.\n",
    "\n",
    "\n",
    "\n",
    "* ### Fitting the Z mass peak\n",
    "\n",
    "Now you have selected in the [Tutorial 2.2](https://cmsopendata.ifca.es/hub/user/~/notebooks/tutorials/Part2.ipynb), those pairs of muons compatibles with a Z-boson, you can perfor a statistical analysis to measure the Z mass and decay width. \n",
    "\n",
    "All code you are going to need is provided in Analyzer_Package, so you can access it as many times as you need. We have implemented two different functions usually used for fitting the Z mass peak: a Gaussian and a Breit-Weigner. \n",
    "\n",
    "* [Gaussian](https://en.wikipedia.org/wiki/Normal_distribution) distribution:\n",
    "\n",
    "$$ G(x;\\mu,\\sigma) = \\dfrac{1}{\\sqrt{2\\pi}\\sigma}\\exp[-\\dfrac{(x-\\mu)^{2}}{2\\sigma^{2}}]    $$\n",
    "\n",
    "* [Relativistic Breit-Wigner](https://en.wikipedia.org/wiki/Relativistic_Breit%E2%80%93Wigner_distribution) distribution:\n",
    "\n",
    "$$ B(m;M,\\Gamma)= N * \\dfrac{2}{\\pi}*\\dfrac{\\Gamma^{2}M^{2}}{(m^{2}-M^{2})^{2} + m^{4}(\\Gamma^{2}/M^{2})}   $$\n",
    "\n",
    "To fit a generator-level Z peak a Breit-Wigner fit makes sense. However, reconstructed-level Z peaks have many detector resolutions that smear the Z mass peak. If the detector resolution is relatively poor, then it is usually good enough to fit a gaussian (since the gaussian detector resolution will overwhelm the inherent Briet-Wigner shape of the peak). If the detector resolution is fairly good, then another option is to fit a Breit-Wigner (for the inherent shape) convoluted with a gaussian (to describe the detector effects).This is in the \"no-background\" case. If you have backgrounds in your sample (Drell-Yan, cosmics, etc...), and you want to do the fit over a large mass range, then another function needs to be included to take care of this - an exponential is commonly used. \n",
    " \n",
    "**NOTE:** \n",
    "\n",
    "For each exercise, to run the code is necessary import **ROOT**.\n"
   ]
  },
  {
   "cell_type": "code",
   "execution_count": 1,
   "metadata": {
    "collapsed": false
   },
   "outputs": [
    {
     "data": {
      "application/javascript": [
       "require(['codemirror/mode/clike/clike'], function(Clike) { console.log('ROOTaaS - C++ CodeMirror module loaded'); });"
      ]
     },
     "metadata": {},
     "output_type": "display_data"
    },
    {
     "data": {
      "application/javascript": [
       "IPython.CodeCell.config_defaults.highlight_modes['magic_text/x-c++src'] = {'reg':[/^%%cpp/]};"
      ]
     },
     "metadata": {},
     "output_type": "display_data"
    },
    {
     "name": "stdout",
     "output_type": "stream",
     "text": [
      "Welcome to ROOTaaS 6.06/00\n"
     ]
    }
   ],
   "source": [
    "# Import ROOT\n",
    "import ROOT"
   ]
  },
  {
   "cell_type": "code",
   "execution_count": 2,
   "metadata": {
    "collapsed": false
   },
   "outputs": [
    {
     "name": "stdout",
     "output_type": "stream",
     "text": [
      "/home/aidaph/CmsOpenData/AnalysisDesigner\n"
     ]
    }
   ],
   "source": [
    "cd ~/CmsOpenData/AnalysisDesigner"
   ]
  },
  {
   "cell_type": "markdown",
   "metadata": {},
   "source": [
    "* ## Gaussian Fit"
   ]
  },
  {
   "cell_type": "code",
   "execution_count": 3,
   "metadata": {
    "collapsed": false,
    "scrolled": false
   },
   "outputs": [
    {
     "data": {
      "image/png": "[encoded data removed]",
      "text/plain": [
       "<IPython.core.display.Image object>"
      ]
     },
     "metadata": {},
     "output_type": "display_data"
    },
    {
     "name": "stdout",
     "output_type": "stream",
     "text": [
      " FCN=49.5698 FROM MIGRAD    STATUS=CONVERGED     102 CALLS         103 TOTAL\r\n",
      "                     EDM=4.654e-10    STRATEGY= 1  ERROR MATRIX UNCERTAINTY   1.9 per cent\r\n",
      "  EXT PARAMETER                                   STEP         FIRST   \r\n",
      "  NO.   NAME      VALUE            ERROR          SIZE      DERIVATIVE \r\n",
      "   1  Constant     5.55464e+01   5.57596e+00  -3.08140e-03   4.27574e-06\r\n",
      "   2  Mean         9.08595e+01   2.25420e-01   1.26713e-04   9.85401e-05\r\n",
      "   3  Sigma        2.67855e+00   1.81443e-01  -2.04156e-06  -3.50111e-04\r\n"
     ]
    }
   ],
   "source": [
    "# Get the root file that contains the histograms for selected muons: goodHistos.root.\n",
    "Gfile = ROOT.TFile(\"datafiles/goodhistos.root\", \"read\")\n",
    "\n",
    "### Then create again a new the canvas where the histograms are going to be drawn\n",
    "canvas = ROOT.TCanvas(\"myCanvas\",\"All muons: Pt\",800,600)\n",
    "\n",
    "histo6=Gfile.Get('h_mass')\n",
    "\n",
    "histo6.GetXaxis().SetRangeUser(60, 120)\n",
    "\n",
    "\n",
    "### One more time, draw the histogram\n",
    "histo6.SetTitle(\"Invariant Mass\")\n",
    "\n",
    "histo6.Fit(\"gaus\") #use the standard gauss function. \n",
    "\n",
    "\n",
    "#self.fit1 = self.gHisto.GetFunction(\"gaus\")\n",
    "from ROOT import gStyle\n",
    "gStyle.SetOptFit()\n",
    "histo6.Draw()\n",
    "canvas.Draw()"
   ]
  },
  {
   "cell_type": "markdown",
   "metadata": {},
   "source": [
    "* ## Breit Wigner"
   ]
  },
  {
   "cell_type": "code",
   "execution_count": 4,
   "metadata": {
    "collapsed": true
   },
   "outputs": [],
   "source": [
    "# Breit-Wigner function\n",
    "def mybw(x, par):\n",
    "    arg1 = 14.0/22.0 # 2 over pi\n",
    "    arg2 = par[1]*par[1]*par[2]*par[2] #Gamma=par[1]  M=par[2] \n",
    "    arg3 = ((x[0]*x[0]) - (par[2]*par[2]))*((x[0]*x[0]) - (par[2]*par[2]))\n",
    "    arg4 = x[0]*x[0]*x[0]*x[0]*((par[1]*par[1])/(par[2]*par[2]))\n",
    "    return par[0]*arg1*arg2/(arg3 + arg4)"
   ]
  },
  {
   "cell_type": "code",
   "execution_count": 5,
   "metadata": {
    "collapsed": false,
    "scrolled": false
   },
   "outputs": [
    {
     "name": "stderr",
     "output_type": "stream",
     "text": [
      "TCanvas::Constructor:0: RuntimeWarning: Deleting canvas with same name: myCanvas\n"
     ]
    },
    {
     "data": {
      "image/png": "[encoded data removed]",
      "text/plain": [
       "<IPython.core.display.Image object>"
      ]
     },
     "metadata": {},
     "output_type": "display_data"
    },
    {
     "name": "stdout",
     "output_type": "stream",
     "text": [
      " \n",
      " ------ Results from Breit-Wigner Fit ------ \n",
      " \n",
      " Chi2:   31.3959680694\n",
      " Mean:   90.9169899175  +-  0.244621278815\n",
      " RMS:    2.09858252859  +-  0.0958745898781\n"
     ]
    }
   ],
   "source": [
    "import math\n",
    "\n",
    "gHisto=Gfile.Get('h_mass')\n",
    "\n",
    "### Then create again a new the canvas where the histograms are going to be drawn\n",
    "canvas = ROOT.TCanvas(\"myCanvas\",\"All muons: Pt\",800,600)\n",
    "gHisto.Draw()\n",
    "gHisto.GetXaxis().SetRangeUser(60, 120)\n",
    "gHisto.GetYaxis().SetRangeUser(0, 80)\n",
    "\n",
    "division = gHisto.GetNbinsX()\n",
    "massMIN = gHisto.GetBinLowEdge(1)\n",
    "massMAX = gHisto.GetBinLowEdge(division+1)\n",
    "BIN_SIZE = gHisto.GetBinWidth(1)\n",
    "\n",
    "from ROOT import gStyle, TF1\n",
    "# Create a TF1 object for calling function mybw \n",
    "func = TF1(\"mybw\",mybw,massMIN, massMAX,3)\n",
    "\n",
    "# Set parameter start values for the function\n",
    "func.SetParameter(0, 1)\n",
    "func.SetParameter(2, 5)\n",
    "func.SetParameter(1, 95)\n",
    "\n",
    "gHisto.Fit(\"mybw\",\"QR\")\n",
    "\n",
    "gStyle.SetOptFit()\n",
    "func.Draw(\"same\")\n",
    "\n",
    "canvas.Draw()\n",
    "\n",
    "\n",
    "## Printout fit results\n",
    "\n",
    "chi2 = func.GetChisquare()\n",
    "p1 = math.sqrt(func.GetParameter(1))\n",
    "e1 = func.GetParError(1)\n",
    "p2 = func.GetParameter(2)\n",
    "e2 = func.GetParError(2)\n",
    "\n",
    "print \" \" \n",
    "print \" ------ Results from Breit-Wigner Fit ------ \"\n",
    "print \" \"\n",
    "print \" Chi2:  \",  chi2 \n",
    "print \" Mean:  \",  p2, \" +- \", e2 \n",
    "print \" RMS:   \",  p1, \" +- \", e1/(2*p1)  \n"
   ]
  }
 ],
 "metadata": {
  "celltoolbar": "Edit Metadata",
  "kernelspec": {
   "display_name": "PyROOT (Python 2)",
   "language": "python",
   "name": "root"
  },
  "language_info": {
   "codemirror_mode": {
    "name": "ipython",
    "version": 2
   },
   "file_extension": ".py",
   "mimetype": "text/x-python",
   "name": "python",
   "nbconvert_exporter": "python",
   "pygments_lexer": "ipython2",
   "version": "2.7.6"
  }
 },
 "nbformat": 4,
 "nbformat_minor": 0
}
