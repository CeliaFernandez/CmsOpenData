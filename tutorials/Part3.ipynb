{
 "cells": [
  {
   "cell_type": "markdown",
   "metadata": {},
   "source": [
    "![](../AnalysisDesigner/datafiles/cms.png)\n",
    " \n",
    "# Start an Analysis in Experimental Particle Physics (3) \n",
    "\n",
    "## Part 3: Measure of the Z-boson mass and decay width.\n",
    "\n",
    "\n",
    "\n",
    "#### Fitting the Z mass peak\n",
    "\n",
    "Now you have selected in the [Tutorial 2.2](./Part2.ipynb), those pairs of muons compatibles with a Z-boson, you can perform a statistical analysis to measure the Z mass and decay width. \n",
    "\n",
    "All code you are going to need is provided in Analyzer_Package, so you can access it as many times as you need. We have implemented two different functions usually used for fitting the Z mass peak: a Gaussian and a Breit-Weigner. \n",
    "\n",
    "* [Gaussian](https://en.wikipedia.org/wiki/Normal_distribution) distribution:\n",
    "\n",
    "$$ G(x;\\mu,\\sigma) = \\dfrac{1}{\\sqrt{2\\pi}\\sigma}\\exp[-\\dfrac{(x-\\mu)^{2}}{2\\sigma^{2}}]    $$\n",
    "\n",
    "* [Relativistic Breit-Wigner](https://en.wikipedia.org/wiki/Relativistic_Breit%E2%80%93Wigner_distribution) distribution:\n",
    "\n",
    "$$ B(m;M,\\Gamma)= N * \\dfrac{2}{\\pi}*\\dfrac{\\Gamma^{2}M^{2}}{(m^{2}-M^{2})^{2} + m^{4}(\\Gamma^{2}/M^{2})}   $$\n",
    "\n",
    "To fit a generator-level Z peak a Breit-Wigner fit makes sense. However, reconstructed-level Z peaks have many detector resolutions that smear the Z mass peak. If the detector resolution is relatively poor, then it is usually good enough to fit a gaussian (since the gaussian detector resolution will overwhelm the inherent Briet-Wigner shape of the peak). If the detector resolution is fairly good, then another option is to fit a Breit-Wigner (for the inherent shape) convoluted with a gaussian (to describe the detector effects).This is in the \"no-background\" case. If you have backgrounds in your sample (Drell-Yan, cosmics, etc...), and you want to do the fit over a large mass range, then another function needs to be included to take care of this - an exponential is commonly used. \n",
    " \n",
    "**NOTE:** When you are using a python terminal, you need to import ROOT each time you run an exercise \n"
   ]
  },
  {
   "cell_type": "code",
   "execution_count": 3,
   "metadata": {},
   "outputs": [],
   "source": [
    "# Import ROOT\n",
    "import ROOT"
   ]
  },
  {
   "cell_type": "code",
   "execution_count": 4,
   "metadata": {},
   "outputs": [
    {
     "name": "stdout",
     "output_type": "stream",
     "text": [
      "/home/jovyan/CmsOpenData/AnalysisDesigner\n"
     ]
    }
   ],
   "source": [
    "cd ~/work/CmsOpenData/AnalysisDesigner"
   ]
  },
  {
   "cell_type": "markdown",
   "metadata": {},
   "source": [
    "### Gaussian Fit"
   ]
  },
  {
   "cell_type": "code",
   "execution_count": 8,
   "metadata": {
    "scrolled": false
   },
   "outputs": [
    {
     "name": "stdout",
     "output_type": "stream",
     "text": [
      "Chi/NDF = 2.4784915887033003\n",
      "Fit Probability = 0.0002551376536281259\n",
      " FCN=49.5698 FROM MIGRAD    STATUS=CONVERGED     102 CALLS         103 TOTAL\n",
      "                     EDM=4.654e-10    STRATEGY= 1  ERROR MATRIX UNCERTAINTY   1.9 per cent\n",
      "  EXT PARAMETER                                   STEP         FIRST   \n",
      "  NO.   NAME      VALUE            ERROR          SIZE      DERIVATIVE \n",
      "   1  Constant     5.55464e+01   5.57596e+00  -3.08140e-03   4.27574e-06\n",
      "   2  Mean         9.08595e+01   2.25420e-01   1.26713e-04   9.85401e-05\n",
      "   3  Sigma        2.67855e+00   1.81443e-01  -2.04156e-06  -3.50111e-04\n"
     ]
    },
    {
     "name": "stderr",
     "output_type": "stream",
     "text": [
      "Info in <TCanvas::Print>: png file ../output_histograms/FitGaussfirstTry.png has been created\n"
     ]
    },
    {
     "data": {
      "image/png": "[encoded data removed]",
      "text/plain": [
       "<IPython.core.display.Image object>"
      ]
     },
     "metadata": {},
     "output_type": "display_data"
    }
   ],
   "source": [
    "# Get the root file that contains the histograms for selected muons: goodHistos.root.\n",
    "Gfile = ROOT.TFile(\"datafiles/goodhistos.root\", \"read\")\n",
    "\n",
    "### Then create again a new the canvas where the histograms are going to be drawn\n",
    "canvas = ROOT.TCanvas(\"myCanvas\",\"All muons: Pt\",800,600)\n",
    "\n",
    "histo6=Gfile.Get('h_mass')\n",
    "\n",
    "histo6.GetXaxis().SetRangeUser(60, 120)\n",
    "\n",
    "\n",
    "### One more time, draw the histogram\n",
    "histo6.SetTitle(\"Invariant Mass\")\n",
    "\n",
    "f=ROOT.TF1(\"gauss\",\"gaus\",60,120)\n",
    "\n",
    "histo6.Fit(\"gauss\") #use the standard gauss function. \n",
    "\n",
    "print(\"Chi/NDF = {0}\".format(f.GetChisquare() / f.GetNDF()))\n",
    "print(\"Fit Probability = {0}\".format(f.GetProb()))\n",
    "\n",
    "#self.fit1 = self.gHisto.GetFunction(\"gaus\")\n",
    "from ROOT import gStyle\n",
    "gStyle.SetOptFit(11111111)\n",
    "histo6.Draw()\n",
    "canvas.Draw()\n",
    "\n",
    "name = \"firstTry\"\n",
    "canvas.SaveAs(\"../output_histograms/FitGauss\"+ name +\".png\")"
   ]
  },
  {
   "cell_type": "markdown",
   "metadata": {},
   "source": [
    "### Breit Wigner"
   ]
  },
  {
   "cell_type": "code",
   "execution_count": 9,
   "metadata": {},
   "outputs": [],
   "source": [
    "# Breit-Wigner function\n",
    "def mybw(x, par):\n",
    "    arg1 = 14.0/22.0 # 2 over pi\n",
    "    arg2 = par[1]*par[1]*par[2]*par[2] #Gamma=par[1]  M=par[2] \n",
    "    arg3 = ((x[0]*x[0]) - (par[2]*par[2]))*((x[0]*x[0]) - (par[2]*par[2]))\n",
    "    arg4 = x[0]*x[0]*x[0]*x[0]*((par[1]*par[1])/(par[2]*par[2]))\n",
    "    return par[0]*arg1*arg2/(arg3 + arg4)"
   ]
  },
  {
   "cell_type": "code",
   "execution_count": 10,
   "metadata": {
    "scrolled": false
   },
   "outputs": [
    {
     "name": "stdout",
     "output_type": "stream",
     "text": [
      " \n",
      " ------ Results from Breit-Wigner Fit ------ \n",
      " \n",
      " Chi2 / NDF:      1.569798403469589\n",
      " Fit Probability: 0.05017534593123312\n",
      " Mean:            90.91698991745622 +- 0.24462127881468043\n",
      " Gamma:           4.40404862928905 +- 0.045685403634148705\n"
     ]
    },
    {
     "name": "stderr",
     "output_type": "stream",
     "text": [
      "Warning in <TCanvas::Constructor>: Deleting canvas with same name: myCanvas\n"
     ]
    },
    {
     "data": {
      "image/png": "[encoded data removed]",
      "text/plain": [
       "<IPython.core.display.Image object>"
      ]
     },
     "metadata": {},
     "output_type": "display_data"
    }
   ],
   "source": [
    "import math\n",
    "\n",
    "gHisto=Gfile.Get('h_mass')\n",
    "\n",
    "### Then create again a new the canvas where the histograms are going to be drawn\n",
    "canvas = ROOT.TCanvas(\"myCanvas\",\"All muons: Pt\",800,600)\n",
    "gHisto.Draw()\n",
    "gHisto.GetXaxis().SetRangeUser(60, 120)\n",
    "gHisto.GetYaxis().SetRangeUser(0, 80)\n",
    "\n",
    "division = gHisto.GetNbinsX()\n",
    "massMIN = gHisto.GetBinLowEdge(1)\n",
    "massMAX = gHisto.GetBinLowEdge(division+1)\n",
    "BIN_SIZE = gHisto.GetBinWidth(1)\n",
    "\n",
    "from ROOT import gStyle, TF1\n",
    "# Create a TF1 object for calling function mybw \n",
    "func = TF1(\"mybw\",mybw,massMIN, massMAX,3)\n",
    "\n",
    "# Set parameter start values for the function\n",
    "func.SetParameter(0, 1)\n",
    "func.SetParameter(2, 5)\n",
    "func.SetParameter(1, 95)\n",
    "\n",
    "gHisto.Fit(\"mybw\",\"QR\")\n",
    "\n",
    "gStyle.SetOptFit()\n",
    "func.Draw(\"same\")\n",
    "\n",
    "canvas.Draw()\n",
    "\n",
    "\n",
    "## Printout fit results\n",
    "\n",
    "chi2 = func.GetChisquare()\n",
    "chi2_NDF = func.GetChisquare() / func.GetNDF()\n",
    "prob = func.GetProb()\n",
    "p1 = func.GetParameter(1)\n",
    "e1 = func.GetParError(1)\n",
    "p2 = func.GetParameter(2)\n",
    "e2 = func.GetParError(2)\n",
    "\n",
    "print(\" \")\n",
    "print(\" ------ Results from Breit-Wigner Fit ------ \")\n",
    "print(\" \")\n",
    "print(\" Chi2 / NDF:      {0}\".format(chi2_NDF))\n",
    "print(\" Fit Probability: {0}\".format(prob))\n",
    "print(\" Mean:            {0} +- {1}\".format(p2,e2))\n",
    "print(\" Gamma:           {0} +- {1}\".format(p1,e1/(2*p1))) \n"
   ]
  },
  {
   "cell_type": "markdown",
   "metadata": {},
   "source": [
    "### Breit-Wigner convoluted with a Gaussian"
   ]
  },
  {
   "cell_type": "code",
   "execution_count": 11,
   "metadata": {},
   "outputs": [
    {
     "name": "stdout",
     "output_type": "stream",
     "text": [
      "Fit Output:\n",
      "Z Boson Mass            =  90.81796384430872\n",
      "Z Boson Width           =  3.220335705152856\n",
      "Experimental Resolution =  1.3694882155343915\n",
      "Overall Normalization   =  431.70589469905855\n",
      "\n",
      "Normalized Chi2         =  1.6843795300094186\n",
      "Fit Probability         =  0.03122867775835735\n",
      " FCN=32.0032 FROM MIGRAD    STATUS=CONVERGED     134 CALLS         135 TOTAL\n",
      "                     EDM=3.16533e-09    STRATEGY= 1  ERROR MATRIX UNCERTAINTY   1.3 per cent\n",
      "  EXT PARAMETER                                   STEP         FIRST   \n",
      "  NO.   NAME      VALUE            ERROR          SIZE      DERIVATIVE \n",
      "   1  Z mass       9.08180e+01   2.27522e-01   6.62287e-05  -6.02331e-05\n",
      "   2  Experimental Resolution   1.36949e+00   4.80434e-01  -1.85227e-04   3.77742e-04\n",
      "   3  Z Width      3.22034e+00   7.97292e-01  -2.14940e-04   2.17947e-04\n",
      "   4  Overall Normalization   4.31706e+02   3.06373e+01  -8.75495e-03   1.07245e-07\n"
     ]
    },
    {
     "data": {
      "image/png": "[encoded data removed]",
      "text/plain": [
       "<IPython.core.display.Image object>"
      ]
     },
     "metadata": {},
     "output_type": "display_data"
    }
   ],
   "source": [
    "from ROOT import gROOT, TCanvas, TF1, TF1Convolution\n",
    "\n",
    "myNewHisto=Gfile.Get('h_mass')\n",
    "\n",
    "mathVoigt = TF1(\"mathVoigt\",\"[3]*TMath::Voigt(x-[0],[1],[2],4)\",0,200)\n",
    "\n",
    "mathVoigt.SetParameter(0,myNewHisto.GetMean())\n",
    "mathVoigt.SetParameter(1,myNewHisto.GetRMS())\n",
    "mathVoigt.SetParameter(2,2.4)\n",
    "mathVoigt.SetParameter(3,400)\n",
    "\n",
    "mathVoigt.SetParName(0,\"Z mass\")\n",
    "mathVoigt.SetParName(1,\"Experimental Resolution\")\n",
    "mathVoigt.SetParName(2,\"Z Width\")\n",
    "mathVoigt.SetParName(3,\"Overall Normalization\")\n",
    "\n",
    "canvas3 = ROOT.TCanvas(\"Voigtian\",\"Voigtian\",800,600)\n",
    "\n",
    "myNewHisto.SetLineColor(4)\n",
    "myNewHisto.Draw()\n",
    "myNewHisto.Fit(\"mathVoigt\")\n",
    "\n",
    "canvas3.Draw()\n",
    "\n",
    "print(\"Fit Output:\")\n",
    "print(\"Z Boson Mass            = \", mathVoigt.GetParameter(0))\n",
    "print(\"Z Boson Width           = \", mathVoigt.GetParameter(2))\n",
    "print(\"Experimental Resolution = \", mathVoigt.GetParameter(1))\n",
    "print(\"Overall Normalization   = \", mathVoigt.GetParameter(3))\n",
    "print(\"\")\n",
    "print(\"Normalized Chi2         = \", mathVoigt.GetChisquare() / mathVoigt.GetNDF())\n",
    "print(\"Fit Probability         = \", mathVoigt.GetProb())"
   ]
  }
 ],
 "metadata": {
  "celltoolbar": "Edit Metadata",
  "kernelspec": {
   "display_name": "Python 3",
   "language": "python",
   "name": "python3"
  },
  "language_info": {
   "codemirror_mode": {
    "name": "ipython",
    "version": 3
   },
   "file_extension": ".py",
   "mimetype": "text/x-python",
   "name": "python",
   "nbconvert_exporter": "python",
   "pygments_lexer": "ipython3",
   "version": "3.7.3"
  }
 },
 "nbformat": 4,
 "nbformat_minor": 1
}
